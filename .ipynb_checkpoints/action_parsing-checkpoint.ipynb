{
 "cells": [
  {
   "cell_type": "code",
   "execution_count": 1,
   "metadata": {},
   "outputs": [],
   "source": [
    "%load_ext autoreload\n",
    "%autoreload 2"
   ]
  },
  {
   "cell_type": "code",
   "execution_count": 57,
   "metadata": {},
   "outputs": [],
   "source": [
    "from action import Action\n",
    "from PDDL import PDDL_Parser\n",
    "import sys, pprint\n",
    "from collections import OrderedDict\n",
    "import re, copy"
   ]
  },
  {
   "cell_type": "markdown",
   "metadata": {},
   "source": [
    "**TODO**\n",
    "\n",
    "* Construct pvars\n",
    "* Create EffectType class with eq, lt, hash"
   ]
  },
  {
   "cell_type": "code",
   "execution_count": 3,
   "metadata": {},
   "outputs": [],
   "source": [
    "class EffectType_s():\n",
    "    def __init__(self, tgt, effect):\n",
    "        self.tgt = tgt\n",
    "        self.effect = effect\n",
    "    def __repr__(self):\n",
    "        return f\"ET({self.tgt},{self.effect})\"\n",
    "#     def __eq__(self, other):\n",
    "# \t\treturn z3.eq(self.pvar, other.pvar) and self.index == other.index\n",
    "# \tdef __lt__(self, other):\n",
    "# \t\t# TODO incorporate pvar type into sort.\n",
    "# \t\tif str(self.pvar) > str(other.pvar): return False\n",
    "# \t\tif str(self.pvar) == str(other.pvar) and self.index >= other.index: return False\n",
    "# \t\treturn True\n",
    "# \tdef __hash__(self):\n",
    "# \t\treturn hash((hash(self.pvar), hash(self.index)))"
   ]
  },
  {
   "cell_type": "code",
   "execution_count": 4,
   "metadata": {},
   "outputs": [],
   "source": [
    "def list_is_flat(l):\n",
    "    for x in l: \n",
    "        if isinstance(x, list):\n",
    "            return False\n",
    "    return True"
   ]
  },
  {
   "cell_type": "code",
   "execution_count": 5,
   "metadata": {},
   "outputs": [],
   "source": [
    "def make_EffectType_s(l, is_add = True):\n",
    "    if list_is_flat(l):\n",
    "        tgt = l\n",
    "        effect = is_add\n",
    "    else:\n",
    "        tgt = l[1]\n",
    "        effect = [l[0],l[-1]]\n",
    "    return EffectType_s(tgt, effect)"
   ]
  },
  {
   "cell_type": "code",
   "execution_count": 6,
   "metadata": {},
   "outputs": [],
   "source": [
    "def action2EffectTypes(act):\n",
    "    return [make_EffectType_s(x,True) for x in act.add_effects] + [make_EffectType_s(x,False) for x in act.del_effects]"
   ]
  },
  {
   "cell_type": "code",
   "execution_count": 7,
   "metadata": {},
   "outputs": [],
   "source": [
    "zeno_dom = \"examples/zeno/zeno.pddl\"\n",
    "zeno_prob = \"examples/zeno/pb1.pddl\""
   ]
  },
  {
   "cell_type": "code",
   "execution_count": 8,
   "metadata": {},
   "outputs": [],
   "source": [
    "dinner_dom = \"./examples/dinner/dinner.pddl\"\n",
    "dinner_prob = \"./examples/dinner/pb1.pddl\""
   ]
  },
  {
   "cell_type": "code",
   "execution_count": 9,
   "metadata": {},
   "outputs": [
    {
     "name": "stdout",
     "output_type": "stream",
     "text": [
      "----------------------------\n",
      "----------------------------\n",
      "Domain name: zenotravel\n",
      "~~~Predicates~~~\n",
      "located(OrderedDict([('?x', 'locatable'), ('?c', 'city')])\n",
      "in(OrderedDict([('?p', 'person'), ('?a', 'aircraft')])\n",
      "----------------------------\n",
      "~~~Functions~~~\n",
      "fuel(OrderedDict([('?a', 'aircraft')])\n",
      "distance(OrderedDict([('?c1', 'city'), ('?c2', 'city')])\n",
      "slow-burn(OrderedDict([('?a', 'aircraft')])\n",
      "fast-burn(OrderedDict([('?a', 'aircraft')])\n",
      "capacity(OrderedDict([('?a', 'aircraft')])\n",
      "total-fuel-used(OrderedDict()\n",
      "onboard(OrderedDict([('?a', 'aircraft')])\n",
      "zoom-limit(OrderedDict([('?a', 'aircraft')])\n",
      "----------------------------\n",
      "~~~Actions~~~\n",
      "action: board\n",
      "  parameters: [['?p', 'person'], ['?a', 'aircraft'], ['?c', 'city']]\n",
      "  positive_preconditions: [['located', '?p', '?c'], ['located', '?a', '?c']]\n",
      "  negative_preconditions: []\n",
      "  add_effects: [['in', '?p', '?a'], ['increase', ['onboard', '?a'], '1']]\n",
      "  del_effects: [['located', '?p', '?c']]\n",
      "\n",
      "effect types:\n",
      "\tET(['in', '?p', '?a'],True)\n",
      "\tET(['onboard', '?a'],['increase', '1'])\n",
      "\tET(['located', '?p', '?c'],False)\n",
      "\n",
      "\n",
      "action: debark\n",
      "  parameters: [['?p', 'person'], ['?a', 'aircraft'], ['?c', 'city']]\n",
      "  positive_preconditions: [['in', '?p', '?a'], ['located', '?a', '?c']]\n",
      "  negative_preconditions: []\n",
      "  add_effects: [['located', '?p', '?c'], ['decrease', ['onboard', '?a'], '1']]\n",
      "  del_effects: [['in', '?p', '?a']]\n",
      "\n",
      "effect types:\n",
      "\tET(['located', '?p', '?c'],True)\n",
      "\tET(['onboard', '?a'],['decrease', '1'])\n",
      "\tET(['in', '?p', '?a'],False)\n",
      "\n",
      "\n",
      "action: fly-slow\n",
      "  parameters: [['?a', 'aircraft'], ['?c1', 'city'], ['?c2', 'city']]\n",
      "  positive_preconditions: [['located', '?a', '?c1'], ['>=', ['fuel', '?a'], ['*', ['distance', '?c1', '?c2'], ['slow-burn', '?a']]]]\n",
      "  negative_preconditions: []\n",
      "  add_effects: [['located', '?a', '?c2'], ['increase', ['total-fuel-used'], ['*', ['distance', '?c1', '?c2'], ['slow-burn', '?a']]], ['decrease', ['fuel', '?a'], ['*', ['distance', '?c1', '?c2'], ['slow-burn', '?a']]]]\n",
      "  del_effects: [['located', '?a', '?c1']]\n",
      "\n",
      "effect types:\n",
      "\tET(['located', '?a', '?c2'],True)\n",
      "\tET(['total-fuel-used'],['increase', ['*', ['distance', '?c1', '?c2'], ['slow-burn', '?a']]])\n",
      "\tET(['fuel', '?a'],['decrease', ['*', ['distance', '?c1', '?c2'], ['slow-burn', '?a']]])\n",
      "\tET(['located', '?a', '?c1'],False)\n",
      "\n",
      "\n",
      "action: fly-fast\n",
      "  parameters: [['?a', 'aircraft'], ['?c1', 'city'], ['?c2', 'city']]\n",
      "  positive_preconditions: [['located', '?a', '?c1'], ['>=', ['fuel', '?a'], ['*', ['distance', '?c1', '?c2'], ['fast-burn', '?a']]], ['<=', ['onboard', '?a'], ['zoom-limit', '?a']]]\n",
      "  negative_preconditions: []\n",
      "  add_effects: [['located', '?a', '?c2'], ['increase', ['total-fuel-used'], ['*', ['distance', '?c1', '?c2'], ['fast-burn', '?a']]], ['decrease', ['fuel', '?a'], ['*', ['distance', '?c1', '?c2'], ['fast-burn', '?a']]]]\n",
      "  del_effects: [['located', '?a', '?c1']]\n",
      "\n",
      "effect types:\n",
      "\tET(['located', '?a', '?c2'],True)\n",
      "\tET(['total-fuel-used'],['increase', ['*', ['distance', '?c1', '?c2'], ['fast-burn', '?a']]])\n",
      "\tET(['fuel', '?a'],['decrease', ['*', ['distance', '?c1', '?c2'], ['fast-burn', '?a']]])\n",
      "\tET(['located', '?a', '?c1'],False)\n",
      "\n",
      "\n",
      "action: refuel\n",
      "  parameters: [['?a', 'aircraft']]\n",
      "  positive_preconditions: [['>', ['capacity', '?a'], ['fuel', '?a']]]\n",
      "  negative_preconditions: []\n",
      "  add_effects: [['assign', ['fuel', '?a'], ['capacity', '?a']]]\n",
      "  del_effects: []\n",
      "\n",
      "effect types:\n",
      "\tET(['fuel', '?a'],['assign', ['capacity', '?a']])\n",
      "\n",
      "\n",
      "----------------------------\n",
      "Problem name: ztravel-1-2\n",
      "Objects: {'aircraft': ['plane1'], 'person': ['person3'], 'city': ['city2']}\n",
      "State: [['located', 'plane1', 'city0'], ['=', ['capacity', 'plane1'], '6000'], ['=', ['fuel', 'plane1'], '4000'], ['=', ['slow-burn', 'plane1'], '4'], ['=', ['fast-burn', 'plane1'], '15'], ['=', ['onboard', 'plane1'], '0'], ['=', ['zoom-limit', 'plane1'], '8'], ['located', 'person1', 'city0'], ['located', 'person2', 'city0'], ['located', 'person3', 'city1'], ['=', ['distance', 'city0', 'city0'], '0'], ['=', ['distance', 'city0', 'city1'], '678'], ['=', ['distance', 'city0', 'city2'], '775'], ['=', ['distance', 'city1', 'city0'], '678'], ['=', ['distance', 'city1', 'city1'], '0'], ['=', ['distance', 'city1', 'city2'], '810'], ['=', ['distance', 'city2', 'city0'], '775'], ['=', ['distance', 'city2', 'city1'], '810'], ['=', ['distance', 'city2', 'city2'], '0'], ['=', ['total-fuel-used'], '0']]\n",
      "Positive goals: [['located', 'person1', 'city2'], ['located', 'person2', 'city1'], ['located', 'person3', 'city2']]\n",
      "Negative goals: []\n"
     ]
    }
   ],
   "source": [
    "# domain, problem = dinner_dom, dinner_prob\n",
    "domain, problem = zeno_dom, zeno_prob\n",
    "\n",
    "parser = PDDL_Parser()\n",
    "print('----------------------------')\n",
    "# pprint.pprint(parser.scan_tokens(problem))\n",
    "print('----------------------------')\n",
    "parser.parse_domain(domain)\n",
    "parser.parse_problem(problem)\n",
    "print('Domain name: ' + parser.domain_name)\n",
    "print(f'~~~Types~~~')\n",
    "\n",
    "print(f'~~~Predicates~~~')\n",
    "for nm, args in parser.predicates.items():\n",
    "    print(f\"{nm}({args}\")\n",
    "#     print(\"\")\n",
    "print('----------------------------')\n",
    "print(f'~~~Functions~~~')\n",
    "for nm, args in parser.functions.items():\n",
    "    print(f\"{nm}({args}\")\n",
    "#     print(\"\")\n",
    "print('----------------------------')\n",
    "print('~~~Actions~~~')\n",
    "for act in parser.actions:\n",
    "    print(act)\n",
    "    print(\"effect types:\")\n",
    "    for ef in action2EffectTypes(act): print(f\"\\t{ef}\")\n",
    "    print(\"\\n\")\n",
    "print('----------------------------')\n",
    "print('Problem name: ' + parser.problem_name)\n",
    "print('Objects: ' + str(parser.objects))\n",
    "print('State: ' + str(parser.state))\n",
    "print('Positive goals: ' + str(parser.positive_goals))\n",
    "print('Negative goals: ' + str(parser.negative_goals))"
   ]
  },
  {
   "cell_type": "code",
   "execution_count": 13,
   "metadata": {},
   "outputs": [
    {
     "data": {
      "text/plain": [
       "['locatable', 'city', '-', 'object', 'aircraft', 'person', '-', 'locatable']"
      ]
     },
     "execution_count": 13,
     "metadata": {},
     "output_type": "execute_result"
    }
   ],
   "source": [
    "parser.types"
   ]
  },
  {
   "cell_type": "code",
   "execution_count": 10,
   "metadata": {},
   "outputs": [],
   "source": [
    "nm, var_nm_types = list(parser.predicates.items())[0]"
   ]
  },
  {
   "cell_type": "code",
   "execution_count": 11,
   "metadata": {},
   "outputs": [
    {
     "name": "stdout",
     "output_type": "stream",
     "text": [
      "located\n",
      "OrderedDict([('?x', 'locatable'), ('?c', 'city')])\n"
     ]
    }
   ],
   "source": [
    "print(nm)\n",
    "print(var_nm_types)"
   ]
  },
  {
   "cell_type": "code",
   "execution_count": 12,
   "metadata": {},
   "outputs": [
    {
     "ename": "KeyError",
     "evalue": "'locatable'",
     "output_type": "error",
     "traceback": [
      "\u001b[0;31m---------------------------------------------------------------------------\u001b[0m",
      "\u001b[0;31mKeyError\u001b[0m                                  Traceback (most recent call last)",
      "\u001b[0;32m<ipython-input-12-d765a3263c13>\u001b[0m in \u001b[0;36m<module>\u001b[0;34m\u001b[0m\n\u001b[1;32m      1\u001b[0m \u001b[0mvarnm2objects\u001b[0m \u001b[0;34m=\u001b[0m \u001b[0mOrderedDict\u001b[0m\u001b[0;34m(\u001b[0m\u001b[0;34m)\u001b[0m\u001b[0;34m\u001b[0m\u001b[0;34m\u001b[0m\u001b[0m\n\u001b[1;32m      2\u001b[0m \u001b[0;32mfor\u001b[0m \u001b[0mvarnm\u001b[0m\u001b[0;34m,\u001b[0m \u001b[0mvartype\u001b[0m \u001b[0;32min\u001b[0m \u001b[0mvar_nm_types\u001b[0m\u001b[0;34m.\u001b[0m\u001b[0mitems\u001b[0m\u001b[0;34m(\u001b[0m\u001b[0;34m)\u001b[0m\u001b[0;34m:\u001b[0m\u001b[0;34m\u001b[0m\u001b[0;34m\u001b[0m\u001b[0m\n\u001b[0;32m----> 3\u001b[0;31m     \u001b[0mvarnm2objects\u001b[0m\u001b[0;34m[\u001b[0m\u001b[0mvarnm\u001b[0m\u001b[0;34m]\u001b[0m \u001b[0;34m=\u001b[0m \u001b[0mparser\u001b[0m\u001b[0;34m.\u001b[0m\u001b[0mobjects\u001b[0m\u001b[0;34m[\u001b[0m\u001b[0mvartype\u001b[0m\u001b[0;34m]\u001b[0m\u001b[0;34m\u001b[0m\u001b[0;34m\u001b[0m\u001b[0m\n\u001b[0m",
      "\u001b[0;31mKeyError\u001b[0m: 'locatable'"
     ]
    }
   ],
   "source": [
    "varnm2objects = OrderedDict()\n",
    "for varnm, vartype in var_nm_types.items():\n",
    "    varnm2objects[varnm] = parser.objects[vartype]"
   ]
  },
  {
   "cell_type": "code",
   "execution_count": null,
   "metadata": {},
   "outputs": [],
   "source": [
    "parser.objects"
   ]
  },
  {
   "cell_type": "code",
   "execution_count": null,
   "metadata": {},
   "outputs": [],
   "source": [
    "p[1]"
   ]
  },
  {
   "cell_type": "code",
   "execution_count": null,
   "metadata": {},
   "outputs": [],
   "source": [
    "p_name = p[0]"
   ]
  },
  {
   "cell_type": "code",
   "execution_count": 15,
   "metadata": {},
   "outputs": [],
   "source": [
    "with open(zeno_dom, \"r\") as f:\n",
    "    zd = f.read()"
   ]
  },
  {
   "cell_type": "code",
   "execution_count": 16,
   "metadata": {},
   "outputs": [
    {
     "data": {
      "text/plain": [
       "';; Enrico Scala (enricos83@gmail.com) and Miquel Ramirez (miquel.ramirez@gmail.com)\\n(define (domain zenotravel)\\n; (:requirements :typing :fluents)\\n(:requirements :typing)\\n\\n(:types locatable city - object\\n\\taircraft person - locatable)\\n(:predicates (located ?x - locatable  ?c - city)\\n             (in ?p - person ?a - aircraft))\\n(:functions (fuel ?a - aircraft)\\n            (distance ?c1 - city ?c2 - city)\\n            (slow-burn ?a - aircraft)\\n            (fast-burn ?a - aircraft)\\n            (capacity ?a - aircraft)\\n            (total-fuel-used)\\n\\t    (onboard ?a - aircraft)\\n            (zoom-limit ?a - aircraft)\\n            )\\n\\n\\n(:action board\\n :parameters (?p - person ?a - aircraft ?c - city)\\n :precondition (and (located ?p ?c)\\n                 (located ?a ?c))\\n :effect (and (not (located ?p ?c))\\n              (in ?p ?a)\\n\\t\\t(increase (onboard ?a) 1)))\\n\\n\\n(:action debark\\n :parameters (?p - person ?a - aircraft ?c - city)\\n :precondition (and (in ?p ?a)\\n                 (located ?a ?c))\\n :effect (and (not (in ?p ?a))\\n              (located ?p ?c)\\n\\t\\t(decrease (onboard ?a) 1)))\\n\\n(:action fly-slow\\n :parameters (?a - aircraft ?c1 ?c2 - city)\\n :precondition (and (located ?a ?c1)\\n                 (>= (fuel ?a) \\n                         (* (distance ?c1 ?c2) (slow-burn ?a))))\\n :effect (and (not (located ?a ?c1))\\n              (located ?a ?c2)\\n              (increase (total-fuel-used)\\n                         (* (distance ?c1 ?c2) (slow-burn ?a)))\\n              (decrease (fuel ?a) \\n                         (* (distance ?c1 ?c2) (slow-burn ?a)))))\\n                                  \\n(:action fly-fast\\n :parameters (?a - aircraft ?c1 ?c2 - city)\\n :precondition (and (located ?a ?c1)\\n                 (>= (fuel ?a) \\n                         (* (distance ?c1 ?c2) (fast-burn ?a)))\\n                 (<= (onboard ?a) (zoom-limit ?a)))\\n :effect (and (not (located ?a ?c1))\\n              (located ?a ?c2)\\n              (increase (total-fuel-used)\\n                         (* (distance ?c1 ?c2) (fast-burn ?a)))\\n              (decrease (fuel ?a) \\n                         (* (distance ?c1 ?c2) (fast-burn ?a)))\\n\\t)\\n) \\n\\n(:action refuel\\t\\n :parameters (?a - aircraft)\\n :precondition (and (> (capacity ?a) (fuel ?a))\\n\\n\\t\\t)\\n :effect (and (assign (fuel ?a) (capacity ?a)))\\n)\\n\\n\\n)\\n'"
      ]
     },
     "execution_count": 16,
     "metadata": {},
     "output_type": "execute_result"
    }
   ],
   "source": [
    "zd"
   ]
  },
  {
   "cell_type": "code",
   "execution_count": null,
   "metadata": {},
   "outputs": [],
   "source": [
    "# types_str = re.match('\\(:types([^(])*', zd, flags=(re.DOTALL | re.MULTILINE)); print(types_str)"
   ]
  },
  {
   "cell_type": "markdown",
   "metadata": {},
   "source": [
    "Parsing types from PDDL"
   ]
  },
  {
   "cell_type": "code",
   "execution_count": 35,
   "metadata": {},
   "outputs": [
    {
     "name": "stdout",
     "output_type": "stream",
     "text": [
      "locatable city - object\n",
      "\taircraft person - locatable\n"
     ]
    }
   ],
   "source": [
    "types_str = re.findall(':types ([^()]*)', zd, flags=(re.DOTALL | re.MULTILINE))[0]; print(types_str)"
   ]
  },
  {
   "cell_type": "code",
   "execution_count": 39,
   "metadata": {},
   "outputs": [
    {
     "name": "stdout",
     "output_type": "stream",
     "text": [
      "['locatable city - object', 'aircraft person - locatable']\n"
     ]
    }
   ],
   "source": [
    "types_lines = types_str.replace(\"\\t\",\"\").split(\"\\n\"); print(types_lines)"
   ]
  },
  {
   "cell_type": "code",
   "execution_count": 41,
   "metadata": {},
   "outputs": [
    {
     "name": "stdout",
     "output_type": "stream",
     "text": [
      "('locatable', 'object')\n",
      "('city', 'object')\n",
      "('aircraft', 'locatable')\n",
      "('person', 'locatable')\n"
     ]
    }
   ],
   "source": [
    "types_pairs = []\n",
    "for l in types_lines:\n",
    "    l_split = l.split(\" - \")\n",
    "    subtypes = l_split[0].split(\" \")\n",
    "    base_type = l_split[-1]\n",
    "    for st in subtypes:\n",
    "        types_pairs.append((st, base_type))\n",
    "for tp in types_pairs: print(tp)\n",
    "dom_types = []"
   ]
  },
  {
   "cell_type": "code",
   "execution_count": 42,
   "metadata": {},
   "outputs": [],
   "source": [
    "from itertools import chain"
   ]
  },
  {
   "cell_type": "code",
   "execution_count": 43,
   "metadata": {},
   "outputs": [
    {
     "name": "stdout",
     "output_type": "stream",
     "text": [
      "locatable\n",
      "object\n",
      "city\n",
      "object\n",
      "aircraft\n",
      "locatable\n",
      "person\n",
      "locatable\n"
     ]
    }
   ],
   "source": [
    "for x in chain(*types_pairs): print(x)"
   ]
  },
  {
   "cell_type": "code",
   "execution_count": 45,
   "metadata": {},
   "outputs": [
    {
     "data": {
      "text/plain": [
       "['aircraft', 'city', 'locatable', 'object', 'person']"
      ]
     },
     "execution_count": 45,
     "metadata": {},
     "output_type": "execute_result"
    }
   ],
   "source": [
    "dom_types = sorted(list(set(chain(*types_pairs)))); dom_types"
   ]
  },
  {
   "cell_type": "code",
   "execution_count": 54,
   "metadata": {},
   "outputs": [
    {
     "data": {
      "text/plain": [
       "[('locatable', 'object'),\n",
       " ('city', 'object'),\n",
       " ('aircraft', 'locatable'),\n",
       " ('person', 'locatable')]"
      ]
     },
     "execution_count": 54,
     "metadata": {},
     "output_type": "execute_result"
    }
   ],
   "source": [
    "types_pairs"
   ]
  },
  {
   "cell_type": "code",
   "execution_count": 67,
   "metadata": {},
   "outputs": [],
   "source": [
    "def get_children(hierarchy, base):\n",
    "    children = []\n",
    "    for child, parent in hierarchy:\n",
    "        if parent in base and child not in children:\n",
    "            children.append(child)\n",
    "    return children"
   ]
  },
  {
   "cell_type": "code",
   "execution_count": null,
   "metadata": {},
   "outputs": [],
   "source": [
    "def get_descendants(hierarchy, base):\n",
    "    children = get_children(hierarchy, base)\n",
    "    if len(children) > 0:\n",
    "        pass"
   ]
  },
  {
   "cell_type": "code",
   "execution_count": 61,
   "metadata": {},
   "outputs": [],
   "source": [
    "def get_descendants(hierarchy, base):\n",
    "    \"\"\"\n",
    "    :param hierarchy: Iterable. Each element is pair (child, parent)\n",
    "    :param base: List of parent objects\n",
    "    :return: All descendants of base objects (including base)\n",
    "    \"\"\"\n",
    "    descendants_old = sorted(copy.copy(base))\n",
    "    descendants = sorted(copy.copy(base))\n",
    "    converged = False\n",
    "    while not converged:\n",
    "#         descendants = copy.copy(base)\n",
    "        for child, parent in hierarchy:\n",
    "            if parent in base and child not in descendants:\n",
    "                descendants.append(child)\n",
    "        descendants = sorted(descendants)\n",
    "        descendants_old = sorted(descendants_old)\n",
    "        if descendants == descendants_old:\n",
    "            converged = True\n",
    "        descendants_old = descendants\n",
    "    return descendants"
   ]
  },
  {
   "cell_type": "code",
   "execution_count": 68,
   "metadata": {},
   "outputs": [
    {
     "data": {
      "text/plain": [
       "['locatable', 'city']"
      ]
     },
     "execution_count": 68,
     "metadata": {},
     "output_type": "execute_result"
    }
   ],
   "source": [
    "get_children(types_pairs, [\"object\"])"
   ]
  },
  {
   "cell_type": "code",
   "execution_count": null,
   "metadata": {},
   "outputs": [],
   "source": []
  }
 ],
 "metadata": {
  "kernelspec": {
   "display_name": "Python 3",
   "language": "python",
   "name": "python3"
  },
  "language_info": {
   "codemirror_mode": {
    "name": "ipython",
    "version": 3
   },
   "file_extension": ".py",
   "mimetype": "text/x-python",
   "name": "python",
   "nbconvert_exporter": "python",
   "pygments_lexer": "ipython3",
   "version": "3.7.7"
  }
 },
 "nbformat": 4,
 "nbformat_minor": 4
}
