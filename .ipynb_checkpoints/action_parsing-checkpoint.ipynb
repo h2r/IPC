{
 "cells": [
  {
   "cell_type": "code",
   "execution_count": 1,
   "metadata": {},
   "outputs": [],
   "source": [
    "%load_ext autoreload\n",
    "%autoreload 2"
   ]
  },
  {
   "cell_type": "code",
   "execution_count": 2,
   "metadata": {},
   "outputs": [],
   "source": [
    "from action import Action\n",
    "from PDDL import PDDL_Parser\n",
    "import sys, pprint"
   ]
  },
  {
   "cell_type": "code",
   "execution_count": 3,
   "metadata": {},
   "outputs": [],
   "source": [
    "class EffectType_s():\n",
    "    def __init__(self, tgt, effect):\n",
    "        self.tgt = tgt\n",
    "        self.effect = effect\n",
    "    def __repr__(self):\n",
    "        return f\"ET({self.tgt},{self.effect})\""
   ]
  },
  {
   "cell_type": "code",
   "execution_count": 8,
   "metadata": {},
   "outputs": [],
   "source": [
    "def list_is_flat(l):\n",
    "    for x in l: \n",
    "        if isinstance(x, list):\n",
    "            return False\n",
    "    return True"
   ]
  },
  {
   "cell_type": "code",
   "execution_count": 4,
   "metadata": {},
   "outputs": [],
   "source": [
    "def make_EffectType_s(l, is_add = True):\n",
    "    if list_is_flat(l):\n",
    "        tgt = l\n",
    "        effect = is_add\n",
    "    else:\n",
    "        tgt = l[1]\n",
    "        effect = [l[0],l[-1]]\n",
    "    return EffectType_s(tgt, effect)"
   ]
  },
  {
   "cell_type": "code",
   "execution_count": 5,
   "metadata": {},
   "outputs": [],
   "source": [
    "def action2EffectTypes(act):\n",
    "    return [make_EffectType_s(x,True) for x in act.add_effects] + [make_EffectType_s(x,False) for x in act.del_effects]"
   ]
  },
  {
   "cell_type": "code",
   "execution_count": 6,
   "metadata": {},
   "outputs": [],
   "source": [
    "zeno_dom = \"examples/zeno/zeno.pddl\"\n",
    "zeno_prob = \"examples/zeno/pb1.pddl\""
   ]
  },
  {
   "cell_type": "code",
   "execution_count": 11,
   "metadata": {},
   "outputs": [
    {
     "name": "stdout",
     "output_type": "stream",
     "text": [
      "----------------------------\n",
      "----------------------------\n",
      ":functions is not recognized in domain\n",
      "Domain name: zenotravel\n",
      "action: board\n",
      "  parameters: [['?p', 'person'], ['?a', 'aircraft'], ['?c', 'city']]\n",
      "  positive_preconditions: [['located', '?p', '?c'], ['located', '?a', '?c']]\n",
      "  negative_preconditions: []\n",
      "  add_effects: [['in', '?p', '?a'], ['increase', ['onboard', '?a'], '1']]\n",
      "  del_effects: [['located', '?p', '?c']]\n",
      "\n",
      "effect types:\n",
      "\tET(['in', '?p', '?a'],True)\n",
      "\tET(['onboard', '?a'],['increase', '1'])\n",
      "\tET(['located', '?p', '?c'],False)\n",
      "\n",
      "\n",
      "action: debark\n",
      "  parameters: [['?p', 'person'], ['?a', 'aircraft'], ['?c', 'city']]\n",
      "  positive_preconditions: [['in', '?p', '?a'], ['located', '?a', '?c']]\n",
      "  negative_preconditions: []\n",
      "  add_effects: [['located', '?p', '?c'], ['decrease', ['onboard', '?a'], '1']]\n",
      "  del_effects: [['in', '?p', '?a']]\n",
      "\n",
      "effect types:\n",
      "\tET(['located', '?p', '?c'],True)\n",
      "\tET(['onboard', '?a'],['decrease', '1'])\n",
      "\tET(['in', '?p', '?a'],False)\n",
      "\n",
      "\n",
      "action: fly-slow\n",
      "  parameters: [['?a', 'aircraft'], ['?c1', 'city'], ['?c2', 'city']]\n",
      "  positive_preconditions: [['located', '?a', '?c1'], ['>=', ['fuel', '?a'], ['*', ['distance', '?c1', '?c2'], ['slow-burn', '?a']]]]\n",
      "  negative_preconditions: []\n",
      "  add_effects: [['located', '?a', '?c2'], ['increase', ['total-fuel-used'], ['*', ['distance', '?c1', '?c2'], ['slow-burn', '?a']]], ['decrease', ['fuel', '?a'], ['*', ['distance', '?c1', '?c2'], ['slow-burn', '?a']]]]\n",
      "  del_effects: [['located', '?a', '?c1']]\n",
      "\n",
      "effect types:\n",
      "\tET(['located', '?a', '?c2'],True)\n",
      "\tET(['total-fuel-used'],['increase', ['*', ['distance', '?c1', '?c2'], ['slow-burn', '?a']]])\n",
      "\tET(['fuel', '?a'],['decrease', ['*', ['distance', '?c1', '?c2'], ['slow-burn', '?a']]])\n",
      "\tET(['located', '?a', '?c1'],False)\n",
      "\n",
      "\n",
      "action: fly-fast\n",
      "  parameters: [['?a', 'aircraft'], ['?c1', 'city'], ['?c2', 'city']]\n",
      "  positive_preconditions: [['located', '?a', '?c1'], ['>=', ['fuel', '?a'], ['*', ['distance', '?c1', '?c2'], ['fast-burn', '?a']]], ['<=', ['onboard', '?a'], ['zoom-limit', '?a']]]\n",
      "  negative_preconditions: []\n",
      "  add_effects: [['located', '?a', '?c2'], ['increase', ['total-fuel-used'], ['*', ['distance', '?c1', '?c2'], ['fast-burn', '?a']]], ['decrease', ['fuel', '?a'], ['*', ['distance', '?c1', '?c2'], ['fast-burn', '?a']]]]\n",
      "  del_effects: [['located', '?a', '?c1']]\n",
      "\n",
      "effect types:\n",
      "\tET(['located', '?a', '?c2'],True)\n",
      "\tET(['total-fuel-used'],['increase', ['*', ['distance', '?c1', '?c2'], ['fast-burn', '?a']]])\n",
      "\tET(['fuel', '?a'],['decrease', ['*', ['distance', '?c1', '?c2'], ['fast-burn', '?a']]])\n",
      "\tET(['located', '?a', '?c1'],False)\n",
      "\n",
      "\n",
      "action: refuel\n",
      "  parameters: [['?a', 'aircraft']]\n",
      "  positive_preconditions: [['>', ['capacity', '?a'], ['fuel', '?a']]]\n",
      "  negative_preconditions: []\n",
      "  add_effects: [['assign', ['fuel', '?a'], ['capacity', '?a']]]\n",
      "  del_effects: []\n",
      "\n",
      "effect types:\n",
      "\tET(['fuel', '?a'],['assign', ['capacity', '?a']])\n",
      "\n",
      "\n",
      "----------------------------\n",
      "Problem name: ztravel-1-2\n",
      "Objects: {'aircraft': ['plane1'], 'person': ['person3'], 'city': ['city2']}\n",
      "State: [['located', 'plane1', 'city0'], ['=', ['capacity', 'plane1'], '6000'], ['=', ['fuel', 'plane1'], '4000'], ['=', ['slow-burn', 'plane1'], '4'], ['=', ['fast-burn', 'plane1'], '15'], ['=', ['onboard', 'plane1'], '0'], ['=', ['zoom-limit', 'plane1'], '8'], ['located', 'person1', 'city0'], ['located', 'person2', 'city0'], ['located', 'person3', 'city1'], ['=', ['distance', 'city0', 'city0'], '0'], ['=', ['distance', 'city0', 'city1'], '678'], ['=', ['distance', 'city0', 'city2'], '775'], ['=', ['distance', 'city1', 'city0'], '678'], ['=', ['distance', 'city1', 'city1'], '0'], ['=', ['distance', 'city1', 'city2'], '810'], ['=', ['distance', 'city2', 'city0'], '775'], ['=', ['distance', 'city2', 'city1'], '810'], ['=', ['distance', 'city2', 'city2'], '0'], ['=', ['total-fuel-used'], '0']]\n",
      "Positive goals: [['located', 'person1', 'city2'], ['located', 'person2', 'city1'], ['located', 'person3', 'city2']]\n",
      "Negative goals: []\n"
     ]
    }
   ],
   "source": [
    "domain, problem = zeno_dom, zeno_prob\n",
    "parser = PDDL_Parser()\n",
    "print('----------------------------')\n",
    "# pprint.pprint(parser.scan_tokens(problem))\n",
    "print('----------------------------')\n",
    "parser.parse_domain(domain)\n",
    "parser.parse_problem(problem)\n",
    "print('Domain name: ' + parser.domain_name)\n",
    "for act in parser.actions:\n",
    "    print(act)\n",
    "    print(\"effect types:\")\n",
    "    for ef in action2EffectTypes(act): print(f\"\\t{ef}\")\n",
    "    print(\"\\n\")\n",
    "print('----------------------------')\n",
    "print('Problem name: ' + parser.problem_name)\n",
    "print('Objects: ' + str(parser.objects))\n",
    "print('State: ' + str(parser.state))\n",
    "print('Positive goals: ' + str(parser.positive_goals))\n",
    "print('Negative goals: ' + str(parser.negative_goals))"
   ]
  }
 ],
 "metadata": {
  "kernelspec": {
   "display_name": "Python 3",
   "language": "python",
   "name": "python3"
  },
  "language_info": {
   "codemirror_mode": {
    "name": "ipython",
    "version": 3
   },
   "file_extension": ".py",
   "mimetype": "text/x-python",
   "name": "python",
   "nbconvert_exporter": "python",
   "pygments_lexer": "ipython3",
   "version": "3.7.7"
  }
 },
 "nbformat": 4,
 "nbformat_minor": 4
}
