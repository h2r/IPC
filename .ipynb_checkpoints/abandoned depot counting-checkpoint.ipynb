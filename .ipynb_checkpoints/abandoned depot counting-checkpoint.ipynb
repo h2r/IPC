{
 "cells": [
  {
   "cell_type": "code",
   "execution_count": 2,
   "metadata": {},
   "outputs": [],
   "source": [
    "from collections import OrderedDict()\n",
    "from itertools import product"
   ]
  },
  {
   "cell_type": "markdown",
   "metadata": {},
   "source": [
    "crates on pallets are ordered. Crates on trucks are unordered. Hoist can have 0 or 1 crate"
   ]
  },
  {
   "cell_type": "markdown",
   "metadata": {},
   "source": [
    "Crates in trucks, or not"
   ]
  },
  {
   "cell_type": "markdown",
   "metadata": {},
   "source": [
    "each hoist is lifitng one or zero crates"
   ]
  },
  {
   "cell_type": "markdown",
   "metadata": {},
   "source": [
    "* Pick places for crates\n",
    "* Pick which hoists have crate or none\n",
    "* With remaining crates, distribute to trucks and pallets\n",
    "* Order crates on pallets"
   ]
  },
  {
   "cell_type": "code",
   "execution_count": null,
   "metadata": {},
   "outputs": [],
   "source": [
    "pallets = []"
   ]
  },
  {
   "cell_type": "code",
   "execution_count": 1,
   "metadata": {},
   "outputs": [],
   "source": [
    "# (n_pallet, n_hoist)\n",
    "places = [(1,1), (1,1), (1,1)]\n",
    "n_trucks = 2\n",
    "n_crates = 6"
   ]
  },
  {
   "cell_type": "code",
   "execution_count": 4,
   "metadata": {},
   "outputs": [
    {
     "name": "stdout",
     "output_type": "stream",
     "text": [
      "[(0, 0), (0, 1), (0, 2), (1, 0), (1, 1), (1, 2), (2, 0), (2, 1), (2, 2)]\n"
     ]
    }
   ],
   "source": [
    "# Loop over place-truck assignments\n",
    "truck_places_options = list(product(range(len(places)),repeat=n_trucks)); print(truck_places_options)\n",
    "crate_places_options = list(product(range(len(places)),repeat=n_crates)) #Too big to print\n",
    "total_states = 0\n",
    "for truck_places in truck_places_options:\n",
    "    for crate_places in crate_places_options:\n",
    "        \n",
    "        place2crates = OrderedDict()\n",
    "        for crate_id, place_id in enumerate(crate_places):\n",
    "            if place_id not in place2crates.keys():\n",
    "                place2crates[place_id] = []\n",
    "            place2crates[place_id].append(crate_id)\n",
    "            \n",
    "        states_this_placement = 0\n",
    "#         For each place, choose which crate if any is hoisted\n",
    "        for place_id, p in enumerate(places):\n",
    "            n_crates_this_place = len(place2crates[place_id])\n",
    "            if n_crates_this_place > 0:\n",
    "                "
   ]
  }
 ],
 "metadata": {
  "kernelspec": {
   "display_name": "Python 3",
   "language": "python",
   "name": "python3"
  },
  "language_info": {
   "codemirror_mode": {
    "name": "ipython",
    "version": 3
   },
   "file_extension": ".py",
   "mimetype": "text/x-python",
   "name": "python",
   "nbconvert_exporter": "python",
   "pygments_lexer": "ipython3",
   "version": "3.7.7"
  }
 },
 "nbformat": 4,
 "nbformat_minor": 4
}
