{
 "cells": [
  {
   "cell_type": "code",
   "execution_count": 1,
   "metadata": {
    "tags": []
   },
   "outputs": [],
   "source": [
    "%load_ext autoreload\n",
    "%autoreload 2"
   ]
  },
  {
   "cell_type": "code",
   "execution_count": 2,
   "metadata": {},
   "outputs": [],
   "source": [
    "class EffectType_s():\n",
    "    def __init__(self, tgt, effect):\n",
    "        self.tgt = tgt\n",
    "        self.effect = effect\n",
    "    def __repr__(self):\n",
    "        return f\"ET({self.tgt},{self.effect})\"\n",
    "#     def __eq__(self, other):\n",
    "# \t\treturn z3.eq(self.pvar, other.pvar) and self.index == other.index\n",
    "# \tdef __lt__(self, other):\n",
    "# \t\t# TODO incorporate pvar type into sort.\n",
    "# \t\tif str(self.pvar) > str(other.pvar): return False\n",
    "# \t\tif str(self.pvar) == str(other.pvar) and self.index >= other.index: return False\n",
    "# \t\treturn True\n",
    "# \tdef __hash__(self):\n",
    "# \t\treturn hash((hash(self.pvar), hash(self.index)))"
   ]
  },
  {
   "cell_type": "code",
   "execution_count": 3,
   "metadata": {},
   "outputs": [],
   "source": [
    "from action import Action\n",
    "from PDDL import PDDL_Parser\n",
    "import sys, pprint\n",
    "from collections import OrderedDict\n",
    "import re, copy\n",
    "import itertools\n",
    "import z3"
   ]
  },
  {
   "cell_type": "markdown",
   "metadata": {},
   "source": [
    "**TODO**\n",
    "\n",
    "* Construct pvars\n",
    "* Create Skill with parameters\n",
    "    * Create EffectType with str index, instead of int index. This way we can put the details of the effect into the index. Maybe add parameters attribtue to EffectType?"
   ]
  },
  {
   "cell_type": "code",
   "execution_count": 4,
   "metadata": {},
   "outputs": [],
   "source": [
    "def list_is_flat(l):\n",
    "    for x in l: \n",
    "        if isinstance(x, list):\n",
    "            return False\n",
    "    return True"
   ]
  },
  {
   "cell_type": "code",
   "execution_count": 5,
   "metadata": {},
   "outputs": [],
   "source": [
    "def make_EffectType_s(l, is_add = True):\n",
    "    if list_is_flat(l):\n",
    "        tgt = l\n",
    "        effect = is_add\n",
    "    else:\n",
    "        tgt = l[1]\n",
    "        effect = [l[0],l[-1]]\n",
    "    return EffectType_s(tgt, effect)"
   ]
  },
  {
   "cell_type": "code",
   "execution_count": 6,
   "metadata": {},
   "outputs": [],
   "source": [
    "def action2EffectTypes(act):\n",
    "    return [make_EffectType_s(x,True) for x in act.add_effects] + [make_EffectType_s(x,False) for x in act.del_effects]"
   ]
  },
  {
   "cell_type": "code",
   "execution_count": 7,
   "metadata": {},
   "outputs": [],
   "source": [
    "zeno_dom = \"examples/zeno/zeno.pddl\"\n",
    "zeno_prob = \"examples/zeno/pb1.pddl\""
   ]
  },
  {
   "cell_type": "code",
   "execution_count": 8,
   "metadata": {},
   "outputs": [],
   "source": [
    "dinner_dom = \"./examples/dinner/dinner.pddl\"\n",
    "dinner_prob = \"./examples/dinner/pb1.pddl\""
   ]
  },
  {
   "cell_type": "code",
   "execution_count": 9,
   "metadata": {
    "collapsed": true,
    "jupyter": {
     "outputs_hidden": true
    },
    "tags": []
   },
   "outputs": [
    {
     "name": "stdout",
     "output_type": "stream",
     "text": [
      "----------------------------\n",
      "----------------------------\n",
      "['locatable city - object', 'aircraft person - locatable']\n",
      "Domain name: zenotravel\n",
      "~~~Types~~~\n",
      "aircraft\n",
      "city\n",
      "locatable\n",
      "object\n",
      "person\n",
      "~~~Type Hierarchy~~~\n",
      "aircraft: []\n",
      "city: []\n",
      "locatable: ['aircraft', 'person']\n",
      "object: ['city', 'locatable']\n",
      "person: []\n",
      "~~~Predicates~~~\n",
      "located(OrderedDict([('?x', 'locatable'), ('?c', 'city')])\n",
      "in(OrderedDict([('?p', 'person'), ('?a', 'aircraft')])\n",
      "----------------------------\n",
      "~~~Functions~~~\n",
      "fuel(OrderedDict([('?a', 'aircraft')])\n",
      "distance(OrderedDict([('?c1', 'city'), ('?c2', 'city')])\n",
      "slow-burn(OrderedDict([('?a', 'aircraft')])\n",
      "fast-burn(OrderedDict([('?a', 'aircraft')])\n",
      "capacity(OrderedDict([('?a', 'aircraft')])\n",
      "total-fuel-used(OrderedDict()\n",
      "onboard(OrderedDict([('?a', 'aircraft')])\n",
      "zoom-limit(OrderedDict([('?a', 'aircraft')])\n",
      "----------------------------\n",
      "~~~Actions~~~\n",
      "action: board\n",
      "  parameters: [['?p', 'person'], ['?a', 'aircraft'], ['?c', 'city']]\n",
      "  positive_preconditions: [['located', '?p', '?c'], ['located', '?a', '?c']]\n",
      "  negative_preconditions: []\n",
      "  add_effects: [['in', '?p', '?a'], ['increase', ['onboard', '?a'], '1']]\n",
      "  del_effects: [['located', '?p', '?c']]\n",
      "\n",
      "\n",
      "\n",
      "action: debark\n",
      "  parameters: [['?p', 'person'], ['?a', 'aircraft'], ['?c', 'city']]\n",
      "  positive_preconditions: [['in', '?p', '?a'], ['located', '?a', '?c']]\n",
      "  negative_preconditions: []\n",
      "  add_effects: [['located', '?p', '?c'], ['decrease', ['onboard', '?a'], '1']]\n",
      "  del_effects: [['in', '?p', '?a']]\n",
      "\n",
      "\n",
      "\n",
      "action: fly-slow\n",
      "  parameters: [['?a', 'aircraft'], ['?c1', 'city'], ['?c2', 'city']]\n",
      "  positive_preconditions: [['located', '?a', '?c1'], ['>=', ['fuel', '?a'], ['*', ['distance', '?c1', '?c2'], ['slow-burn', '?a']]]]\n",
      "  negative_preconditions: []\n",
      "  add_effects: [['located', '?a', '?c2'], ['increase', ['total-fuel-used'], ['*', ['distance', '?c1', '?c2'], ['slow-burn', '?a']]], ['decrease', ['fuel', '?a'], ['*', ['distance', '?c1', '?c2'], ['slow-burn', '?a']]]]\n",
      "  del_effects: [['located', '?a', '?c1']]\n",
      "\n",
      "\n",
      "\n",
      "action: fly-fast\n",
      "  parameters: [['?a', 'aircraft'], ['?c1', 'city'], ['?c2', 'city']]\n",
      "  positive_preconditions: [['located', '?a', '?c1'], ['>=', ['fuel', '?a'], ['*', ['distance', '?c1', '?c2'], ['fast-burn', '?a']]], ['<=', ['onboard', '?a'], ['zoom-limit', '?a']]]\n",
      "  negative_preconditions: []\n",
      "  add_effects: [['located', '?a', '?c2'], ['increase', ['total-fuel-used'], ['*', ['distance', '?c1', '?c2'], ['fast-burn', '?a']]], ['decrease', ['fuel', '?a'], ['*', ['distance', '?c1', '?c2'], ['fast-burn', '?a']]]]\n",
      "  del_effects: [['located', '?a', '?c1']]\n",
      "\n",
      "\n",
      "\n",
      "action: refuel\n",
      "  parameters: [['?a', 'aircraft']]\n",
      "  positive_preconditions: [['>', ['capacity', '?a'], ['fuel', '?a']]]\n",
      "  negative_preconditions: []\n",
      "  add_effects: [['assign', ['fuel', '?a'], ['capacity', '?a']]]\n",
      "  del_effects: []\n",
      "\n",
      "\n",
      "\n",
      "----------------------------\n",
      "Problem name: ztravel-1-2\n",
      "Objects: {'aircraft': ['plane1'], 'person': ['person1', 'person2', 'person3'], 'city': ['city0', 'city1', 'city2']}\n",
      "State: [['located', 'plane1', 'city0'], ['=', ['capacity', 'plane1'], '6000'], ['=', ['fuel', 'plane1'], '4000'], ['=', ['slow-burn', 'plane1'], '4'], ['=', ['fast-burn', 'plane1'], '15'], ['=', ['onboard', 'plane1'], '0'], ['=', ['zoom-limit', 'plane1'], '8'], ['located', 'person1', 'city0'], ['located', 'person2', 'city0'], ['located', 'person3', 'city1'], ['=', ['distance', 'city0', 'city0'], '0'], ['=', ['distance', 'city0', 'city1'], '678'], ['=', ['distance', 'city0', 'city2'], '775'], ['=', ['distance', 'city1', 'city0'], '678'], ['=', ['distance', 'city1', 'city1'], '0'], ['=', ['distance', 'city1', 'city2'], '810'], ['=', ['distance', 'city2', 'city0'], '775'], ['=', ['distance', 'city2', 'city1'], '810'], ['=', ['distance', 'city2', 'city2'], '0'], ['=', ['total-fuel-used'], '0']]\n",
      "Positive goals: [['located', 'person1', 'city2'], ['located', 'person2', 'city1'], ['located', 'person3', 'city2']]\n",
      "Negative goals: []\n"
     ]
    }
   ],
   "source": [
    "# domain, problem = dinner_dom, dinner_prob\n",
    "domain, problem = zeno_dom, zeno_prob\n",
    "\n",
    "parser = PDDL_Parser()\n",
    "print('----------------------------')\n",
    "# pprint.pprint(parser.scan_tokens(problem))\n",
    "print('----------------------------')\n",
    "parser.parse_domain(domain)\n",
    "parser.parse_problem(problem)\n",
    "print('Domain name: ' + parser.domain_name)\n",
    "print(f'~~~Types~~~')\n",
    "for t in parser.types: print(t)\n",
    "print(f'~~~Type Hierarchy~~~')\n",
    "for k,v in parser.type_hierarchy.items():\n",
    "    print(f\"{k}: {v}\")\n",
    "print(f'~~~Predicates~~~')\n",
    "for nm, args in parser.predicates.items():\n",
    "    print(f\"{nm}({args}\")\n",
    "#     print(\"\")\n",
    "print('----------------------------')\n",
    "print(f'~~~Functions~~~')\n",
    "for nm, args in parser.functions.items():\n",
    "    print(f\"{nm}({args}\")\n",
    "#     print(\"\")\n",
    "print('----------------------------')\n",
    "print('~~~Actions~~~')\n",
    "for act in parser.actions:\n",
    "    print(act)\n",
    "    # print(\"effect types:\")\n",
    "    # for ef in action2EffectTypes(act): print(f\"\\t{ef}\")\n",
    "    print(\"\\n\")\n",
    "print('----------------------------')\n",
    "print('Problem name: ' + parser.problem_name)\n",
    "print('Objects: ' + str(parser.objects))\n",
    "print('State: ' + str(parser.state))\n",
    "print('Positive goals: ' + str(parser.positive_goals))\n",
    "print('Negative goals: ' + str(parser.negative_goals))"
   ]
  },
  {
   "cell_type": "code",
   "execution_count": 10,
   "metadata": {},
   "outputs": [
    {
     "data": {
      "text/plain": [
       "['aircraft', 'city', 'locatable', 'object', 'person']"
      ]
     },
     "execution_count": 10,
     "metadata": {},
     "output_type": "execute_result"
    }
   ],
   "source": [
    "parser.types"
   ]
  },
  {
   "cell_type": "code",
   "execution_count": 11,
   "metadata": {},
   "outputs": [
    {
     "name": "stdout",
     "output_type": "stream",
     "text": [
      "located\n",
      "OrderedDict([('?x', 'locatable'), ('?c', 'city')])\n",
      "varnm2objects:\n",
      "OrderedDict([('?x', ['plane1', 'person1', 'person2', 'person3']), ('?c', ['city0', 'city1', 'city2'])])\n",
      "\n",
      "[('plane1', 'city0'), ('plane1', 'city1'), ('plane1', 'city2'), ('person1', 'city0'), ('person1', 'city1'), ('person1', 'city2'), ('person2', 'city0'), ('person2', 'city1'), ('person2', 'city2'), ('person3', 'city0'), ('person3', 'city1'), ('person3', 'city2')]\n",
      "[located('plane1', 'city0'), located('plane1', 'city1'), located('plane1', 'city2'), located('person1', 'city0'), located('person1', 'city1'), located('person1', 'city2'), located('person2', 'city0'), located('person2', 'city1'), located('person2', 'city2'), located('person3', 'city0'), located('person3', 'city1'), located('person3', 'city2')]\n"
     ]
    }
   ],
   "source": [
    "nm, var_nm_types = list(parser.predicates.items())[0]\n",
    "\n",
    "print(nm)\n",
    "print(var_nm_types)\n",
    "\n",
    "varnm2objects = OrderedDict()\n",
    "for varnm, vartype in var_nm_types.items():\n",
    "    subtypes = parser.get_subtypes([vartype])\n",
    "    valid_objects = []\n",
    "    for st in subtypes:\n",
    "        if st in parser.objects.keys():\n",
    "            valid_objects.extend(parser.objects[st])\n",
    "    varnm2objects[varnm] = valid_objects\n",
    "\n",
    "print(f\"varnm2objects:\\n{varnm2objects}\\n\")\n",
    "\n",
    "# Note: the * operator here is used to unpack the values so the itertools.product function\n",
    "# can operate over all of them as opposed to producting a single list (which is useless)\n",
    "grounded_pvar_predicate_list = list(itertools.product(*varnm2objects.values()))\n",
    "print(grounded_pvar_predicate_list)\n",
    "\n",
    "predicate_z3_list = []\n",
    "for arg_tuple in grounded_pvar_predicate_list:\n",
    "    predicate_z3_list.append(z3.Bool(nm+str(arg_tuple)))\n",
    "print(predicate_z3_list)"
   ]
  },
  {
   "cell_type": "code",
   "execution_count": 12,
   "metadata": {},
   "outputs": [
    {
     "name": "stdout",
     "output_type": "stream",
     "text": [
      "action: board\n",
      "  parameters: [['?p', 'person'], ['?a', 'aircraft'], ['?c', 'city']]\n",
      "  positive_preconditions: [['located', '?p', '?c'], ['located', '?a', '?c']]\n",
      "  negative_preconditions: []\n",
      "  add_effects: [['in', '?p', '?a'], ['increase', ['onboard', '?a'], '1']]\n",
      "  del_effects: [['located', '?p', '?c']]\n",
      "\n"
     ]
    }
   ],
   "source": [
    "a = parser.actions[0]; print(a)"
   ]
  },
  {
   "cell_type": "code",
   "execution_count": 13,
   "metadata": {},
   "outputs": [
    {
     "data": {
      "text/plain": [
       "[['located', '?p', '?c'], ['located', '?a', '?c']]"
      ]
     },
     "execution_count": 13,
     "metadata": {},
     "output_type": "execute_result"
    }
   ],
   "source": [
    "a.positive_preconditions"
   ]
  },
  {
   "cell_type": "markdown",
   "metadata": {},
   "source": [
    "# Ground action"
   ]
  },
  {
   "cell_type": "code",
   "execution_count": 14,
   "metadata": {
    "collapsed": true,
    "jupyter": {
     "outputs_hidden": true
    }
   },
   "outputs": [
    {
     "name": "stdout",
     "output_type": "stream",
     "text": [
      "action: board\n",
      "  parameters: [['person1', 'person'], ['plane1', 'aircraft'], ['city0', 'city']]\n",
      "  positive_preconditions: [['located', 'person1', 'city0'], ['located', 'plane1', 'city0']]\n",
      "  negative_preconditions: []\n",
      "  add_effects: [['in', 'person1', 'plane1'], ['increase', ['onboard', 'plane1'], '1']]\n",
      "  del_effects: [['located', 'person1', 'city0']]\n",
      "\n",
      "action: board\n",
      "  parameters: [['person1', 'person'], ['plane1', 'aircraft'], ['city1', 'city']]\n",
      "  positive_preconditions: [['located', 'person1', 'city1'], ['located', 'plane1', 'city1']]\n",
      "  negative_preconditions: []\n",
      "  add_effects: [['in', 'person1', 'plane1'], ['increase', ['onboard', 'plane1'], '1']]\n",
      "  del_effects: [['located', 'person1', 'city1']]\n",
      "\n",
      "action: board\n",
      "  parameters: [['person1', 'person'], ['plane1', 'aircraft'], ['city2', 'city']]\n",
      "  positive_preconditions: [['located', 'person1', 'city2'], ['located', 'plane1', 'city2']]\n",
      "  negative_preconditions: []\n",
      "  add_effects: [['in', 'person1', 'plane1'], ['increase', ['onboard', 'plane1'], '1']]\n",
      "  del_effects: [['located', 'person1', 'city2']]\n",
      "\n",
      "action: board\n",
      "  parameters: [['person2', 'person'], ['plane1', 'aircraft'], ['city0', 'city']]\n",
      "  positive_preconditions: [['located', 'person2', 'city0'], ['located', 'plane1', 'city0']]\n",
      "  negative_preconditions: []\n",
      "  add_effects: [['in', 'person2', 'plane1'], ['increase', ['onboard', 'plane1'], '1']]\n",
      "  del_effects: [['located', 'person2', 'city0']]\n",
      "\n",
      "action: board\n",
      "  parameters: [['person2', 'person'], ['plane1', 'aircraft'], ['city1', 'city']]\n",
      "  positive_preconditions: [['located', 'person2', 'city1'], ['located', 'plane1', 'city1']]\n",
      "  negative_preconditions: []\n",
      "  add_effects: [['in', 'person2', 'plane1'], ['increase', ['onboard', 'plane1'], '1']]\n",
      "  del_effects: [['located', 'person2', 'city1']]\n",
      "\n",
      "action: board\n",
      "  parameters: [['person2', 'person'], ['plane1', 'aircraft'], ['city2', 'city']]\n",
      "  positive_preconditions: [['located', 'person2', 'city2'], ['located', 'plane1', 'city2']]\n",
      "  negative_preconditions: []\n",
      "  add_effects: [['in', 'person2', 'plane1'], ['increase', ['onboard', 'plane1'], '1']]\n",
      "  del_effects: [['located', 'person2', 'city2']]\n",
      "\n",
      "action: board\n",
      "  parameters: [['person3', 'person'], ['plane1', 'aircraft'], ['city0', 'city']]\n",
      "  positive_preconditions: [['located', 'person3', 'city0'], ['located', 'plane1', 'city0']]\n",
      "  negative_preconditions: []\n",
      "  add_effects: [['in', 'person3', 'plane1'], ['increase', ['onboard', 'plane1'], '1']]\n",
      "  del_effects: [['located', 'person3', 'city0']]\n",
      "\n",
      "action: board\n",
      "  parameters: [['person3', 'person'], ['plane1', 'aircraft'], ['city1', 'city']]\n",
      "  positive_preconditions: [['located', 'person3', 'city1'], ['located', 'plane1', 'city1']]\n",
      "  negative_preconditions: []\n",
      "  add_effects: [['in', 'person3', 'plane1'], ['increase', ['onboard', 'plane1'], '1']]\n",
      "  del_effects: [['located', 'person3', 'city1']]\n",
      "\n",
      "action: board\n",
      "  parameters: [['person3', 'person'], ['plane1', 'aircraft'], ['city2', 'city']]\n",
      "  positive_preconditions: [['located', 'person3', 'city2'], ['located', 'plane1', 'city2']]\n",
      "  negative_preconditions: []\n",
      "  add_effects: [['in', 'person3', 'plane1'], ['increase', ['onboard', 'plane1'], '1']]\n",
      "  del_effects: [['located', 'person3', 'city2']]\n",
      "\n"
     ]
    }
   ],
   "source": [
    "for a in parser.get_action_groundings(parser.actions[0]):\n",
    "    print(a)"
   ]
  },
  {
   "cell_type": "code",
   "execution_count": null,
   "metadata": {},
   "outputs": [],
   "source": []
  }
 ],
 "metadata": {
  "kernelspec": {
   "display_name": "Python 3",
   "language": "python",
   "name": "python3"
  },
  "language_info": {
   "codemirror_mode": {
    "name": "ipython",
    "version": 3
   },
   "file_extension": ".py",
   "mimetype": "text/x-python",
   "name": "python",
   "nbconvert_exporter": "python",
   "pygments_lexer": "ipython3",
   "version": "3.7.7"
  }
 },
 "nbformat": 4,
 "nbformat_minor": 4
}