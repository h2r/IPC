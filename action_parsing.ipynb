{
 "cells": [
  {
   "cell_type": "code",
   "execution_count": 1,
   "metadata": {
    "tags": []
   },
   "outputs": [],
   "source": [
    "%load_ext autoreload\n",
    "%autoreload 2"
   ]
  },
  {
   "cell_type": "code",
   "execution_count": 5,
   "metadata": {},
   "outputs": [],
   "source": [
    "class EffectType_s():\n",
    "    def __init__(self, tgt, effect):\n",
    "        self.tgt = tgt\n",
    "        self.effect = effect\n",
    "    def __repr__(self):\n",
    "        return f\"ET({self.tgt},{self.effect})\"\n",
    "#     def __eq__(self, other):\n",
    "# \t\treturn z3.eq(self.pvar, other.pvar) and self.index == other.index\n",
    "# \tdef __lt__(self, other):\n",
    "# \t\t# TODO incorporate pvar type into sort.\n",
    "# \t\tif str(self.pvar) > str(other.pvar): return False\n",
    "# \t\tif str(self.pvar) == str(other.pvar) and self.index >= other.index: return False\n",
    "# \t\treturn True\n",
    "# \tdef __hash__(self):\n",
    "# \t\treturn hash((hash(self.pvar), hash(self.index)))"
   ]
  },
  {
   "cell_type": "code",
   "execution_count": 43,
   "metadata": {},
   "outputs": [],
   "source": [
    "from action import Action\n",
    "from PDDL import PDDL_Parser\n",
    "import sys, pprint\n",
    "from collections import OrderedDict\n",
    "import re, copy\n",
    "import itertools\n",
    "import z3"
   ]
  },
  {
   "cell_type": "markdown",
   "metadata": {},
   "source": [
    "**TODO**\n",
    "\n",
    "* Construct pvars\n",
    "* Create EffectType class with eq, lt, hash"
   ]
  },
  {
   "cell_type": "code",
   "execution_count": 4,
   "metadata": {},
   "outputs": [],
   "source": [
    "def list_is_flat(l):\n",
    "    for x in l: \n",
    "        if isinstance(x, list):\n",
    "            return False\n",
    "    return True"
   ]
  },
  {
   "cell_type": "code",
   "execution_count": 5,
   "metadata": {},
   "outputs": [],
   "source": [
    "def make_EffectType_s(l, is_add = True):\n",
    "    if list_is_flat(l):\n",
    "        tgt = l\n",
    "        effect = is_add\n",
    "    else:\n",
    "        tgt = l[1]\n",
    "        effect = [l[0],l[-1]]\n",
    "    return EffectType_s(tgt, effect)"
   ]
  },
  {
   "cell_type": "code",
   "execution_count": 6,
   "metadata": {},
   "outputs": [],
   "source": [
    "def action2EffectTypes(act):\n",
    "    return [make_EffectType_s(x,True) for x in act.add_effects] + [make_EffectType_s(x,False) for x in act.del_effects]"
   ]
  },
  {
   "cell_type": "code",
   "execution_count": 7,
   "metadata": {},
   "outputs": [],
   "source": [
    "zeno_dom = \"examples/zeno/zeno.pddl\"\n",
    "zeno_prob = \"examples/zeno/pb1.pddl\""
   ]
  },
  {
   "cell_type": "code",
   "execution_count": 8,
   "metadata": {},
   "outputs": [],
   "source": [
    "dinner_dom = \"./examples/dinner/dinner.pddl\"\n",
    "dinner_prob = \"./examples/dinner/pb1.pddl\""
   ]
  },
  {
   "cell_type": "code",
   "execution_count": 17,
   "metadata": {
    "tags": []
   },
   "outputs": [
    {
     "output_type": "stream",
     "name": "stdout",
     "text": "----------------------------\n----------------------------\n['locatable city - object', 'aircraft person - locatable']\nDomain name: zenotravel\n~~~Types~~~\naircraft\ncity\nlocatable\nobject\nperson\n~~~Type Hierarchy~~~\naircraft: []\ncity: []\nlocatable: ['aircraft', 'person']\nobject: ['city', 'locatable']\nperson: []\n~~~Predicates~~~\nlocated(OrderedDict([('?x', 'locatable'), ('?c', 'city')])\nin(OrderedDict([('?p', 'person'), ('?a', 'aircraft')])\n----------------------------\n~~~Functions~~~\nfuel(OrderedDict([('?a', 'aircraft')])\ndistance(OrderedDict([('?c1', 'city'), ('?c2', 'city')])\nslow-burn(OrderedDict([('?a', 'aircraft')])\nfast-burn(OrderedDict([('?a', 'aircraft')])\ncapacity(OrderedDict([('?a', 'aircraft')])\ntotal-fuel-used(OrderedDict()\nonboard(OrderedDict([('?a', 'aircraft')])\nzoom-limit(OrderedDict([('?a', 'aircraft')])\n----------------------------\n~~~Actions~~~\naction: board\n  parameters: [['?p', 'person'], ['?a', 'aircraft'], ['?c', 'city']]\n  positive_preconditions: [['located', '?p', '?c'], ['located', '?a', '?c']]\n  negative_preconditions: []\n  add_effects: [['in', '?p', '?a'], ['increase', ['onboard', '?a'], '1']]\n  del_effects: [['located', '?p', '?c']]\n\n\n\naction: debark\n  parameters: [['?p', 'person'], ['?a', 'aircraft'], ['?c', 'city']]\n  positive_preconditions: [['in', '?p', '?a'], ['located', '?a', '?c']]\n  negative_preconditions: []\n  add_effects: [['located', '?p', '?c'], ['decrease', ['onboard', '?a'], '1']]\n  del_effects: [['in', '?p', '?a']]\n\n\n\naction: fly-slow\n  parameters: [['?a', 'aircraft'], ['?c1', 'city'], ['?c2', 'city']]\n  positive_preconditions: [['located', '?a', '?c1'], ['>=', ['fuel', '?a'], ['*', ['distance', '?c1', '?c2'], ['slow-burn', '?a']]]]\n  negative_preconditions: []\n  add_effects: [['located', '?a', '?c2'], ['increase', ['total-fuel-used'], ['*', ['distance', '?c1', '?c2'], ['slow-burn', '?a']]], ['decrease', ['fuel', '?a'], ['*', ['distance', '?c1', '?c2'], ['slow-burn', '?a']]]]\n  del_effects: [['located', '?a', '?c1']]\n\n\n\naction: fly-fast\n  parameters: [['?a', 'aircraft'], ['?c1', 'city'], ['?c2', 'city']]\n  positive_preconditions: [['located', '?a', '?c1'], ['>=', ['fuel', '?a'], ['*', ['distance', '?c1', '?c2'], ['fast-burn', '?a']]], ['<=', ['onboard', '?a'], ['zoom-limit', '?a']]]\n  negative_preconditions: []\n  add_effects: [['located', '?a', '?c2'], ['increase', ['total-fuel-used'], ['*', ['distance', '?c1', '?c2'], ['fast-burn', '?a']]], ['decrease', ['fuel', '?a'], ['*', ['distance', '?c1', '?c2'], ['fast-burn', '?a']]]]\n  del_effects: [['located', '?a', '?c1']]\n\n\n\naction: refuel\n  parameters: [['?a', 'aircraft']]\n  positive_preconditions: [['>', ['capacity', '?a'], ['fuel', '?a']]]\n  negative_preconditions: []\n  add_effects: [['assign', ['fuel', '?a'], ['capacity', '?a']]]\n  del_effects: []\n\n\n\n----------------------------\nProblem name: ztravel-1-2\nObjects: {'aircraft': ['plane1'], 'person': ['person1', 'person2', 'person3'], 'city': ['city0', 'city1', 'city2']}\nState: [['located', 'plane1', 'city0'], ['=', ['capacity', 'plane1'], '6000'], ['=', ['fuel', 'plane1'], '4000'], ['=', ['slow-burn', 'plane1'], '4'], ['=', ['fast-burn', 'plane1'], '15'], ['=', ['onboard', 'plane1'], '0'], ['=', ['zoom-limit', 'plane1'], '8'], ['located', 'person1', 'city0'], ['located', 'person2', 'city0'], ['located', 'person3', 'city1'], ['=', ['distance', 'city0', 'city0'], '0'], ['=', ['distance', 'city0', 'city1'], '678'], ['=', ['distance', 'city0', 'city2'], '775'], ['=', ['distance', 'city1', 'city0'], '678'], ['=', ['distance', 'city1', 'city1'], '0'], ['=', ['distance', 'city1', 'city2'], '810'], ['=', ['distance', 'city2', 'city0'], '775'], ['=', ['distance', 'city2', 'city1'], '810'], ['=', ['distance', 'city2', 'city2'], '0'], ['=', ['total-fuel-used'], '0']]\nPositive goals: [['located', 'person1', 'city2'], ['located', 'person2', 'city1'], ['located', 'person3', 'city2']]\nNegative goals: []\n"
    }
   ],
   "source": [
    "# domain, problem = dinner_dom, dinner_prob\n",
    "domain, problem = zeno_dom, zeno_prob\n",
    "\n",
    "parser = PDDL_Parser()\n",
    "print('----------------------------')\n",
    "# pprint.pprint(parser.scan_tokens(problem))\n",
    "print('----------------------------')\n",
    "parser.parse_domain(domain)\n",
    "parser.parse_problem(problem)\n",
    "print('Domain name: ' + parser.domain_name)\n",
    "print(f'~~~Types~~~')\n",
    "for t in parser.types: print(t)\n",
    "print(f'~~~Type Hierarchy~~~')\n",
    "for k,v in parser.type_hierarchy.items():\n",
    "    print(f\"{k}: {v}\")\n",
    "print(f'~~~Predicates~~~')\n",
    "for nm, args in parser.predicates.items():\n",
    "    print(f\"{nm}({args}\")\n",
    "#     print(\"\")\n",
    "print('----------------------------')\n",
    "print(f'~~~Functions~~~')\n",
    "for nm, args in parser.functions.items():\n",
    "    print(f\"{nm}({args}\")\n",
    "#     print(\"\")\n",
    "print('----------------------------')\n",
    "print('~~~Actions~~~')\n",
    "for act in parser.actions:\n",
    "    print(act)\n",
    "    # print(\"effect types:\")\n",
    "    # for ef in action2EffectTypes(act): print(f\"\\t{ef}\")\n",
    "    print(\"\\n\")\n",
    "print('----------------------------')\n",
    "print('Problem name: ' + parser.problem_name)\n",
    "print('Objects: ' + str(parser.objects))\n",
    "print('State: ' + str(parser.state))\n",
    "print('Positive goals: ' + str(parser.positive_goals))\n",
    "print('Negative goals: ' + str(parser.negative_goals))"
   ]
  },
  {
   "cell_type": "code",
   "execution_count": 23,
   "metadata": {},
   "outputs": [
    {
     "output_type": "execute_result",
     "data": {
      "text/plain": "['aircraft', 'city', 'locatable', 'object', 'person']"
     },
     "metadata": {},
     "execution_count": 23
    }
   ],
   "source": [
    "parser.types"
   ]
  },
  {
   "cell_type": "code",
   "execution_count": 21,
   "metadata": {},
   "outputs": [],
   "source": [
    "nm, var_nm_types = list(parser.predicates.items())[0]"
   ]
  },
  {
   "cell_type": "code",
   "execution_count": 22,
   "metadata": {
    "tags": []
   },
   "outputs": [
    {
     "output_type": "stream",
     "name": "stdout",
     "text": "located\nOrderedDict([('?x', 'locatable'), ('?c', 'city')])\n"
    }
   ],
   "source": [
    "print(nm)\n",
    "print(var_nm_types)"
   ]
  },
  {
   "cell_type": "code",
   "execution_count": 24,
   "metadata": {},
   "outputs": [],
   "source": [
    "varnm2objects = OrderedDict()\n",
    "for varnm, vartype in var_nm_types.items():\n",
    "    subtypes = parser.get_subtypes([vartype])\n",
    "    valid_objects = []\n",
    "    for st in subtypes:\n",
    "        if st in parser.objects.keys():\n",
    "            valid_objects.extend(parser.objects[st])\n",
    "    varnm2objects[varnm] = valid_objects"
   ]
  },
  {
   "cell_type": "code",
   "execution_count": 25,
   "metadata": {},
   "outputs": [
    {
     "output_type": "execute_result",
     "data": {
      "text/plain": "OrderedDict([('?x', ['plane1', 'person1', 'person2', 'person3']),\n             ('?c', ['city0', 'city1', 'city2'])])"
     },
     "metadata": {},
     "execution_count": 25
    }
   ],
   "source": [
    "varnm2objects"
   ]
  },
  {
   "cell_type": "code",
   "execution_count": 40,
   "metadata": {
    "tags": []
   },
   "outputs": [
    {
     "output_type": "stream",
     "name": "stdout",
     "text": "[('plane1', 'city0'), ('plane1', 'city1'), ('plane1', 'city2'), ('person1', 'city0'), ('person1', 'city1'), ('person1', 'city2'), ('person2', 'city0'), ('person2', 'city1'), ('person2', 'city2'), ('person3', 'city0'), ('person3', 'city1'), ('person3', 'city2')]\n"
    }
   ],
   "source": [
    "# Note: the * operator here is used to unpack the values so the itertools.product function\n",
    "# can operate over all of them as opposed to producting a single list (which is useless)\n",
    "grounded_pvar_predicate_list = list(itertools.product(*varnm2objects.values()))\n",
    "print(grounded_pvar_predicate_list)"
   ]
  },
  {
   "cell_type": "code",
   "execution_count": 44,
   "metadata": {
    "tags": []
   },
   "outputs": [
    {
     "output_type": "stream",
     "name": "stdout",
     "text": "[located('plane1', 'city0'), located('plane1', 'city1'), located('plane1', 'city2'), located('person1', 'city0'), located('person1', 'city1'), located('person1', 'city2'), located('person2', 'city0'), located('person2', 'city1'), located('person2', 'city2'), located('person3', 'city0'), located('person3', 'city1'), located('person3', 'city2')]\n"
    }
   ],
   "source": [
    "predicate_z3_list = []\n",
    "for arg_tuple in grounded_pvar_predicate_list:\n",
    "    predicate_z3_list.append(z3.Bool(nm+str(arg_tuple)))\n",
    "print(predicate_z3_list)"
   ]
  },
  {
   "cell_type": "code",
   "execution_count": null,
   "metadata": {},
   "outputs": [],
   "source": []
  }
 ],
 "metadata": {
  "kernelspec": {
   "display_name": "Python 3",
   "language": "python",
   "name": "python3"
  },
  "language_info": {
   "codemirror_mode": {
    "name": "ipython",
    "version": 3
   },
   "file_extension": ".py",
   "mimetype": "text/x-python",
   "name": "python",
   "nbconvert_exporter": "python",
   "pygments_lexer": "ipython3",
   "version": "3.6.10-final"
  }
 },
 "nbformat": 4,
 "nbformat_minor": 4
}