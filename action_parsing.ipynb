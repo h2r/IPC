{
 "cells": [
  {
   "cell_type": "code",
   "execution_count": 15,
   "metadata": {
    "tags": []
   },
   "outputs": [],
   "source": [
    "%load_ext autoreload\n",
    "%autoreload 2"
   ]
  },
  {
   "cell_type": "code",
   "execution_count": 4,
   "metadata": {},
   "outputs": [],
   "source": [
    "class EffectType_s():\n",
    "    def __init__(self, tgt, effect):\n",
    "        self.tgt = tgt\n",
    "        self.effect = effect\n",
    "    def __repr__(self):\n",
    "        return f\"ET({self.tgt},{self.effect})\"\n",
    "#     def __eq__(self, other):\n",
    "# \t\treturn z3.eq(self.pvar, other.pvar) and self.index == other.index\n",
    "# \tdef __lt__(self, other):\n",
    "# \t\t# TODO incorporate pvar type into sort.\n",
    "# \t\tif str(self.pvar) > str(other.pvar): return False\n",
    "# \t\tif str(self.pvar) == str(other.pvar) and self.index >= other.index: return False\n",
    "# \t\treturn True\n",
    "# \tdef __hash__(self):\n",
    "# \t\treturn hash((hash(self.pvar), hash(self.index)))"
   ]
  },
  {
   "cell_type": "code",
   "execution_count": 1,
   "metadata": {},
   "outputs": [],
   "source": [
    "from action import Action\n",
    "from PDDL import PDDL_Parser\n",
    "import sys, pprint\n",
    "from collections import OrderedDict\n",
    "import re, copy\n",
    "import itertools\n",
    "import z3\n",
    "from skill_classes import EffectTypePDDL"
   ]
  },
  {
   "cell_type": "markdown",
   "metadata": {},
   "source": [
    "**TODO**\n",
    "\n",
    "* Construct pvars\n",
    "* Create Skill with parameters\n",
    "    * Create EffectType with str index, instead of int index. This way we can put the details of the effect into the index. Maybe add parameters attribtue to EffectType?\n",
    "\n",
    "* Come up with better name for 'params' - the pvars used to calculate effects. Ex. for the effect 'person.y += person.leg_length', person.leg_length is a param. Params are treated like pvars in precondition, except they cannot be causally linked"
   ]
  },
  {
   "cell_type": "code",
   "execution_count": 2,
   "metadata": {},
   "outputs": [],
   "source": [
    "def list_is_flat(l):\n",
    "    for x in l: \n",
    "        if isinstance(x, list):\n",
    "            return False\n",
    "    return True"
   ]
  },
  {
   "cell_type": "code",
   "execution_count": 18,
   "metadata": {},
   "outputs": [],
   "source": [
    "def make_EffectType_s(l, is_add = True):\n",
    "    if list_is_flat(l):\n",
    "        tgt = l\n",
    "        effect = is_add\n",
    "    else:\n",
    "        tgt = l[1]\n",
    "        effect = [l[0],l[-1]]\n",
    "    return EffectType_s(tgt, effect)"
   ]
  },
  {
   "cell_type": "code",
   "execution_count": 19,
   "metadata": {},
   "outputs": [],
   "source": [
    "def action2EffectTypes(act):\n",
    "    return [make_EffectType_s(x,True) for x in act.add_effects] + [make_EffectType_s(x,False) for x in act.del_effects]"
   ]
  },
  {
   "cell_type": "code",
   "execution_count": 3,
   "metadata": {},
   "outputs": [],
   "source": [
    "zeno_dom = \"examples/zeno/zeno.pddl\"\n",
    "zeno_prob = \"examples/zeno/pb1.pddl\""
   ]
  },
  {
   "cell_type": "code",
   "execution_count": 21,
   "metadata": {},
   "outputs": [],
   "source": [
    "dinner_dom = \"./examples/dinner/dinner.pddl\"\n",
    "dinner_prob = \"./examples/dinner/pb1.pddl\""
   ]
  },
  {
   "cell_type": "code",
   "execution_count": 4,
   "metadata": {
    "collapsed": true,
    "jupyter": {
     "outputs_hidden": true
    },
    "tags": []
   },
   "outputs": [
    {
     "output_type": "stream",
     "name": "stdout",
     "text": "----------------------------\n----------------------------\nDomain name: zenotravel\n~~~Types~~~\naircraft\ncity\nlocatable\nobject\nperson\n~~~Type Hierarchy~~~\naircraft: []\ncity: []\nlocatable: ['aircraft', 'person']\nobject: ['city', 'locatable']\nperson: []\n~~~Predicates~~~\nlocated(OrderedDict([('?x', 'locatable'), ('?c', 'city')])\nin(OrderedDict([('?p', 'person'), ('?a', 'aircraft')])\n----------------------------\n~~~Functions~~~\nfuel(OrderedDict([('?a', 'aircraft')])\ndistance(OrderedDict([('?c1', 'city'), ('?c2', 'city')])\nslow-burn(OrderedDict([('?a', 'aircraft')])\nfast-burn(OrderedDict([('?a', 'aircraft')])\ncapacity(OrderedDict([('?a', 'aircraft')])\ntotal-fuel-used(OrderedDict()\nonboard(OrderedDict([('?a', 'aircraft')])\nzoom-limit(OrderedDict([('?a', 'aircraft')])\n----------------------------\n~~~Actions~~~\naction: board\n  parameters: [['?p', 'person'], ['?a', 'aircraft'], ['?c', 'city']]\n  positive_preconditions: [['located', '?p', '?c'], ['located', '?a', '?c']]\n  negative_preconditions: []\n  add_effects: [['in', '?p', '?a'], ['increase', ['onboard', '?a'], '1']]\n  del_effects: [['located', '?p', '?c']]\n\n\n\naction: debark\n  parameters: [['?p', 'person'], ['?a', 'aircraft'], ['?c', 'city']]\n  positive_preconditions: [['in', '?p', '?a'], ['located', '?a', '?c']]\n  negative_preconditions: []\n  add_effects: [['located', '?p', '?c'], ['decrease', ['onboard', '?a'], '1']]\n  del_effects: [['in', '?p', '?a']]\n\n\n\naction: fly-slow\n  parameters: [['?a', 'aircraft'], ['?c1', 'city'], ['?c2', 'city']]\n  positive_preconditions: [['located', '?a', '?c1'], ['>=', ['fuel', '?a'], ['*', ['distance', '?c1', '?c2'], ['slow-burn', '?a']]]]\n  negative_preconditions: []\n  add_effects: [['located', '?a', '?c2'], ['increase', ['total-fuel-used'], ['*', ['distance', '?c1', '?c2'], ['slow-burn', '?a']]], ['decrease', ['fuel', '?a'], ['*', ['distance', '?c1', '?c2'], ['slow-burn', '?a']]]]\n  del_effects: [['located', '?a', '?c1']]\n\n\n\naction: fly-fast\n  parameters: [['?a', 'aircraft'], ['?c1', 'city'], ['?c2', 'city']]\n  positive_preconditions: [['located', '?a', '?c1'], ['>=', ['fuel', '?a'], ['*', ['distance', '?c1', '?c2'], ['fast-burn', '?a']]], ['<=', ['onboard', '?a'], ['zoom-limit', '?a']]]\n  negative_preconditions: []\n  add_effects: [['located', '?a', '?c2'], ['increase', ['total-fuel-used'], ['*', ['distance', '?c1', '?c2'], ['fast-burn', '?a']]], ['decrease', ['fuel', '?a'], ['*', ['distance', '?c1', '?c2'], ['fast-burn', '?a']]]]\n  del_effects: [['located', '?a', '?c1']]\n\n\n\naction: refuel\n  parameters: [['?a', 'aircraft']]\n  positive_preconditions: [['>', ['capacity', '?a'], ['fuel', '?a']]]\n  negative_preconditions: []\n  add_effects: [['assign', ['fuel', '?a'], ['capacity', '?a']]]\n  del_effects: []\n\n\n\n----------------------------\nProblem name: ztravel-1-2\nObjects: {'aircraft': ['plane1'], 'person': ['person1', 'person2', 'person3'], 'city': ['city0', 'city1', 'city2']}\nState: [['located', 'plane1', 'city0'], ['=', ['capacity', 'plane1'], '6000'], ['=', ['fuel', 'plane1'], '4000'], ['=', ['slow-burn', 'plane1'], '4'], ['=', ['fast-burn', 'plane1'], '15'], ['=', ['onboard', 'plane1'], '0'], ['=', ['zoom-limit', 'plane1'], '8'], ['located', 'person1', 'city0'], ['located', 'person2', 'city0'], ['located', 'person3', 'city1'], ['=', ['distance', 'city0', 'city0'], '0'], ['=', ['distance', 'city0', 'city1'], '678'], ['=', ['distance', 'city0', 'city2'], '775'], ['=', ['distance', 'city1', 'city0'], '678'], ['=', ['distance', 'city1', 'city1'], '0'], ['=', ['distance', 'city1', 'city2'], '810'], ['=', ['distance', 'city2', 'city0'], '775'], ['=', ['distance', 'city2', 'city1'], '810'], ['=', ['distance', 'city2', 'city2'], '0'], ['=', ['total-fuel-used'], '0']]\nPositive goals: [['located', 'person1', 'city2'], ['located', 'person2', 'city1'], ['located', 'person3', 'city2']]\nNegative goals: []\n"
    }
   ],
   "source": [
    "# domain, problem = dinner_dom, dinner_prob\n",
    "domain, problem = zeno_dom, zeno_prob\n",
    "\n",
    "parser = PDDL_Parser()\n",
    "print('----------------------------')\n",
    "# pprint.pprint(parser.scan_tokens(problem))\n",
    "print('----------------------------')\n",
    "parser.parse_domain(domain)\n",
    "parser.parse_problem(problem)\n",
    "print('Domain name: ' + parser.domain_name)\n",
    "print(f'~~~Types~~~')\n",
    "for t in parser.types: print(t)\n",
    "print(f'~~~Type Hierarchy~~~')\n",
    "for k,v in parser.type_hierarchy.items():\n",
    "    print(f\"{k}: {v}\")\n",
    "print(f'~~~Predicates~~~')\n",
    "for nm, args in parser.predicates.items():\n",
    "    print(f\"{nm}({args}\")\n",
    "#     print(\"\")\n",
    "print('----------------------------')\n",
    "print(f'~~~Functions~~~')\n",
    "for nm, args in parser.functions.items():\n",
    "    print(f\"{nm}({args}\")\n",
    "#     print(\"\")\n",
    "print('----------------------------')\n",
    "print('~~~Actions~~~')\n",
    "for act in parser.actions:\n",
    "    print(act)\n",
    "    # print(\"effect types:\")\n",
    "    # for ef in action2EffectTypes(act): print(f\"\\t{ef}\")\n",
    "    print(\"\\n\")\n",
    "print('----------------------------')\n",
    "print('Problem name: ' + parser.problem_name)\n",
    "print('Objects: ' + str(parser.objects))\n",
    "print('State: ' + str(parser.state))\n",
    "print('Positive goals: ' + str(parser.positive_goals))\n",
    "print('Negative goals: ' + str(parser.negative_goals))"
   ]
  },
  {
   "cell_type": "code",
   "execution_count": 23,
   "metadata": {},
   "outputs": [
    {
     "output_type": "execute_result",
     "data": {
      "text/plain": "['aircraft', 'city', 'locatable', 'object', 'person']"
     },
     "metadata": {},
     "execution_count": 23
    }
   ],
   "source": [
    "parser.types"
   ]
  },
  {
   "cell_type": "code",
   "execution_count": 26,
   "metadata": {
    "tags": []
   },
   "outputs": [
    {
     "output_type": "stream",
     "name": "stdout",
     "text": "located\nOrderedDict([('?x', 'locatable'), ('?c', 'city')])\nvarnm2objects:\nOrderedDict([('?x', ['plane1', 'person1', 'person2', 'person3']), ('?c', ['city0', 'city1', 'city2'])])\n\n[('plane1', 'city0'), ('plane1', 'city1'), ('plane1', 'city2'), ('person1', 'city0'), ('person1', 'city1'), ('person1', 'city2'), ('person2', 'city0'), ('person2', 'city1'), ('person2', 'city2'), ('person3', 'city0'), ('person3', 'city1'), ('person3', 'city2')]\n[located('plane1', 'city0'), located('plane1', 'city1'), located('plane1', 'city2'), located('person1', 'city0'), located('person1', 'city1'), located('person1', 'city2'), located('person2', 'city0'), located('person2', 'city1'), located('person2', 'city2'), located('person3', 'city0'), located('person3', 'city1'), located('person3', 'city2')]\n"
    }
   ],
   "source": [
    "nm, var_nm_types = list(parser.predicates.items())[0]\n",
    "\n",
    "print(nm)\n",
    "print(var_nm_types)\n",
    "\n",
    "# IMPORTANT: This creates pvars that lose all notion of subtypes.\n",
    "# For instance, we now have a bunch of pvars for \n",
    "# located(locatable, city) and if we're asked for subsets of these vars\n",
    "# that are located(person, city), we can't get them!!!\n",
    "varnm2objects = OrderedDict()\n",
    "for varnm, vartype in var_nm_types.items():\n",
    "    subtypes = parser.get_subtypes([vartype])\n",
    "    valid_objects = []\n",
    "    for st in subtypes:\n",
    "        if st in parser.objects.keys():\n",
    "            valid_objects.extend(parser.objects[st])\n",
    "    varnm2objects[varnm] = valid_objects\n",
    "\n",
    "print(f\"varnm2objects:\\n{varnm2objects}\\n\")\n",
    "\n",
    "# Note: the * operator here is used to unpack the values so the itertools.product function\n",
    "# can operate over all of them as opposed to producting a single list (which is useless)\n",
    "grounded_pvar_predicate_list = list(itertools.product(*varnm2objects.values()))\n",
    "print(grounded_pvar_predicate_list)\n",
    "\n",
    "predicate_z3_list = []\n",
    "for arg_tuple in grounded_pvar_predicate_list:\n",
    "    predicate_z3_list.append(z3.Bool(nm+str(arg_tuple)))\n",
    "print(predicate_z3_list)"
   ]
  },
  {
   "cell_type": "code",
   "execution_count": 25,
   "metadata": {
    "tags": []
   },
   "outputs": [
    {
     "output_type": "stream",
     "name": "stdout",
     "text": "action: board\n  parameters: [['?p', 'person'], ['?a', 'aircraft'], ['?c', 'city']]\n  positive_preconditions: [['located', '?p', '?c'], ['located', '?a', '?c']]\n  negative_preconditions: []\n  add_effects: [['in', '?p', '?a'], ['increase', ['onboard', '?a'], '1']]\n  del_effects: [['located', '?p', '?c']]\n\n"
    }
   ],
   "source": [
    "a = parser.actions[0]; print(a)"
   ]
  },
  {
   "cell_type": "code",
   "execution_count": 13,
   "metadata": {},
   "outputs": [
    {
     "data": {
      "text/plain": [
       "[['located', '?p', '?c'], ['located', '?a', '?c']]"
      ]
     },
     "execution_count": 13,
     "metadata": {},
     "output_type": "execute_result"
    }
   ],
   "source": [
    "a.positive_preconditions"
   ]
  },
  {
   "cell_type": "markdown",
   "metadata": {},
   "source": [
    "# Ground action"
   ]
  },
  {
   "cell_type": "code",
   "execution_count": 34,
   "metadata": {
    "collapsed": true,
    "jupyter": {
     "outputs_hidden": true
    },
    "tags": []
   },
   "outputs": [
    {
     "output_type": "stream",
     "name": "stdout",
     "text": "action: fly-slow\n  parameters: [['plane1', 'aircraft'], ['city0', 'city'], ['city0', 'city']]\n  positive_preconditions: [['located', 'plane1', 'city0'], ['>=', ['fuel', 'plane1'], ['*', ['distance', 'city0', 'city0'], ['slow-burn', 'plane1']]]]\n  negative_preconditions: []\n  add_effects: [['located', 'plane1', 'city0'], ['increase', ['total-fuel-used'], ['*', ['distance', 'city0', 'city0'], ['slow-burn', 'plane1']]], ['decrease', ['fuel', 'plane1'], ['*', ['distance', 'city0', 'city0'], ['slow-burn', 'plane1']]]]\n  del_effects: [['located', 'plane1', 'city0']]\n\naction: fly-slow\n  parameters: [['plane1', 'aircraft'], ['city0', 'city'], ['city1', 'city']]\n  positive_preconditions: [['located', 'plane1', 'city0'], ['>=', ['fuel', 'plane1'], ['*', ['distance', 'city0', 'city1'], ['slow-burn', 'plane1']]]]\n  negative_preconditions: []\n  add_effects: [['located', 'plane1', 'city1'], ['increase', ['total-fuel-used'], ['*', ['distance', 'city0', 'city1'], ['slow-burn', 'plane1']]], ['decrease', ['fuel', 'plane1'], ['*', ['distance', 'city0', 'city1'], ['slow-burn', 'plane1']]]]\n  del_effects: [['located', 'plane1', 'city0']]\n\naction: fly-slow\n  parameters: [['plane1', 'aircraft'], ['city0', 'city'], ['city2', 'city']]\n  positive_preconditions: [['located', 'plane1', 'city0'], ['>=', ['fuel', 'plane1'], ['*', ['distance', 'city0', 'city2'], ['slow-burn', 'plane1']]]]\n  negative_preconditions: []\n  add_effects: [['located', 'plane1', 'city2'], ['increase', ['total-fuel-used'], ['*', ['distance', 'city0', 'city2'], ['slow-burn', 'plane1']]], ['decrease', ['fuel', 'plane1'], ['*', ['distance', 'city0', 'city2'], ['slow-burn', 'plane1']]]]\n  del_effects: [['located', 'plane1', 'city0']]\n\naction: fly-slow\n  parameters: [['plane1', 'aircraft'], ['city1', 'city'], ['city0', 'city']]\n  positive_preconditions: [['located', 'plane1', 'city1'], ['>=', ['fuel', 'plane1'], ['*', ['distance', 'city1', 'city0'], ['slow-burn', 'plane1']]]]\n  negative_preconditions: []\n  add_effects: [['located', 'plane1', 'city0'], ['increase', ['total-fuel-used'], ['*', ['distance', 'city1', 'city0'], ['slow-burn', 'plane1']]], ['decrease', ['fuel', 'plane1'], ['*', ['distance', 'city1', 'city0'], ['slow-burn', 'plane1']]]]\n  del_effects: [['located', 'plane1', 'city1']]\n\naction: fly-slow\n  parameters: [['plane1', 'aircraft'], ['city1', 'city'], ['city1', 'city']]\n  positive_preconditions: [['located', 'plane1', 'city1'], ['>=', ['fuel', 'plane1'], ['*', ['distance', 'city1', 'city1'], ['slow-burn', 'plane1']]]]\n  negative_preconditions: []\n  add_effects: [['located', 'plane1', 'city1'], ['increase', ['total-fuel-used'], ['*', ['distance', 'city1', 'city1'], ['slow-burn', 'plane1']]], ['decrease', ['fuel', 'plane1'], ['*', ['distance', 'city1', 'city1'], ['slow-burn', 'plane1']]]]\n  del_effects: [['located', 'plane1', 'city1']]\n\naction: fly-slow\n  parameters: [['plane1', 'aircraft'], ['city1', 'city'], ['city2', 'city']]\n  positive_preconditions: [['located', 'plane1', 'city1'], ['>=', ['fuel', 'plane1'], ['*', ['distance', 'city1', 'city2'], ['slow-burn', 'plane1']]]]\n  negative_preconditions: []\n  add_effects: [['located', 'plane1', 'city2'], ['increase', ['total-fuel-used'], ['*', ['distance', 'city1', 'city2'], ['slow-burn', 'plane1']]], ['decrease', ['fuel', 'plane1'], ['*', ['distance', 'city1', 'city2'], ['slow-burn', 'plane1']]]]\n  del_effects: [['located', 'plane1', 'city1']]\n\naction: fly-slow\n  parameters: [['plane1', 'aircraft'], ['city2', 'city'], ['city0', 'city']]\n  positive_preconditions: [['located', 'plane1', 'city2'], ['>=', ['fuel', 'plane1'], ['*', ['distance', 'city2', 'city0'], ['slow-burn', 'plane1']]]]\n  negative_preconditions: []\n  add_effects: [['located', 'plane1', 'city0'], ['increase', ['total-fuel-used'], ['*', ['distance', 'city2', 'city0'], ['slow-burn', 'plane1']]], ['decrease', ['fuel', 'plane1'], ['*', ['distance', 'city2', 'city0'], ['slow-burn', 'plane1']]]]\n  del_effects: [['located', 'plane1', 'city2']]\n\naction: fly-slow\n  parameters: [['plane1', 'aircraft'], ['city2', 'city'], ['city1', 'city']]\n  positive_preconditions: [['located', 'plane1', 'city2'], ['>=', ['fuel', 'plane1'], ['*', ['distance', 'city2', 'city1'], ['slow-burn', 'plane1']]]]\n  negative_preconditions: []\n  add_effects: [['located', 'plane1', 'city1'], ['increase', ['total-fuel-used'], ['*', ['distance', 'city2', 'city1'], ['slow-burn', 'plane1']]], ['decrease', ['fuel', 'plane1'], ['*', ['distance', 'city2', 'city1'], ['slow-burn', 'plane1']]]]\n  del_effects: [['located', 'plane1', 'city2']]\n\naction: fly-slow\n  parameters: [['plane1', 'aircraft'], ['city2', 'city'], ['city2', 'city']]\n  positive_preconditions: [['located', 'plane1', 'city2'], ['>=', ['fuel', 'plane1'], ['*', ['distance', 'city2', 'city2'], ['slow-burn', 'plane1']]]]\n  negative_preconditions: []\n  add_effects: [['located', 'plane1', 'city2'], ['increase', ['total-fuel-used'], ['*', ['distance', 'city2', 'city2'], ['slow-burn', 'plane1']]], ['decrease', ['fuel', 'plane1'], ['*', ['distance', 'city2', 'city2'], ['slow-burn', 'plane1']]]]\n  del_effects: [['located', 'plane1', 'city2']]\n\n"
    }
   ],
   "source": [
    "for a in parser.get_action_groundings(parser.actions[2]):\n",
    "    print(a)"
   ]
  },
  {
   "cell_type": "code",
   "execution_count": 36,
   "metadata": {
    "tags": []
   },
   "outputs": [
    {
     "output_type": "stream",
     "name": "stdout",
     "text": "located(plane1, city0)\n"
    }
   ],
   "source": [
    "def make_z3Bool_from_list(expr_list):\n",
    "    return_str = precond_list[0] + '('\n",
    "    for obj in precond_list[1:]:\n",
    "        return_str += obj + ', '\n",
    "    return_str = return_str[:-2]\n",
    "    return_str += ')'\n",
    "    return_expr = z3.Bool(return_str)\n",
    "    return return_expr\n",
    "\n",
    "def make_pvar_from_precond_list(precond_list):\n",
    "    if(precond_list[0] not in ['>', '<', '=', '>=', '<=']):\n",
    "        return make_z3Bool_from_list(expr_list)\n",
    "    else:\n",
    "        # TODO: how to make a z3 condition for comparison operators???\n",
    "        # I'm guessing I need to use z3.eq, etc.???\n",
    "        return_str = 'some_expr_involving_int_vars()'\n",
    "\n",
    "    return return_expr\n",
    "\n",
    "print(make_pvar_str_from_precond_list(['located', 'plane1', 'city0']))"
   ]
  },
  {
   "cell_type": "code",
   "execution_count": null,
   "metadata": {},
   "outputs": [],
   "source": [
    "\n",
    "def make_effectType_from_effects_list(effects_list, add_or_del):\n",
    "    if not(add_or_del):\n",
    "        # Pretty sure this is right, but a bit unsure if a del effect implies logical inversion or if \n",
    "        # it simply assigns the specific bool to False\n",
    "        z3_expr = z3.Not(make_z3Bool_from_list(effects_list))\n",
    "        # Not sure if i should z3Not the z3_expr or just use the effect type to denote inversion\n",
    "        return EffectTypePDDL(z3_expr, \"false\")\n",
    "\n",
    "    if effects_list[0] not in ['increase', 'decrease', 'assign']:\n",
    "        # This will return a z3Bool\n",
    "        z3_expr = make_z3Bool_from_list(effects_list)\n",
    "        return EffectTypePDDL(z3_expr, \"true\")\n",
    "\n",
    "    else:\n",
    "        # TODO!!!\n",
    "        pass\n"
   ]
  },
  {
   "cell_type": "code",
   "execution_count": null,
   "metadata": {},
   "outputs": [],
   "source": [
    "for curr_action in parser.actions:\n",
    "    for grounded_action in parser.get_action_groundings(curr_action):\n",
    "        precond_list = []\n",
    "        for pos_precond in grounded_action.positive_preconditions:\n",
    "            precond_list.append(make_pvar_from_precond_list(pos_precond))\n",
    "        for neg_precond in grounded_action.negative_preconditions:\n",
    "            precond_list.append(z3.Not(make_pvar_from_precond_list(neg_precond)))\n",
    "        "
   ]
  }
 ],
 "metadata": {
  "kernelspec": {
   "display_name": "Python 3",
   "language": "python",
   "name": "python3"
  },
  "language_info": {
   "codemirror_mode": {
    "name": "ipython",
    "version": 3
   },
   "file_extension": ".py",
   "mimetype": "text/x-python",
   "name": "python",
   "nbconvert_exporter": "python",
   "pygments_lexer": "ipython3",
   "version": "3.6.10-final"
  }
 },
 "nbformat": 4,
 "nbformat_minor": 4
}