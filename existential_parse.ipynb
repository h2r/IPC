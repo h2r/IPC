{
 "metadata": {
  "language_info": {
   "codemirror_mode": {
    "name": "ipython",
    "version": 3
   },
   "file_extension": ".py",
   "mimetype": "text/x-python",
   "name": "python",
   "nbconvert_exporter": "python",
   "pygments_lexer": "ipython3",
   "version": "3.7.7-final"
  },
  "orig_nbformat": 2,
  "kernelspec": {
   "name": "python_defaultSpec_1598100184826",
   "display_name": "Python 3.7.7 64-bit ('scoping': conda)"
  }
 },
 "nbformat": 4,
 "nbformat_minor": 2,
 "cells": [
  {
   "cell_type": "code",
   "execution_count": 1,
   "metadata": {
    "tags": []
   },
   "outputs": [],
   "source": [
    "%load_ext autoreload\n",
    "%autoreload 2"
   ]
  },
  {
   "cell_type": "code",
   "execution_count": 2,
   "metadata": {},
   "outputs": [],
   "source": [
    "from action import Action\n",
    "from PDDL import PDDL_Parser\n",
    "import sys, pprint\n",
    "from collections import OrderedDict\n",
    "from typing import List, Tuple, Dict, Iterable\n",
    "from collections import OrderedDict\n",
    "import re, copy\n",
    "import itertools\n",
    "import z3\n",
    "from skill_classes import EffectTypePDDL, SkillPDDL\n",
    "from utils import product_dict, nested_list_replace, get_atoms"
   ]
  },
  {
   "cell_type": "code",
   "execution_count": 3,
   "metadata": {
    "tags": []
   },
   "outputs": [
    {
     "output_type": "stream",
     "name": "stdout",
     "text": "----------------------------\n----------------------------\nDomain name: universal_multipasstaxi\n~~~Types~~~\nobject\npassenger\ntaxi\n~~~Type Hierarchy~~~\nobject: ['passenger', 'taxi']\npassenger: []\ntaxi: []\n~~~Predicates~~~\npassenger-in-taxi(OrderedDict([('?p', 'passenger'), ('?t', 'taxi')])\n----------------------------\n~~~Functions~~~\npassenger-y(OrderedDict([('?p', 'passenger')])\npassenger-x(OrderedDict([('?p', 'passenger')])\ntaxi-x(OrderedDict([('?t', 'taxi')])\ntaxi-y(OrderedDict([('?t', 'taxi')])\n----------------------------\n~~~Actions~~~\naction: pickup\n  parameters: [['?p', 'passenger'], ['?t', 'taxi']]\n  positive_preconditions: [['=', ['passenger-x', '?p'], ['taxi-x', '?t']], ['=', ['passenger-y', '?p'], ['taxi-y', '?t']], ['forall', ['?pn', '-', 'passenger'], ['not', ['passenger-in-taxi', '?pn', '?t']]]]\n  negative_preconditions: []\n  add_effects: [['passenger-in-taxi', '?p', '?t']]\n  del_effects: []\n\n\n\naction: dropoff\n  parameters: [['?p', 'passenger'], ['?t', 'taxi']]\n  positive_preconditions: [['passenger-in-taxi', '?p', '?t']]\n  negative_preconditions: []\n  add_effects: []\n  del_effects: [['passenger-in-taxi', '?p', '?t']]\n\n\n\naction: move-north\n  parameters: [['?t', 'taxi']]\n  positive_preconditions: [['forall', ['?pn', '-', 'passenger'], ['not', ['passenger-in-taxi', '?pn', '?t']]]]\n  negative_preconditions: []\n  add_effects: [['increase', ['taxi-y', '?t'], '1']]\n  del_effects: []\n\n\n\naction: move-south\n  parameters: [['?t', 'taxi']]\n  positive_preconditions: [['forall', ['?pn', '-', 'passenger'], ['not', ['passenger-in-taxi', '?pn', '?t']]]]\n  negative_preconditions: []\n  add_effects: [['decrease', ['taxi-x', '?t'], '1']]\n  del_effects: []\n\n\n\naction: move-east\n  parameters: [['?t', 'taxi']]\n  positive_preconditions: [['forall', ['?pn', '-', 'passenger'], ['not', ['passenger-in-taxi', '?pn', '?t']]]]\n  negative_preconditions: []\n  add_effects: [['increase', ['taxi-x', '?t'], '1']]\n  del_effects: []\n\n\n\naction: move-west\n  parameters: [['?t', 'taxi']]\n  positive_preconditions: [['forall', ['?pn', '-', 'passenger'], ['not', ['passenger-in-taxi', '?pn', '?t']]]]\n  negative_preconditions: []\n  add_effects: [['decrease', ['taxi-y', '?t'], '1']]\n  del_effects: []\n\n\n\naction: move-north-pass\n  parameters: [['?t', 'taxi'], ['?p', 'passenger']]\n  positive_preconditions: [['passenger-in-taxi', '?p', '?t']]\n  negative_preconditions: []\n  add_effects: [['increase', ['taxi-y', '?t'], '1'], ['increase', ['passenger-y', '?p'], '1']]\n  del_effects: []\n\n\n\naction: move-south-pass\n  parameters: [['?t', 'taxi'], ['?p', 'passenger']]\n  positive_preconditions: [['passenger-in-taxi', '?p', '?t']]\n  negative_preconditions: []\n  add_effects: [['decrease', ['taxi-y', '?t'], '1'], ['decrease', ['passenger-y', '?p'], '1']]\n  del_effects: []\n\n\n\naction: move-east-pass\n  parameters: [['?t', 'taxi'], ['?p', 'passenger']]\n  positive_preconditions: [['passenger-in-taxi', '?p', '?t']]\n  negative_preconditions: []\n  add_effects: [['increase', ['taxi-x', '?t'], '1'], ['increase', ['passenger-x', '?p'], '1']]\n  del_effects: []\n\n\n\naction: move-west-pass\n  parameters: [['?t', 'taxi'], ['?p', 'passenger']]\n  positive_preconditions: [['passenger-in-taxi', '?p', '?t']]\n  negative_preconditions: []\n  add_effects: [['decrease', ['taxi-x', '?t'], '1'], ['decrease', ['passenger-x', '?p'], '1']]\n  del_effects: []\n\n\n\n----------------------------\nProblem name: taxinumeric-2\nObjects: {'passenger': ['curly', 'smoov'], 'taxi': ['t0']}\nState: [['=', ['taxi-x', 't0'], '0'], ['=', ['taxi-y', 't0'], '0'], ['not', ['passenger-in-taxi', 'curly', 't0']], ['not', ['passenger-in-taxi', 'smoov', 't0']], ['=', ['passenger-x', 'curly'], '15'], ['=', ['passenger-y', 'curly'], '23'], ['=', ['passenger-x', 'smoov'], '2'], ['=', ['passenger-y', 'smoov'], '1'], ['=', ['passenger-count', 't0'], '0']]\nPositive goals: [['=', ['passenger-y', 'curly'], '1050'], ['=', ['passenger-x', 'curly'], '830']]\nNegative goals: [['passenger-in-taxi', 'curly', 't0']]\n"
    }
   ],
   "source": [
    "# domain, problem = dinner_dom, dinner_prob\n",
    "domain, problem = \"./examples/existential-taxi/taxi-domain.pddl\", \"./examples/existential-taxi/prob02.pddl\"\n",
    "\n",
    "parser = PDDL_Parser()\n",
    "print('----------------------------')\n",
    "# pprint.pprint(parser.scan_tokens(problem))\n",
    "print('----------------------------')\n",
    "parser.parse_domain(domain)\n",
    "parser.parse_problem(problem)\n",
    "print('Domain name: ' + parser.domain_name)\n",
    "print(f'~~~Types~~~')\n",
    "for t in parser.types: print(t)\n",
    "print(f'~~~Type Hierarchy~~~')\n",
    "for k,v in parser.type_hierarchy.items():\n",
    "    print(f\"{k}: {v}\")\n",
    "print(f'~~~Predicates~~~')\n",
    "for nm, args in parser.predicates.items():\n",
    "    print(f\"{nm}({args}\")\n",
    "#     print(\"\")\n",
    "print('----------------------------')\n",
    "print(f'~~~Functions~~~')\n",
    "for nm, args in parser.functions.items():\n",
    "    print(f\"{nm}({args}\")\n",
    "#     print(\"\")\n",
    "print('----------------------------')\n",
    "print('~~~Actions~~~')\n",
    "for act in parser.actions:\n",
    "    print(act)\n",
    "    # print(\"effect types:\")\n",
    "    # for ef in action2EffectTypes(act): print(f\"\\t{ef}\")\n",
    "    print(\"\\n\")\n",
    "print('----------------------------')\n",
    "print('Problem name: ' + parser.problem_name)\n",
    "print('Objects: ' + str(parser.objects))\n",
    "print('State: ' + str(parser.state))\n",
    "print('Positive goals: ' + str(parser.positive_goals))\n",
    "print('Negative goals: ' + str(parser.negative_goals))"
   ]
  },
  {
   "cell_type": "code",
   "execution_count": 4,
   "metadata": {},
   "outputs": [],
   "source": [
    "\n",
    "str2operator = {\n",
    "    \"<\": lambda a, b: a < b,\n",
    "    \"<=\": lambda a, b: a <= b,\n",
    "    \">\": lambda a, b: a > b,\n",
    "    \">=\": lambda a, b: a >= b,\n",
    "    \"=\": lambda a, b: a == b,\n",
    "    \"*\": lambda a, b: a * b,\n",
    "    \"+\": lambda a, b: a + b,\n",
    "    \"/\": lambda a, b: a / b,\n",
    "    \"-\": lambda a, b: a - b,\n",
    "    \"increase\": lambda a, b: a + b,\n",
    "    \"decrease\": lambda a, b: a - b,\n",
    "    \"assign\": lambda a, b: b\n",
    "    }\n",
    "\n",
    "def list2var_str(x):\n",
    "    return x[0] + \"(\" + \", \".join(x[1:]) + \")\"\n",
    "\n",
    "def list_is_flat(l):\n",
    "    for x in l: \n",
    "        if isinstance(x, list):\n",
    "            return False\n",
    "    return True\n",
    "\n",
    "def action2precondition(a: Action, str_var_dict) -> z3.BoolRef:\n",
    "    clauses = [compile_expression(p, str_var_dict) for p in a.positive_preconditions] + [z3.Not(compile_expression(p, str_var_dict)) for p in a.negative_preconditions]\n",
    "    return z3.And(*clauses)\n",
    "\n",
    "def z3_identical(a, b):\n",
    "    return a.sort() == b.sort() and str(a) == str(b)\n",
    "\n",
    "def make_z3_atoms(things_dict, z3_class, str2var = None):\n",
    "    \"\"\"\n",
    "    things_dict should be parser.predicates or parser.functions\n",
    "    z3_class should be z3.Bool or z3.Int\n",
    "    str2var is the dictionary you want to update. If none, a new OrderedDict is created\n",
    "    \"\"\"\n",
    "    if str2var is None:\n",
    "        str2var = OrderedDict()\n",
    "    for p_name, p_args in things_dict.items():\n",
    "        groundings = product_dict(**OrderedDict([(varnm, parser.get_objects_of_type(vartype)) for (varnm, vartype) in p_args.items()]))\n",
    "        for x in groundings:\n",
    "            s = p_name + \"(\" + \", \".join(x.values()) + \")\"\n",
    "            grounded_predicate = z3_class(s)\n",
    "            assert s not in str2var.keys(), f\"{s}: {str2var[s]}, {grounded_predicate}\"\n",
    "            str2var[s] = grounded_predicate\n",
    "    return str2var\n",
    "\n",
    "def compile_expression(expr, str_var_dict):\n",
    "\n",
    "    \"\"\" \n",
    "    :param expr - a (potentially nested) list of strings. Should be grounded to objects, except for quantified predicates\n",
    "    :param str_var_dict - a dictionary mapping strings representing pvars to their corresponding z3 objects\n",
    "    \"\"\"\n",
    "    if isinstance(expr, int):\n",
    "        return expr\n",
    "    elif isinstance(expr, str):\n",
    "        # the only str we can interpret in a vacuum is an int. (maybe bools later?)\n",
    "        try:\n",
    "            expr = int(expr)\n",
    "            return expr\n",
    "        except ValueError as e:\n",
    "            from IPython import embed; embed() #What is embed?\n",
    "            raise e\n",
    "    elif isinstance(expr, list):\n",
    "        # A flat list corresponds to a pvar\n",
    "        if list_is_flat(expr):\n",
    "            return str_var_dict[list2var_str(expr)]\n",
    "        elif len(expr) == 2:\n",
    "            # The only length 2 expression we can compile is ['not', [subexpression]]\n",
    "            if expr[0] == \"not\":\n",
    "                return z3.Not(compile_expression(expr[1], str_var_dict))\n",
    "            else:\n",
    "                raise ValueError(f\"Don't understand how to compile: {expr}\")\n",
    "        else:\n",
    "            assert len(expr) == 3, f\"Don't understand how to compile: {expr}\"\n",
    "            # Handle quantifiers. It is a bit odd that we ground quantifiers here, not during grounding\n",
    "                # Example quantifier: ['forall', ['?pn', '-', 'passenger'], ['not', ['passenger-in-taxi', '?pn', '?t']]]]\n",
    "            if expr[0] in [\"forall\", \"exists\"]:\n",
    "                quantifier, quantified_var, subexpr = expr\n",
    "                varnm, vartype = quantified_var[0], quantified_var[2]\n",
    "                # Get all groundings for the quantified object\n",
    "                var_groundings = parser.get_objects_of_type(vartype)\n",
    "                # Get all grounded versions of the subexpression\n",
    "                subexpr_groundings = [nested_list_replace(subexpr, {varnm: x}) for x in var_groundings]\n",
    "                # Compile the grounded subexpressions\n",
    "                compiled_subexpressions = [compile_expression(x, str_var_dict) for x in subexpr_groundings]\n",
    "                # Combine the compiled subexpressions\n",
    "                combinator = {\"forall\":z3.And, \"exists\":z3.Or}[quantifier]\n",
    "                return combinator(*compiled_subexpressions)\n",
    "            # Handle operations\n",
    "            else:\n",
    "                operator = str2operator[expr[0]]\n",
    "                operator_args = [compile_expression(x, str_var_dict) for x in expr[1:]]\n",
    "                return operator(*operator_args)\n",
    "    else:\n",
    "        raise NotImplementedError(f\"Don't understand how to compile non lists: {expr}; {type(expr)}\")\n",
    "\n",
    "def action2effect_types(a: Action, str_var_dict) -> List[EffectTypePDDL]:\n",
    "    effect_types = []\n",
    "\n",
    "    for eff in a.add_effects:\n",
    "        # Check for complex effects like 'increase'\n",
    "        if eff[0] in [\"increase\", 'decrease', 'assign']:\n",
    "            effected_var = str_var_dict[list2var_str(eff[1])]\n",
    "            effect_details = compile_expression(eff, str_var_dict)\n",
    "            params = tuple([x for x in get_atoms(effect_details) if not z3_identical(x, effected_var)])\n",
    "            effect_type = EffectTypePDDL(effected_var, effect_details, params=params)\n",
    "            effect_types.append(effect_type)\n",
    "        else:\n",
    "            effected_var = compile_expression(eff, str_var_dict)\n",
    "            # This may accidentally cause different EfectTypes to be identified bc True == 1.\n",
    "            effect_details = True\n",
    "            effect_type = EffectTypePDDL(effected_var, effect_details)\n",
    "            effect_types.append(effect_type)\n",
    "    # Assume for now that del_effects only sets bools to false\n",
    "    for eff in a.del_effects:\n",
    "        effected_var = compile_expression(eff, str_var_dict)\n",
    "        # This may accidentally cause different EfectTypes to be identified bc True == 1.        \n",
    "        effect_details = False\n",
    "        effect_type = EffectTypePDDL(effected_var, effect_details)\n",
    "        effect_types.append(effect_type)\n",
    "    return tuple(effect_types)"
   ]
  },
  {
   "cell_type": "code",
   "execution_count": 5,
   "metadata": {},
   "outputs": [],
   "source": [
    "def make_str2var_dict(parser): #TODO make method of parser class\n",
    "    str2var_dict = OrderedDict()\n",
    "    str2var_dict = make_z3_atoms(parser.predicates, z3.Bool, str2var_dict)\n",
    "    str2var_dict = make_z3_atoms(parser.functions, z3.Int, str2var_dict)\n",
    "    return str2var_dict\n",
    "str2var_dict = make_str2var_dict(parser)\n",
    "# str_grounded_actions now contains a list of all possible actions grounded to \n",
    "# all possible objects \n",
    "str_grounded_actions = [parser.get_action_groundings(a) for a in parser.actions]\n",
    "\n",
    "# This below block creates all skills (CAE Triples) for the domain!\n",
    "def str_grounded_actions2skills(str_grounded_actions, str2var_dict):\n",
    "    skill_list = []\n",
    "    for action_class in str_grounded_actions:\n",
    "        for grounded_action in action_class:\n",
    "            precond = action2precondition(grounded_action, str2var_dict)\n",
    "            effect_types = action2effect_types(grounded_action, str2var_dict)\n",
    "            skill = SkillPDDL(precond, grounded_action.name, effect_types)\n",
    "            skill_list.append(skill)\n",
    "    return skill_list\n",
    "\n",
    "skill_list = str_grounded_actions2skills(str_grounded_actions, str2var_dict)"
   ]
  },
  {
   "cell_type": "code",
   "execution_count": 6,
   "metadata": {
    "tags": []
   },
   "outputs": [
    {
     "output_type": "stream",
     "name": "stdout",
     "text": "Precondition: And(passenger-x(curly) == taxi-x(t0),\n    passenger-y(curly) == taxi-y(t0),\n    And(Not(passenger-in-taxi(curly, t0)),\n        Not(passenger-in-taxi(smoov, t0))))\nAction: pickup\nEffects: (ET(passenger-in-taxi(curly, t0),True,()),)\nSide Effects: ()\n\nPrecondition: And(passenger-x(smoov) == taxi-x(t0),\n    passenger-y(smoov) == taxi-y(t0),\n    And(Not(passenger-in-taxi(curly, t0)),\n        Not(passenger-in-taxi(smoov, t0))))\nAction: pickup\nEffects: (ET(passenger-in-taxi(smoov, t0),True,()),)\nSide Effects: ()\n\nPrecondition: And(passenger-in-taxi(curly, t0))\nAction: dropoff\nEffects: (ET(passenger-in-taxi(curly, t0),False,()),)\nSide Effects: ()\n\nPrecondition: And(passenger-in-taxi(smoov, t0))\nAction: dropoff\nEffects: (ET(passenger-in-taxi(smoov, t0),False,()),)\nSide Effects: ()\n\nPrecondition: And(And(Not(passenger-in-taxi(curly, t0)),\n        Not(passenger-in-taxi(smoov, t0))))\nAction: move-north\nEffects: (ET(taxi-y(t0),taxi-y(t0) + 1,()),)\nSide Effects: ()\n\nPrecondition: And(And(Not(passenger-in-taxi(curly, t0)),\n        Not(passenger-in-taxi(smoov, t0))))\nAction: move-south\nEffects: (ET(taxi-x(t0),taxi-x(t0) - 1,()),)\nSide Effects: ()\n\nPrecondition: And(And(Not(passenger-in-taxi(curly, t0)),\n        Not(passenger-in-taxi(smoov, t0))))\nAction: move-east\nEffects: (ET(taxi-x(t0),taxi-x(t0) + 1,()),)\nSide Effects: ()\n\nPrecondition: And(And(Not(passenger-in-taxi(curly, t0)),\n        Not(passenger-in-taxi(smoov, t0))))\nAction: move-west\nEffects: (ET(taxi-y(t0),taxi-y(t0) - 1,()),)\nSide Effects: ()\n\nPrecondition: And(passenger-in-taxi(curly, t0))\nAction: move-north-pass\nEffects: (ET(passenger-y(curly),passenger-y(curly) + 1,()), ET(taxi-y(t0),taxi-y(t0) + 1,()))\nSide Effects: ()\n\nPrecondition: And(passenger-in-taxi(smoov, t0))\nAction: move-north-pass\nEffects: (ET(passenger-y(smoov),passenger-y(smoov) + 1,()), ET(taxi-y(t0),taxi-y(t0) + 1,()))\nSide Effects: ()\n\nPrecondition: And(passenger-in-taxi(curly, t0))\nAction: move-south-pass\nEffects: (ET(passenger-y(curly),passenger-y(curly) - 1,()), ET(taxi-y(t0),taxi-y(t0) - 1,()))\nSide Effects: ()\n\nPrecondition: And(passenger-in-taxi(smoov, t0))\nAction: move-south-pass\nEffects: (ET(passenger-y(smoov),passenger-y(smoov) - 1,()), ET(taxi-y(t0),taxi-y(t0) - 1,()))\nSide Effects: ()\n\nPrecondition: And(passenger-in-taxi(curly, t0))\nAction: move-east-pass\nEffects: (ET(passenger-x(curly),passenger-x(curly) + 1,()), ET(taxi-x(t0),taxi-x(t0) + 1,()))\nSide Effects: ()\n\nPrecondition: And(passenger-in-taxi(smoov, t0))\nAction: move-east-pass\nEffects: (ET(passenger-x(smoov),passenger-x(smoov) + 1,()), ET(taxi-x(t0),taxi-x(t0) + 1,()))\nSide Effects: ()\n\nPrecondition: And(passenger-in-taxi(curly, t0))\nAction: move-west-pass\nEffects: (ET(passenger-x(curly),passenger-x(curly) - 1,()), ET(taxi-x(t0),taxi-x(t0) - 1,()))\nSide Effects: ()\n\nPrecondition: And(passenger-in-taxi(smoov, t0))\nAction: move-west-pass\nEffects: (ET(passenger-x(smoov),passenger-x(smoov) - 1,()), ET(taxi-x(t0),taxi-x(t0) - 1,()))\nSide Effects: ()\n"
    }
   ],
   "source": [
    "print(\"\\n\\n\".join(map(str,skill_list)))"
   ]
  },
  {
   "cell_type": "code",
   "execution_count": 7,
   "metadata": {
    "tags": []
   },
   "outputs": [
    {
     "output_type": "stream",
     "name": "stdout",
     "text": "1\n2\n3\n"
    }
   ],
   "source": [
    "print(\"\\n\".join(map(str,[1,2,3])))"
   ]
  },
  {
   "cell_type": "code",
   "execution_count": null,
   "metadata": {},
   "outputs": [],
   "source": []
  }
 ]
}