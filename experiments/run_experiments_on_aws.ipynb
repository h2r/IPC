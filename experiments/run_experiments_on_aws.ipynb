{
 "cells": [
  {
   "cell_type": "markdown",
   "source": [
    "# Run Experiments on AWS\n",
    "\n",
    "**THIS IS NOT YET FINISHED**\n",
    "\n",
    "This notebook will create EC2 instances, run an trial on each instance, move the results to s3, and then compile the results."
   ],
   "metadata": {}
  },
  {
   "cell_type": "code",
   "execution_count": 1,
   "source": [
    "%load_ext autoreload\n",
    "%autoreload 2"
   ],
   "outputs": [],
   "metadata": {}
  },
  {
   "cell_type": "code",
   "execution_count": 2,
   "source": [
    "import os, subprocess\n",
    "import boto3\n",
    "import pandas as pd"
   ],
   "outputs": [],
   "metadata": {}
  },
  {
   "cell_type": "markdown",
   "source": [
    "[Creating new instances](https://boto3.amazonaws.com/v1/documentation/api/latest/guide/migrationec2.html#launching-new-instances)\n",
    "\n",
    "Things to consider:\n",
    "\n",
    "1. Networking\n",
    "2. Security Group\n",
    "3. Image\n",
    "4. Type\n",
    "\n",
    "[This](https://stackoverflow.com/a/46955655) stackoverflow says we can use User Data argument in the [run_instances](https://boto3.amazonaws.com/v1/documentation/api/latest/reference/services/ec2.html#EC2.Client.run_instances) command to run a python script. I've had trouble with User Data before. Hopefully we won't have these issues anymore now that we are only running a single python command and an s3 command (and also are more familiar with ec2/bash)"
   ],
   "metadata": {}
  },
  {
   "cell_type": "markdown",
   "source": [],
   "metadata": {}
  },
  {
   "cell_type": "code",
   "execution_count": null,
   "source": [
    "ec2 = boto3.resource('ec2')\n",
    "# ec2.create_instances(ImageId='<ami-image-id>', MinCount=1, MaxCount=5)"
   ],
   "outputs": [],
   "metadata": {}
  }
 ],
 "metadata": {
  "orig_nbformat": 4,
  "language_info": {
   "name": "python",
   "version": "3.7.9",
   "mimetype": "text/x-python",
   "codemirror_mode": {
    "name": "ipython",
    "version": 3
   },
   "pygments_lexer": "ipython3",
   "nbconvert_exporter": "python",
   "file_extension": ".py"
  },
  "kernelspec": {
   "name": "python3",
   "display_name": "Python 3.7.9 64-bit ('scoping': conda)"
  },
  "interpreter": {
   "hash": "34a80f211ad0548e16ac636072b912d370fd9a7b1349c0500003596c6c4cf720"
  }
 },
 "nbformat": 4,
 "nbformat_minor": 2
}