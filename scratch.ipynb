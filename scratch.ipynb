{
 "metadata": {
  "language_info": {
   "codemirror_mode": {
    "name": "ipython",
    "version": 3
   },
   "file_extension": ".py",
   "mimetype": "text/x-python",
   "name": "python",
   "nbconvert_exporter": "python",
   "pygments_lexer": "ipython3",
   "version": "3.7.7-final"
  },
  "orig_nbformat": 2,
  "kernelspec": {
   "name": "python_defaultSpec_1598213974379",
   "display_name": "Python 3.7.7 64-bit ('scoping': conda)"
  }
 },
 "nbformat": 4,
 "nbformat_minor": 2,
 "cells": [
  {
   "cell_type": "code",
   "execution_count": 1,
   "metadata": {},
   "outputs": [],
   "source": [
    "%load_ext autoreload\n",
    "%autoreload 2"
   ]
  },
  {
   "cell_type": "code",
   "execution_count": 2,
   "metadata": {},
   "outputs": [],
   "source": [
    "from action import Action\n",
    "# from PDDL import PDDL_Parser\n",
    "from PDDLz3 import PDDL_Parser_z3\n",
    "import sys, pprint\n",
    "from collections import OrderedDict\n",
    "from typing import List, Tuple, Dict, Iterable\n",
    "import re, copy\n",
    "import itertools\n",
    "import z3\n",
    "from skill_classes import EffectTypePDDL, SkillPDDL\n",
    "from utils import product_dict, nested_list_replace, get_atoms, get_all_objects, condition_str2objects\n",
    "from scoping import scope\n",
    "import time\n",
    "import re"
   ]
  },
  {
   "cell_type": "code",
   "execution_count": 3,
   "metadata": {},
   "outputs": [],
   "source": [
    "taxi_dom, taxi_prob = \"./examples/existential-taxi/taxi-domain.pddl\", \"./examples/existential-taxi/prob-03.pddl\"\n",
    "\n",
    "domain, problem = taxi_dom, taxi_prob\n",
    "\n",
    "parser = PDDL_Parser_z3()\n",
    "parser.parse_domain(domain)\n",
    "parser.parse_problem(problem)\n",
    "\n",
    "skill_list = parser.get_skills()\n",
    "\n",
    "# This below block converts all the domain's goals to z3\n",
    "goal_cond = parser.get_goal_cond()\n",
    "\n",
    "# This below block converts all the domain's initial conditions to z3\n",
    "init_cond_list = parser.get_init_cond_list()"
   ]
  },
  {
   "cell_type": "code",
   "execution_count": 4,
   "metadata": {
    "tags": []
   },
   "outputs": [
    {
     "output_type": "stream",
     "name": "stdout",
     "text": "(forall (?t - taxi ?p0, ?p1 - passenger) (not (and (\n     (in-taxi ?p0) (in-taxi ?p1) (not (?p0 = ?p1))\n ))))\n"
    }
   ],
   "source": [
    "with open(taxi_dom, \"r\") as f:\n",
    "    dom_s = f.read()\n",
    "state_constraints_s = dom_s.split(\"!!!STATE_CONSTRAINT!!!\")[1].split(\"!!!CONSTRAINT_STATE!!!\")[0].strip().replace(\";\",\"\")\n",
    "print(state_constraints_s)"
   ]
  },
  {
   "cell_type": "code",
   "execution_count": null,
   "metadata": {},
   "outputs": [],
   "source": []
  }
 ]
}