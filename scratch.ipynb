{
 "metadata": {
  "language_info": {
   "codemirror_mode": {
    "name": "ipython",
    "version": 3
   },
   "file_extension": ".py",
   "mimetype": "text/x-python",
   "name": "python",
   "nbconvert_exporter": "python",
   "pygments_lexer": "ipython3",
   "version": "3.7.7-final"
  },
  "orig_nbformat": 2,
  "kernelspec": {
   "name": "python_defaultSpec_1598213974379",
   "display_name": "Python 3.7.7 64-bit ('scoping': conda)"
  }
 },
 "nbformat": 4,
 "nbformat_minor": 2,
 "cells": [
  {
   "cell_type": "code",
   "execution_count": 1,
   "metadata": {},
   "outputs": [],
   "source": [
    "%load_ext autoreload\n",
    "%autoreload 2"
   ]
  },
  {
   "cell_type": "code",
   "execution_count": 3,
   "metadata": {},
   "outputs": [],
   "source": [
    "from action import Action\n",
    "# from PDDL import PDDL_Parser\n",
    "from PDDLz3 import PDDL_Parser_z3\n",
    "import sys, pprint\n",
    "from collections import OrderedDict\n",
    "from typing import List, Tuple, Dict, Iterable\n",
    "import re, copy\n",
    "import itertools\n",
    "import z3\n",
    "from skill_classes import EffectTypePDDL, SkillPDDL\n",
    "from utils import product_dict, nested_list_replace, get_atoms, get_all_objects, condition_str2objects\n",
    "from scoping import scope\n",
    "import time\n",
    "import re"
   ]
  },
  {
   "cell_type": "code",
   "execution_count": 4,
   "metadata": {},
   "outputs": [],
   "source": [
    "taxi_dom, taxi_prob = \"./examples/existential-taxi/taxi-domain.pddl\", \"./examples/existential-taxi/prob-03.pddl\"\n",
    "\n",
    "domain, problem = taxi_dom, taxi_prob\n",
    "\n",
    "parser = PDDL_Parser_z3()\n",
    "parser.parse_domain(domain)\n",
    "parser.parse_problem(problem)\n",
    "\n",
    "skill_list = parser.get_skills()\n",
    "\n",
    "# This below block converts all the domain's goals to z3\n",
    "goal_cond = parser.get_goal_cond()\n",
    "\n",
    "# This below block converts all the domain's initial conditions to z3\n",
    "init_cond_list = parser.get_init_cond_list()"
   ]
  },
  {
   "cell_type": "code",
   "execution_count": 14,
   "metadata": {
    "tags": []
   },
   "outputs": [
    {
     "output_type": "stream",
     "name": "stdout",
     "text": "(forall (?t - taxi ?p0, ?p1 - passenger) (not (and (\n     (in-taxi ?p0) (in-taxi ?p1) (not (?p0 = ?p1))\n ))))\n"
    }
   ],
   "source": [
    "with open(taxi_dom, \"r\") as f:\n",
    "    dom_s = f.read()\n",
    "state_constraints_s = dom_s.split(\"!!!STATE_CONSTRAINT!!!\")[1].split(\"!!!CONSTRAINT_STATE!!!\")[0].strip().replace(\";\",\"\")\n",
    "print(state_constraints_s)"
   ]
  },
  {
   "cell_type": "code",
   "execution_count": 12,
   "metadata": {},
   "outputs": [
    {
     "output_type": "error",
     "ename": "IndexError",
     "evalue": "list index out of range",
     "traceback": [
      "\u001b[0;31m---------------------------------------------------------------------------\u001b[0m",
      "\u001b[0;31mIndexError\u001b[0m                                Traceback (most recent call last)",
      "\u001b[0;32m<ipython-input-12-5ba9e933cce3>\u001b[0m in \u001b[0;36m<module>\u001b[0;34m\u001b[0m\n\u001b[0;32m----> 1\u001b[0;31m \u001b[0mdom_s\u001b[0m\u001b[0;34m.\u001b[0m\u001b[0msplit\u001b[0m\u001b[0;34m(\u001b[0m\u001b[0;34m\"!!!STATE_CONSTRAINT!!!\"\u001b[0m\u001b[0;34m)\u001b[0m\u001b[0;34m[\u001b[0m\u001b[0;36m1\u001b[0m\u001b[0;34m]\u001b[0m\u001b[0;34m\u001b[0m\u001b[0;34m\u001b[0m\u001b[0m\n\u001b[0m",
      "\u001b[0;31mIndexError\u001b[0m: list index out of range"
     ]
    }
   ],
   "source": [
    "dom_s.split(\"!!!STATE_CONSTRAINT!!!\")[1]"
   ]
  },
  {
   "cell_type": "code",
   "execution_count": 13,
   "metadata": {},
   "outputs": [
    {
     "output_type": "execute_result",
     "data": {
      "text/plain": "';; Domain constructed by: Nishanth J. Kumar (nkumar12@cs.brown.edu)\\n\\n(define (domain universal_multipasstaxi)\\n(:requirements :equality :typing :fluents :negative-preconditions :universal-preconditions :existential-preconditions)\\n\\n(:types passenger taxi - object)\\n(:predicates (in-taxi ?p - passenger ?t - taxi))\\n(:functions (pass-y ?p - passenger)\\n            (pass-x ?p - passenger)\\n            (taxi-x ?t - taxi)\\n            (taxi-y ?t - taxi))\\n\\n\\n(:action pickup\\n :parameters (?p - passenger ?t - taxi)\\n :precondition (and (= (pass-x ?p) (taxi-x ?t)) \\n                    (= (pass-y ?p) (taxi-y ?t))\\n                    (forall (?pn - passenger)\\n                       (not (in-taxi ?pn ?t))\\n                    )\\n                )\\n :effect (in-taxi ?p ?t))\\n\\n(:action dropoff\\n :parameters (?p - passenger ?t - taxi)\\n :precondition (in-taxi ?p ?t)\\n :effect (not (in-taxi ?p ?t)))\\n\\n(:action move-north\\n :parameters (?t - taxi)\\n :precondition (forall (?pn - passenger)\\n                        (not (in-taxi ?pn ?t))\\n                    )\\n :effect (and (increase (taxi-y ?t) 1)))\\n\\n(:action move-south\\n :parameters (?t - taxi)\\n :precondition (forall (?pn - passenger)\\n                        (not (in-taxi ?pn ?t))\\n                    )\\n :effect (and (decrease (taxi-y ?t) 1)))\\n\\n(:action move-east\\n :parameters (?t - taxi)\\n :precondition (forall (?pn - passenger)\\n                        (not (in-taxi ?pn ?t))\\n                    )\\n :effect (and (increase (taxi-x ?t) 1)))\\n\\n(:action move-west\\n :parameters (?t - taxi)\\n :precondition (forall (?pn - passenger)\\n                        (not (in-taxi ?pn ?t))\\n                    )\\n :effect (and (decrease (taxi-x ?t) 1)))\\n\\n(:action move-north-pass\\n :parameters (?t - taxi ?p - passenger)\\n :precondition (and (in-taxi ?p ?t)\\n                    (forall (?pb - passenger) (or (= ?pb ?p) (not (in-taxi ?pb ?t)))))\\n :effect (and (increase (taxi-y ?t) 1)\\n              (increase (pass-y ?p) 1)))\\n\\n(:action move-south-pass\\n :parameters (?t - taxi ?p - passenger)\\n :precondition (and (in-taxi ?p ?t)\\n                    (forall (?pb - passenger) (or (= ?pb ?p) (not (in-taxi ?pb ?t)))))\\n :effect (and (decrease (taxi-y ?t) 1)\\n              (decrease (pass-y ?p) 1)))\\n\\n(:action move-east-pass\\n :parameters (?t - taxi ?p - passenger)\\n :precondition (and (in-taxi ?p ?t)\\n                    (forall (?pb - passenger) (or (= ?pb ?p) (not (in-taxi ?pb ?t)))))\\n :effect (and (increase (taxi-x ?t) 1)\\n              (increase (pass-x ?p) 1)))\\n\\n(:action move-west-pass\\n :parameters (?t - taxi ?p - passenger)\\n :precondition (and (in-taxi ?p ?t)\\n                    (forall (?pb - passenger) (or (= ?pb ?p) (not (in-taxi ?pb ?t)))))\\n :effect (and (decrease (taxi-x ?t) 1)\\n              (decrease (pass-x ?p) 1)))\\n\\n)\\n\\n;  (forall (?t - taxi ?p0, ?p1 - passenger) (not (and (\\n;     (in-taxi ?p0) (in-taxi ?p1) (not (?p0 = ?p1))\\n; )))) !!!CONSTRAINT_STATE!!!'"
     },
     "metadata": {},
     "execution_count": 13
    }
   ],
   "source": [
    "dom_s"
   ]
  },
  {
   "cell_type": "code",
   "execution_count": null,
   "metadata": {},
   "outputs": [],
   "source": []
  }
 ]
}