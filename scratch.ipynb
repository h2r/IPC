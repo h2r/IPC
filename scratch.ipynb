{
 "cells": [
  {
   "cell_type": "code",
   "execution_count": 1,
   "metadata": {},
   "outputs": [],
   "source": [
    "%load_ext autoreload\n",
    "%autoreload 2"
   ]
  },
  {
   "cell_type": "code",
   "execution_count": 2,
   "metadata": {},
   "outputs": [],
   "source": [
    "import re"
   ]
  },
  {
   "cell_type": "code",
   "execution_count": 3,
   "metadata": {},
   "outputs": [],
   "source": [
    "def find_closing_paren(s, start):\n",
    "    lefts_left = 0\n",
    "    for i in range(start, len(s)):\n",
    "        c = s[i]\n",
    "        if c == \")\":\n",
    "            lefts_left -= 1\n",
    "            if lefts_left == 0:\n",
    "                return i\n",
    "        elif c == \"(\":\n",
    "            lefts_left += 1"
   ]
  },
  {
   "cell_type": "code",
   "execution_count": 4,
   "metadata": {},
   "outputs": [],
   "source": [
    "def writeback_domain(input_path, output_path, actions):\n",
    "    with open(input_path, \"r\") as f:\n",
    "        domain = f.read()\n",
    "    # TODO find any of a list of action names\n",
    "    for action in bad_actions:\n",
    "        action_prefix = \"\\(:action \" + action\n",
    "        action_start = re.search(action_prefix, domain).start()\n",
    "        action_end = find_closing_paren(domain, action_start) + 1\n",
    "        domain = domain[:action_start] + domain[action_end:]\n",
    "    with open(output_path, \"w\") as f:\n",
    "        f.write(domain)"
   ]
  },
  {
   "cell_type": "code",
   "execution_count": 5,
   "metadata": {},
   "outputs": [],
   "source": [
    "input_path = \"domains/multi_monkeys_playroom_freethrow/multi_monkeys_playroom.pddl\"\n",
    "output_path = \"domains/multi_monkeys_playroom_freethrow/multi_monkeys_playroom_writeback_test.pddl\"\n",
    "bad_actions = [\"turn_on_redbutton\", \"throw_ball_miss_bell\"]\n",
    "writeback_domain(input_path, output_path, bad_actions)"
   ]
  },
  {
   "cell_type": "code",
   "execution_count": 6,
   "metadata": {},
   "outputs": [
    {
     "data": {
      "text/plain": [
       "True"
      ]
     },
     "execution_count": 6,
     "metadata": {},
     "output_type": "execute_result"
    }
   ],
   "source": [
    "isinstance([1,2],(list,tuple))"
   ]
  },
  {
   "cell_type": "code",
   "execution_count": 7,
   "metadata": {},
   "outputs": [],
   "source": [
    "a = [1,2,3]"
   ]
  },
  {
   "cell_type": "code",
   "execution_count": 8,
   "metadata": {},
   "outputs": [],
   "source": [
    "a.extend((5,6,7))"
   ]
  },
  {
   "cell_type": "code",
   "execution_count": 9,
   "metadata": {},
   "outputs": [
    {
     "data": {
      "text/plain": [
       "[1, 2, 3, 5, 6, 7]"
      ]
     },
     "execution_count": 9,
     "metadata": {},
     "output_type": "execute_result"
    }
   ],
   "source": [
    "a"
   ]
  },
  {
   "cell_type": "code",
   "execution_count": 12,
   "metadata": {},
   "outputs": [],
   "source": [
    "m = re.search(\"([0-9]+)\",\"pfile12\")"
   ]
  },
  {
   "cell_type": "code",
   "execution_count": 14,
   "metadata": {},
   "outputs": [
    {
     "data": {
      "text/plain": [
       "'12'"
      ]
     },
     "execution_count": 14,
     "metadata": {},
     "output_type": "execute_result"
    }
   ],
   "source": [
    "m.group()"
   ]
  },
  {
   "cell_type": "code",
   "execution_count": null,
   "metadata": {},
   "outputs": [],
   "source": []
  }
 ],
 "metadata": {
  "kernelspec": {
   "display_name": "Python 3",
   "language": "python",
   "name": "python3"
  },
  "language_info": {
   "codemirror_mode": {
    "name": "ipython",
    "version": 3
   },
   "file_extension": ".py",
   "mimetype": "text/x-python",
   "name": "python",
   "nbconvert_exporter": "python",
   "pygments_lexer": "ipython3",
   "version": "3.7.7"
  }
 },
 "nbformat": 4,
 "nbformat_minor": 4
}
