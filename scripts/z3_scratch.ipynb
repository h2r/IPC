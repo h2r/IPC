{
 "metadata": {
  "language_info": {
   "codemirror_mode": {
    "name": "ipython",
    "version": 3
   },
   "file_extension": ".py",
   "mimetype": "text/x-python",
   "name": "python",
   "nbconvert_exporter": "python",
   "pygments_lexer": "ipython3",
   "version": "3.7.7-final"
  },
  "orig_nbformat": 2,
  "kernelspec": {
   "name": "python_defaultSpec_1599843216968",
   "display_name": "Python 3.7.7 64-bit ('scoping': conda)"
  }
 },
 "nbformat": 4,
 "nbformat_minor": 2,
 "cells": [
  {
   "cell_type": "code",
   "execution_count": 1,
   "metadata": {},
   "outputs": [],
   "source": [
    "%load_ext autoreload\n",
    "%autoreload 2"
   ]
  },
  {
   "cell_type": "code",
   "execution_count": 2,
   "metadata": {},
   "outputs": [],
   "source": [
    "import re, copy, itertools, z3, time, sys, pprint\n",
    "from action import Action\n",
    "# from PDDLz3 import PDDL_Parser_z3, compile_expression, str2expression, extract_typed_objects\n",
    "from collections import OrderedDict\n",
    "from typing import List, Tuple, Dict, Iterable\n",
    "# from skill_classes import EffectTypePDDL, SkillPDDL\n",
    "from utils import product_dict, nested_list_replace, get_atoms, get_all_objects, condition_str2objects\n",
    "# from scoping import scope"
   ]
  },
  {
   "cell_type": "code",
   "execution_count": 8,
   "metadata": {},
   "outputs": [],
   "source": [
    "solver = z3.Solver()"
   ]
  },
  {
   "cell_type": "code",
   "execution_count": 18,
   "metadata": {},
   "outputs": [],
   "source": [
    "def to_cnf(expr, my_solver=None, tactic='aig'):\n",
    "    #tactic = 'simplify'\n",
    "    global solver\n",
    "    if my_solver is None: my_solver = solver\n",
    "    g = z3.Goal()\n",
    "    g.add(expr)\n",
    "    expr = z3.Tactic(tactic)(g).as_expr()\n",
    "    if expr.decl().name() == 'and':\n",
    "        expr = z3.And(*expr.children())\n",
    "    return expr"
   ]
  },
  {
   "cell_type": "code",
   "execution_count": 19,
   "metadata": {
    "tags": []
   },
   "outputs": [
    {
     "output_type": "stream",
     "name": "stdout",
     "text": "Not(Or(Not(A), Not(B)))\n"
    }
   ],
   "source": [
    "expr = z3.Not(z3.Or(z3.Not(z3.Bool(\"A\")),z3.Not(z3.Bool(\"B\")))); print(expr)"
   ]
  },
  {
   "cell_type": "code",
   "execution_count": 20,
   "metadata": {
    "tags": []
   },
   "outputs": [
    {
     "output_type": "stream",
     "name": "stdout",
     "text": "And(A, B)\n"
    }
   ],
   "source": [
    "print(to_cnf(expr))"
   ]
  },
  {
   "cell_type": "code",
   "execution_count": 22,
   "metadata": {},
   "outputs": [],
   "source": [
    "A,B,C = z3.Bools(\"A B C\")"
   ]
  },
  {
   "cell_type": "code",
   "execution_count": 26,
   "metadata": {
    "tags": []
   },
   "outputs": [
    {
     "output_type": "stream",
     "name": "stdout",
     "text": "(1, 2)\n"
    }
   ],
   "source": [
    "for x in itertools.combinations([1,2],2): print(x)"
   ]
  },
  {
   "cell_type": "code",
   "execution_count": 28,
   "metadata": {
    "tags": []
   },
   "outputs": [
    {
     "output_type": "stream",
     "name": "stdout",
     "text": "And(Not(And(A, B)), Not(And(A, C)), Not(And(B, C)))\n"
    }
   ],
   "source": [
    "not_pairs = []\n",
    "for c0, c1 in itertools.combinations([A,B,C],2):\n",
    "    not_pairs.append(z3.Not(z3.And(c0,c1)))\n",
    "max_one = z3.And(not_pairs)\n",
    "print(max_one)"
   ]
  },
  {
   "cell_type": "code",
   "execution_count": 23,
   "metadata": {},
   "outputs": [
    {
     "output_type": "execute_result",
     "data": {
      "text/plain": "A",
      "text/html": "A"
     },
     "metadata": {},
     "execution_count": 23
    }
   ],
   "source": [
    "# all_false = z3.Not(A)"
   ]
  },
  {
   "cell_type": "code",
   "execution_count": null,
   "metadata": {},
   "outputs": [],
   "source": []
  }
 ]
}