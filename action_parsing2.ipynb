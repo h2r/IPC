{
 "metadata": {
  "language_info": {
   "codemirror_mode": {
    "name": "ipython",
    "version": 3
   },
   "file_extension": ".py",
   "mimetype": "text/x-python",
   "name": "python",
   "nbconvert_exporter": "python",
   "pygments_lexer": "ipython3",
   "version": "3.7.7-final"
  },
  "orig_nbformat": 2,
  "kernelspec": {
   "name": "python_defaultSpec_1597578403126",
   "display_name": "Python 3.7.7 64-bit ('scoping': conda)"
  }
 },
 "nbformat": 4,
 "nbformat_minor": 2,
 "cells": [
  {
   "cell_type": "code",
   "execution_count": 1,
   "metadata": {
    "tags": []
   },
   "outputs": [],
   "source": [
    "%load_ext autoreload\n",
    "%autoreload 2"
   ]
  },
  {
   "cell_type": "code",
   "execution_count": 2,
   "metadata": {},
   "outputs": [],
   "source": [
    "from action import Action\n",
    "from PDDL import PDDL_Parser\n",
    "import sys, pprint\n",
    "from collections import OrderedDict\n",
    "import re, copy\n",
    "import itertools\n",
    "import z3\n",
    "from skill_classes import EffectTypePDDL\n",
    "from utils import product_dict, nested_list_replace"
   ]
  },
  {
   "cell_type": "code",
   "execution_count": 3,
   "metadata": {},
   "outputs": [],
   "source": [
    "zeno_dom = \"examples/zeno/zeno.pddl\"\n",
    "zeno_prob = \"examples/zeno/pb1.pddl\""
   ]
  },
  {
   "cell_type": "code",
   "execution_count": 4,
   "metadata": {
    "tags": []
   },
   "outputs": [
    {
     "output_type": "stream",
     "name": "stdout",
     "text": "----------------------------\n----------------------------\n['locatable city - object', 'aircraft person - locatable']\nDomain name: zenotravel\n~~~Types~~~\naircraft\ncity\nlocatable\nobject\nperson\n~~~Type Hierarchy~~~\naircraft: []\ncity: []\nlocatable: ['aircraft', 'person']\nobject: ['city', 'locatable']\nperson: []\n~~~Predicates~~~\nlocated(OrderedDict([('?x', 'locatable'), ('?c', 'city')])\nin(OrderedDict([('?p', 'person'), ('?a', 'aircraft')])\n----------------------------\n~~~Functions~~~\nfuel(OrderedDict([('?a', 'aircraft')])\ndistance(OrderedDict([('?c1', 'city'), ('?c2', 'city')])\nslow-burn(OrderedDict([('?a', 'aircraft')])\nfast-burn(OrderedDict([('?a', 'aircraft')])\ncapacity(OrderedDict([('?a', 'aircraft')])\ntotal-fuel-used(OrderedDict()\nonboard(OrderedDict([('?a', 'aircraft')])\nzoom-limit(OrderedDict([('?a', 'aircraft')])\n----------------------------\n~~~Actions~~~\naction: board\n  parameters: [['?p', 'person'], ['?a', 'aircraft'], ['?c', 'city']]\n  positive_preconditions: [['located', '?p', '?c'], ['located', '?a', '?c']]\n  negative_preconditions: []\n  add_effects: [['in', '?p', '?a'], ['increase', ['onboard', '?a'], '1']]\n  del_effects: [['located', '?p', '?c']]\n\n\n\naction: debark\n  parameters: [['?p', 'person'], ['?a', 'aircraft'], ['?c', 'city']]\n  positive_preconditions: [['in', '?p', '?a'], ['located', '?a', '?c']]\n  negative_preconditions: []\n  add_effects: [['located', '?p', '?c'], ['decrease', ['onboard', '?a'], '1']]\n  del_effects: [['in', '?p', '?a']]\n\n\n\naction: fly-slow\n  parameters: [['?a', 'aircraft'], ['?c1', 'city'], ['?c2', 'city']]\n  positive_preconditions: [['located', '?a', '?c1'], ['>=', ['fuel', '?a'], ['*', ['distance', '?c1', '?c2'], ['slow-burn', '?a']]]]\n  negative_preconditions: []\n  add_effects: [['located', '?a', '?c2'], ['increase', ['total-fuel-used'], ['*', ['distance', '?c1', '?c2'], ['slow-burn', '?a']]], ['decrease', ['fuel', '?a'], ['*', ['distance', '?c1', '?c2'], ['slow-burn', '?a']]]]\n  del_effects: [['located', '?a', '?c1']]\n\n\n\naction: fly-fast\n  parameters: [['?a', 'aircraft'], ['?c1', 'city'], ['?c2', 'city']]\n  positive_preconditions: [['located', '?a', '?c1'], ['>=', ['fuel', '?a'], ['*', ['distance', '?c1', '?c2'], ['fast-burn', '?a']]], ['<=', ['onboard', '?a'], ['zoom-limit', '?a']]]\n  negative_preconditions: []\n  add_effects: [['located', '?a', '?c2'], ['increase', ['total-fuel-used'], ['*', ['distance', '?c1', '?c2'], ['fast-burn', '?a']]], ['decrease', ['fuel', '?a'], ['*', ['distance', '?c1', '?c2'], ['fast-burn', '?a']]]]\n  del_effects: [['located', '?a', '?c1']]\n\n\n\naction: refuel\n  parameters: [['?a', 'aircraft']]\n  positive_preconditions: [['>', ['capacity', '?a'], ['fuel', '?a']]]\n  negative_preconditions: []\n  add_effects: [['assign', ['fuel', '?a'], ['capacity', '?a']]]\n  del_effects: []\n\n\n\n----------------------------\nProblem name: ztravel-1-2\nObjects: {'aircraft': ['plane1'], 'person': ['person1', 'person2', 'person3'], 'city': ['city0', 'city1', 'city2']}\nState: [['located', 'plane1', 'city0'], ['=', ['capacity', 'plane1'], '6000'], ['=', ['fuel', 'plane1'], '4000'], ['=', ['slow-burn', 'plane1'], '4'], ['=', ['fast-burn', 'plane1'], '15'], ['=', ['onboard', 'plane1'], '0'], ['=', ['zoom-limit', 'plane1'], '8'], ['located', 'person1', 'city0'], ['located', 'person2', 'city0'], ['located', 'person3', 'city1'], ['=', ['distance', 'city0', 'city0'], '0'], ['=', ['distance', 'city0', 'city1'], '678'], ['=', ['distance', 'city0', 'city2'], '775'], ['=', ['distance', 'city1', 'city0'], '678'], ['=', ['distance', 'city1', 'city1'], '0'], ['=', ['distance', 'city1', 'city2'], '810'], ['=', ['distance', 'city2', 'city0'], '775'], ['=', ['distance', 'city2', 'city1'], '810'], ['=', ['distance', 'city2', 'city2'], '0'], ['=', ['total-fuel-used'], '0']]\nPositive goals: [['located', 'person1', 'city2'], ['located', 'person2', 'city1'], ['located', 'person3', 'city2']]\nNegative goals: []\n"
    }
   ],
   "source": [
    "# domain, problem = dinner_dom, dinner_prob\n",
    "domain, problem = zeno_dom, zeno_prob\n",
    "\n",
    "parser = PDDL_Parser()\n",
    "print('----------------------------')\n",
    "# pprint.pprint(parser.scan_tokens(problem))\n",
    "print('----------------------------')\n",
    "parser.parse_domain(domain)\n",
    "parser.parse_problem(problem)\n",
    "print('Domain name: ' + parser.domain_name)\n",
    "print(f'~~~Types~~~')\n",
    "for t in parser.types: print(t)\n",
    "print(f'~~~Type Hierarchy~~~')\n",
    "for k,v in parser.type_hierarchy.items():\n",
    "    print(f\"{k}: {v}\")\n",
    "print(f'~~~Predicates~~~')\n",
    "for nm, args in parser.predicates.items():\n",
    "    print(f\"{nm}({args}\")\n",
    "#     print(\"\")\n",
    "print('----------------------------')\n",
    "print(f'~~~Functions~~~')\n",
    "for nm, args in parser.functions.items():\n",
    "    print(f\"{nm}({args}\")\n",
    "#     print(\"\")\n",
    "print('----------------------------')\n",
    "print('~~~Actions~~~')\n",
    "for act in parser.actions:\n",
    "    print(act)\n",
    "    # print(\"effect types:\")\n",
    "    # for ef in action2EffectTypes(act): print(f\"\\t{ef}\")\n",
    "    print(\"\\n\")\n",
    "print('----------------------------')\n",
    "print('Problem name: ' + parser.problem_name)\n",
    "print('Objects: ' + str(parser.objects))\n",
    "print('State: ' + str(parser.state))\n",
    "print('Positive goals: ' + str(parser.positive_goals))\n",
    "print('Negative goals: ' + str(parser.negative_goals))"
   ]
  },
  {
   "cell_type": "code",
   "execution_count": 5,
   "metadata": {
    "tags": []
   },
   "outputs": [
    {
     "output_type": "stream",
     "name": "stdout",
     "text": "action: board\n  parameters: [['person1', 'person'], ['plane1', 'aircraft'], ['city0', 'city']]\n  positive_preconditions: [['located', 'person1', 'city0'], ['located', 'plane1', 'city0']]\n  negative_preconditions: []\n  add_effects: [['in', 'person1', 'plane1'], ['increase', ['onboard', 'plane1'], '1']]\n  del_effects: [['located', 'person1', 'city0']]\n\naction: board\n  parameters: [['person1', 'person'], ['plane1', 'aircraft'], ['city1', 'city']]\n  positive_preconditions: [['located', 'person1', 'city1'], ['located', 'plane1', 'city1']]\n  negative_preconditions: []\n  add_effects: [['in', 'person1', 'plane1'], ['increase', ['onboard', 'plane1'], '1']]\n  del_effects: [['located', 'person1', 'city1']]\n\naction: board\n  parameters: [['person1', 'person'], ['plane1', 'aircraft'], ['city2', 'city']]\n  positive_preconditions: [['located', 'person1', 'city2'], ['located', 'plane1', 'city2']]\n  negative_preconditions: []\n  add_effects: [['in', 'person1', 'plane1'], ['increase', ['onboard', 'plane1'], '1']]\n  del_effects: [['located', 'person1', 'city2']]\n\naction: board\n  parameters: [['person2', 'person'], ['plane1', 'aircraft'], ['city0', 'city']]\n  positive_preconditions: [['located', 'person2', 'city0'], ['located', 'plane1', 'city0']]\n  negative_preconditions: []\n  add_effects: [['in', 'person2', 'plane1'], ['increase', ['onboard', 'plane1'], '1']]\n  del_effects: [['located', 'person2', 'city0']]\n\naction: board\n  parameters: [['person2', 'person'], ['plane1', 'aircraft'], ['city1', 'city']]\n  positive_preconditions: [['located', 'person2', 'city1'], ['located', 'plane1', 'city1']]\n  negative_preconditions: []\n  add_effects: [['in', 'person2', 'plane1'], ['increase', ['onboard', 'plane1'], '1']]\n  del_effects: [['located', 'person2', 'city1']]\n\naction: board\n  parameters: [['person2', 'person'], ['plane1', 'aircraft'], ['city2', 'city']]\n  positive_preconditions: [['located', 'person2', 'city2'], ['located', 'plane1', 'city2']]\n  negative_preconditions: []\n  add_effects: [['in', 'person2', 'plane1'], ['increase', ['onboard', 'plane1'], '1']]\n  del_effects: [['located', 'person2', 'city2']]\n\naction: board\n  parameters: [['person3', 'person'], ['plane1', 'aircraft'], ['city0', 'city']]\n  positive_preconditions: [['located', 'person3', 'city0'], ['located', 'plane1', 'city0']]\n  negative_preconditions: []\n  add_effects: [['in', 'person3', 'plane1'], ['increase', ['onboard', 'plane1'], '1']]\n  del_effects: [['located', 'person3', 'city0']]\n\naction: board\n  parameters: [['person3', 'person'], ['plane1', 'aircraft'], ['city1', 'city']]\n  positive_preconditions: [['located', 'person3', 'city1'], ['located', 'plane1', 'city1']]\n  negative_preconditions: []\n  add_effects: [['in', 'person3', 'plane1'], ['increase', ['onboard', 'plane1'], '1']]\n  del_effects: [['located', 'person3', 'city1']]\n\naction: board\n  parameters: [['person3', 'person'], ['plane1', 'aircraft'], ['city2', 'city']]\n  positive_preconditions: [['located', 'person3', 'city2'], ['located', 'plane1', 'city2']]\n  negative_preconditions: []\n  add_effects: [['in', 'person3', 'plane1'], ['increase', ['onboard', 'plane1'], '1']]\n  del_effects: [['located', 'person3', 'city2']]\n\n"
    }
   ],
   "source": [
    "action_groundings = [parser.get_action_groundings(a) for a in parser.actions]\n",
    "print(\"\\n\".join([str(x) for x in action_groundings[0]]))"
   ]
  },
  {
   "cell_type": "code",
   "execution_count": 6,
   "metadata": {},
   "outputs": [],
   "source": [
    "def list_is_flat(l):\n",
    "    for x in l: \n",
    "        if isinstance(x, list):\n",
    "            return False\n",
    "    return True"
   ]
  },
  {
   "cell_type": "code",
   "execution_count": 7,
   "metadata": {},
   "outputs": [],
   "source": [
    "def make_z3Bool_from_list(expr_list):\n",
    "    return_str = precond_list[0] + '('\n",
    "    for obj in precond_list[1:]:\n",
    "        return_str += obj + ', '\n",
    "    return_str = return_str[:-2]\n",
    "    return_str += ')'\n",
    "    return_expr = z3.Bool(return_str)\n",
    "    return return_expr"
   ]
  },
  {
   "cell_type": "code",
   "execution_count": 8,
   "metadata": {},
   "outputs": [],
   "source": [
    "for a_id, action in enumerate(parser.actions):\n",
    "    grounding = action_groundings[a_id]    "
   ]
  },
  {
   "cell_type": "code",
   "execution_count": 9,
   "metadata": {
    "tags": []
   },
   "outputs": [
    {
     "output_type": "stream",
     "name": "stdout",
     "text": "action: board\n  parameters: [['?p', 'person'], ['?a', 'aircraft'], ['?c', 'city']]\n  positive_preconditions: [['located', '?p', '?c'], ['located', '?a', '?c']]\n  negative_preconditions: []\n  add_effects: [['in', '?p', '?a'], ['increase', ['onboard', '?a'], '1']]\n  del_effects: [['located', '?p', '?c']]\n\n"
    }
   ],
   "source": [
    "print(parser.actions[0])"
   ]
  },
  {
   "cell_type": "code",
   "execution_count": 10,
   "metadata": {
    "tags": []
   },
   "outputs": [
    {
     "output_type": "stream",
     "name": "stdout",
     "text": "located OrderedDict([('?x', 'locatable'), ('?c', 'city')])\nin OrderedDict([('?p', 'person'), ('?a', 'aircraft')])\n"
    }
   ],
   "source": [
    "for k, v in parser.predicates.items():\n",
    "    print(k,v)"
   ]
  },
  {
   "cell_type": "markdown",
   "metadata": {},
   "source": [
    "## Make z3 vars"
   ]
  },
  {
   "cell_type": "markdown",
   "metadata": {},
   "source": [
    "Make all z3 bools"
   ]
  },
  {
   "cell_type": "code",
   "execution_count": 11,
   "metadata": {},
   "outputs": [],
   "source": [
    "def make_z3_atoms(things_dict, z3_class, str2var = None):\n",
    "    \"\"\"\n",
    "    things_dict should be parser.predicates or parser.functions\n",
    "    z3_class should be z3.Bool or z3.Int\n",
    "    str2var is the dictionary you want to update. If none, a new OrderedDict is created\n",
    "    \"\"\"\n",
    "    if str2var is None:\n",
    "        str2var = OrderedDict()\n",
    "    for p_name, p_args in things_dict.items():\n",
    "        # print(p_name)\n",
    "        groundings = product_dict(**OrderedDict([(varnm, parser.get_objects_of_type(vartype)) for (varnm, vartype) in p_args.items()]))\n",
    "        for x in groundings:\n",
    "            # print(x)\n",
    "            s = p_name + \"(\" + \", \".join(x.values()) + \")\"\n",
    "            # print(s)\n",
    "            grounded_predicate = z3_class(s)\n",
    "            assert s not in str2var.keys(), f\"{s}: {str2var[s]}, {grounded_predicate}\"\n",
    "            str2var[s] = grounded_predicate\n",
    "    return str2var"
   ]
  },
  {
   "cell_type": "code",
   "execution_count": 12,
   "metadata": {
    "tags": []
   },
   "outputs": [],
   "source": [
    "str2var = OrderedDict()\n",
    "make_z3_atoms(parser.predicates, z3.Bool, str2var);\n",
    "make_z3_atoms(parser.functions, z3.Int, str2var);"
   ]
  },
  {
   "cell_type": "code",
   "execution_count": 13,
   "metadata": {
    "tags": []
   },
   "outputs": [
    {
     "output_type": "stream",
     "name": "stdout",
     "text": "located(plane1, city0) located(plane1, city0) <class 'z3.z3.BoolRef'>\nlocated(plane1, city1) located(plane1, city1) <class 'z3.z3.BoolRef'>\nlocated(plane1, city2) located(plane1, city2) <class 'z3.z3.BoolRef'>\nlocated(person1, city0) located(person1, city0) <class 'z3.z3.BoolRef'>\nlocated(person1, city1) located(person1, city1) <class 'z3.z3.BoolRef'>\nlocated(person1, city2) located(person1, city2) <class 'z3.z3.BoolRef'>\nlocated(person2, city0) located(person2, city0) <class 'z3.z3.BoolRef'>\nlocated(person2, city1) located(person2, city1) <class 'z3.z3.BoolRef'>\nlocated(person2, city2) located(person2, city2) <class 'z3.z3.BoolRef'>\nlocated(person3, city0) located(person3, city0) <class 'z3.z3.BoolRef'>\nlocated(person3, city1) located(person3, city1) <class 'z3.z3.BoolRef'>\nlocated(person3, city2) located(person3, city2) <class 'z3.z3.BoolRef'>\nin(person1, plane1) in(person1, plane1) <class 'z3.z3.BoolRef'>\nin(person2, plane1) in(person2, plane1) <class 'z3.z3.BoolRef'>\nin(person3, plane1) in(person3, plane1) <class 'z3.z3.BoolRef'>\nfuel(plane1) fuel(plane1) <class 'z3.z3.ArithRef'>\ndistance(city0, city0) distance(city0, city0) <class 'z3.z3.ArithRef'>\ndistance(city0, city1) distance(city0, city1) <class 'z3.z3.ArithRef'>\ndistance(city0, city2) distance(city0, city2) <class 'z3.z3.ArithRef'>\ndistance(city1, city0) distance(city1, city0) <class 'z3.z3.ArithRef'>\ndistance(city1, city1) distance(city1, city1) <class 'z3.z3.ArithRef'>\ndistance(city1, city2) distance(city1, city2) <class 'z3.z3.ArithRef'>\ndistance(city2, city0) distance(city2, city0) <class 'z3.z3.ArithRef'>\ndistance(city2, city1) distance(city2, city1) <class 'z3.z3.ArithRef'>\ndistance(city2, city2) distance(city2, city2) <class 'z3.z3.ArithRef'>\nslow-burn(plane1) slow-burn(plane1) <class 'z3.z3.ArithRef'>\nfast-burn(plane1) fast-burn(plane1) <class 'z3.z3.ArithRef'>\ncapacity(plane1) capacity(plane1) <class 'z3.z3.ArithRef'>\ntotal-fuel-used() total-fuel-used() <class 'z3.z3.ArithRef'>\nonboard(plane1) onboard(plane1) <class 'z3.z3.ArithRef'>\nzoom-limit(plane1) zoom-limit(plane1) <class 'z3.z3.ArithRef'>\n"
    }
   ],
   "source": [
    "for k, v in str2var.items():\n",
    "    print(k,v, type(v))"
   ]
  },
  {
   "cell_type": "code",
   "execution_count": 14,
   "metadata": {
    "tags": []
   },
   "outputs": [
    {
     "output_type": "stream",
     "name": "stdout",
     "text": "action: board\n  parameters: [['person1', 'person'], ['plane1', 'aircraft'], ['city0', 'city']]\n  positive_preconditions: [['located', 'person1', 'city0'], ['located', 'plane1', 'city0']]\n  negative_preconditions: []\n  add_effects: [['in', 'person1', 'plane1'], ['increase', ['onboard', 'plane1'], '1']]\n  del_effects: [['located', 'person1', 'city0']]\n\n"
    }
   ],
   "source": [
    "a = action_groundings[0][0]; print(a)"
   ]
  },
  {
   "cell_type": "code",
   "execution_count": null,
   "metadata": {},
   "outputs": [],
   "source": []
  },
  {
   "cell_type": "code",
   "execution_count": 15,
   "metadata": {
    "tags": []
   },
   "outputs": [
    {
     "output_type": "stream",
     "name": "stdout",
     "text": "[located(person1, city0), located(plane1, city0)]\n"
    }
   ],
   "source": [
    "# This works for bool pvar preconditions, not more complex preconditions\n",
    "z3_preconditions = []\n",
    "for p in a.positive_preconditions:\n",
    "    s = p[0] + \"(\" + \", \".join(p[1:]) + \")\"\n",
    "    z3_preconditions.append(str2var[s])\n",
    "for p in a.negative_preconditions:\n",
    "    s = p[0] + \"(\" + \", \".join(p[1:]) + \")\"\n",
    "    z3_preconditions.append(z3.Not(str2var[s]))\n",
    "print(z3_preconditions)"
   ]
  },
  {
   "cell_type": "code",
   "execution_count": 16,
   "metadata": {},
   "outputs": [],
   "source": [
    "# Will use this in AST type parser for complex preconditions. Not yet in use. Maybe useful to look at how we traversed the ast in the RDDL parser\n",
    "str2comparator = {\n",
    "    \"<\": lambda a, b: a < b,\n",
    "    \"<=\": lambda a, b: a <= b,\n",
    "    \">\": lambda a, b: a > b,\n",
    "    \">=\": lambda a, b: a >= b,\n",
    "    \"=\": lambda a, b: a == b\n",
    "}"
   ]
  },
  {
   "cell_type": "code",
   "execution_count": 17,
   "metadata": {
    "tags": []
   },
   "outputs": [
    {
     "output_type": "stream",
     "name": "stdout",
     "text": "['located', '?a', '?c1']\n['>=', ['fuel', '?a'], ['*', ['distance', '?c1', '?c2'], ['slow-burn', '?a']]]\n"
    }
   ],
   "source": [
    "a = list(parser.actions)[2]\n",
    "for p in a.positive_preconditions: print(p)"
   ]
  },
  {
   "cell_type": "code",
   "execution_count": null,
   "metadata": {},
   "outputs": [],
   "source": []
  }
 ]
}