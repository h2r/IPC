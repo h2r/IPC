{
 "cells": [
  {
   "cell_type": "code",
   "execution_count": 1,
   "metadata": {
    "tags": []
   },
   "outputs": [],
   "source": [
    "%load_ext autoreload\n",
    "%autoreload 2"
   ]
  },
  {
   "cell_type": "code",
   "execution_count": 5,
   "metadata": {},
   "outputs": [],
   "source": [
    "from action import Action\n",
    "from PDDL import PDDL_Parser\n",
    "import sys, pprint\n",
    "from collections import OrderedDict\n",
    "from typing import List, Tuple, Dict, Iterable\n",
    "from collections import OrderedDict\n",
    "import re, copy\n",
    "import itertools\n",
    "import z3\n",
    "from skill_classes import EffectTypePDDL, SkillPDDL\n",
    "from utils import product_dict, nested_list_replace, get_atoms"
   ]
  },
  {
   "cell_type": "code",
   "execution_count": 6,
   "metadata": {},
   "outputs": [],
   "source": [
    "zeno_dom = \"examples/existential-taxi/taxi-domain.pddl\"\n",
    "zeno_prob = \"examples/existential-taxi/prob01.pddl\""
   ]
  },
  {
   "cell_type": "code",
   "execution_count": 7,
   "metadata": {
    "tags": []
   },
   "outputs": [
    {
     "output_type": "stream",
     "name": "stdout",
     "text": "----------------------------\n----------------------------\nDomain name: universal_multipasstaxi\n~~~Types~~~\nobject\npassenger\ntaxi\n~~~Type Hierarchy~~~\nobject: ['passenger', 'taxi']\npassenger: []\ntaxi: []\n~~~Predicates~~~\npassenger-in-taxi(OrderedDict([('?p', 'passenger'), ('?t', 'taxi')])\n----------------------------\n~~~Functions~~~\npassenger-y(OrderedDict([('?p', 'passenger')])\npassenger-x(OrderedDict([('?p', 'passenger')])\ntaxi-x(OrderedDict([('?t', 'taxi')])\ntaxi-y(OrderedDict([('?t', 'taxi')])\n----------------------------\n~~~Actions~~~\naction: pickup\n  parameters: [['?p', 'passenger'], ['?t', 'taxi']]\n  positive_preconditions: [['=', ['passenger-x', '?p'], ['taxi-x', '?t']], ['=', ['passenger-y', '?p'], ['taxi-y', '?t']], ['forall', ['?pn', '-', 'passenger'], ['not', ['passenger-in-taxi', '?pn', '?t']]]]\n  negative_preconditions: []\n  add_effects: [['passenger-in-taxi', '?p', '?t']]\n  del_effects: []\n\n\n\naction: dropoff\n  parameters: [['?p', 'passenger'], ['?t', 'taxi']]\n  positive_preconditions: [['passenger-in-taxi', '?p', '?t']]\n  negative_preconditions: []\n  add_effects: []\n  del_effects: [['passenger-in-taxi', '?p', '?t']]\n\n\n\naction: move-north\n  parameters: [['?t', 'taxi']]\n  positive_preconditions: [['forall', ['?pn', '-', 'passenger'], ['not', ['passenger-in-taxi', '?pn', '?t']]]]\n  negative_preconditions: []\n  add_effects: [['increase', ['taxi-y', '?t'], '1']]\n  del_effects: []\n\n\n\naction: move-south\n  parameters: [['?t', 'taxi']]\n  positive_preconditions: [['forall', ['?pn', '-', 'passenger'], ['not', ['passenger-in-taxi', '?pn', '?t']]]]\n  negative_preconditions: []\n  add_effects: [['decrease', ['taxi-x', '?t'], '1']]\n  del_effects: []\n\n\n\naction: move-east\n  parameters: [['?t', 'taxi']]\n  positive_preconditions: [['forall', ['?pn', '-', 'passenger'], ['not', ['passenger-in-taxi', '?pn', '?t']]]]\n  negative_preconditions: []\n  add_effects: [['increase', ['taxi-x', '?t'], '1']]\n  del_effects: []\n\n\n\naction: move-west\n  parameters: [['?t', 'taxi']]\n  positive_preconditions: [['forall', ['?pn', '-', 'passenger'], ['not', ['passenger-in-taxi', '?pn', '?t']]]]\n  negative_preconditions: []\n  add_effects: [['decrease', ['taxi-y', '?t'], '1']]\n  del_effects: []\n\n\n\naction: move-north-pass\n  parameters: [['?t', 'taxi'], ['?p', 'passenger']]\n  positive_preconditions: [['passenger-in-taxi', '?p', '?t']]\n  negative_preconditions: []\n  add_effects: [['increase', ['taxi-y', '?t'], '1'], ['increase', ['passenger-y', '?p'], '1']]\n  del_effects: []\n\n\n\naction: move-south-pass\n  parameters: [['?t', 'taxi'], ['?p', 'passenger']]\n  positive_preconditions: [['passenger-in-taxi', '?p', '?t']]\n  negative_preconditions: []\n  add_effects: [['decrease', ['taxi-y', '?t'], '1'], ['decrease', ['passenger-y', '?p'], '1']]\n  del_effects: []\n\n\n\naction: move-east-pass\n  parameters: [['?t', 'taxi'], ['?p', 'passenger']]\n  positive_preconditions: [['passenger-in-taxi', '?p', '?t']]\n  negative_preconditions: []\n  add_effects: [['increase', ['taxi-x', '?t'], '1'], ['increase', ['passenger-x', '?p'], '1']]\n  del_effects: []\n\n\n\naction: move-west-pass\n  parameters: [['?t', 'taxi'], ['?p', 'passenger']]\n  positive_preconditions: [['passenger-in-taxi', '?p', '?t']]\n  negative_preconditions: []\n  add_effects: [['decrease', ['taxi-x', '?t'], '1'], ['decrease', ['passenger-x', '?p'], '1']]\n  del_effects: []\n\n\n\n----------------------------\nProblem name: unitaxinumeric-1\nObjects: {'passenger': ['curly'], 'taxi': ['t0']}\nState: [['=', ['taxi-x', 't0'], '0'], ['=', ['taxi-y', 't0'], '0'], ['=', ['passenger-x', 'curly'], '3'], ['=', ['passenger-y', 'curly'], '3']]\nPositive goals: [['=', ['passenger-y', 'curly'], '5'], ['=', ['passenger-x', 'curly'], '5']]\nNegative goals: [['passenger-in-taxi', 'curly', 't0']]\n"
    }
   ],
   "source": [
    "# domain, problem = dinner_dom, dinner_prob\n",
    "domain, problem = zeno_dom, zeno_prob\n",
    "\n",
    "parser = PDDL_Parser()\n",
    "print('----------------------------')\n",
    "# pprint.pprint(parser.scan_tokens(problem))\n",
    "print('----------------------------')\n",
    "parser.parse_domain(domain)\n",
    "parser.parse_problem(problem)\n",
    "print('Domain name: ' + parser.domain_name)\n",
    "print(f'~~~Types~~~')\n",
    "for t in parser.types: print(t)\n",
    "print(f'~~~Type Hierarchy~~~')\n",
    "for k,v in parser.type_hierarchy.items():\n",
    "    print(f\"{k}: {v}\")\n",
    "print(f'~~~Predicates~~~')\n",
    "for nm, args in parser.predicates.items():\n",
    "    print(f\"{nm}({args}\")\n",
    "#     print(\"\")\n",
    "print('----------------------------')\n",
    "print(f'~~~Functions~~~')\n",
    "for nm, args in parser.functions.items():\n",
    "    print(f\"{nm}({args}\")\n",
    "#     print(\"\")\n",
    "print('----------------------------')\n",
    "print('~~~Actions~~~')\n",
    "for act in parser.actions:\n",
    "    print(act)\n",
    "    # print(\"effect types:\")\n",
    "    # for ef in action2EffectTypes(act): print(f\"\\t{ef}\")\n",
    "    print(\"\\n\")\n",
    "print('----------------------------')\n",
    "print('Problem name: ' + parser.problem_name)\n",
    "print('Objects: ' + str(parser.objects))\n",
    "print('State: ' + str(parser.state))\n",
    "print('Positive goals: ' + str(parser.positive_goals))\n",
    "print('Negative goals: ' + str(parser.negative_goals))"
   ]
  },
  {
   "cell_type": "code",
   "execution_count": 8,
   "metadata": {},
   "outputs": [],
   "source": [
    "def list_is_flat(l):\n",
    "    for x in l: \n",
    "        if isinstance(x, list):\n",
    "            return False\n",
    "    return True"
   ]
  },
  {
   "cell_type": "markdown",
   "metadata": {},
   "source": [
    "## Make z3 vars"
   ]
  },
  {
   "cell_type": "markdown",
   "metadata": {},
   "source": [
    "Make all z3 bools"
   ]
  },
  {
   "cell_type": "code",
   "execution_count": 9,
   "metadata": {},
   "outputs": [],
   "source": [
    "def make_z3_atoms(things_dict, z3_class, str2var = None):\n",
    "    \"\"\"\n",
    "    things_dict should be parser.predicates or parser.functions\n",
    "    z3_class should be z3.Bool or z3.Int\n",
    "    str2var is the dictionary you want to update. If none, a new OrderedDict is created\n",
    "    \"\"\"\n",
    "    if str2var is None:\n",
    "        str2var = OrderedDict()\n",
    "    for p_name, p_args in things_dict.items():\n",
    "        # print(p_name)\n",
    "        groundings = product_dict(**OrderedDict([(varnm, parser.get_objects_of_type(vartype)) for (varnm, vartype) in p_args.items()]))\n",
    "        for x in groundings:\n",
    "            # print(x)\n",
    "            s = p_name + \"(\" + \", \".join(x.values()) + \")\"\n",
    "            # print(s)\n",
    "            grounded_predicate = z3_class(s)\n",
    "            assert s not in str2var.keys(), f\"{s}: {str2var[s]}, {grounded_predicate}\"\n",
    "            str2var[s] = grounded_predicate\n",
    "    return str2var"
   ]
  },
  {
   "cell_type": "code",
   "execution_count": 11,
   "metadata": {
    "tags": []
   },
   "outputs": [
    {
     "output_type": "stream",
     "name": "stdout",
     "text": "OrderedDict([('passenger-in-taxi(curly, t0)', passenger-in-taxi(curly, t0)), ('passenger-y(curly)', passenger-y(curly)), ('passenger-x(curly)', passenger-x(curly)), ('taxi-x(t0)', taxi-x(t0)), ('taxi-y(t0)', taxi-y(t0))])\n"
    }
   ],
   "source": [
    "str2var = OrderedDict()\n",
    "make_z3_atoms(parser.predicates, z3.Bool, str2var)\n",
    "make_z3_atoms(parser.functions, z3.Int, str2var)\n",
    "print(str2var)"
   ]
  },
  {
   "cell_type": "code",
   "execution_count": 12,
   "metadata": {
    "tags": []
   },
   "outputs": [
    {
     "output_type": "stream",
     "name": "stdout",
     "text": "passenger-in-taxi(curly, t0) passenger-in-taxi(curly, t0) <class 'z3.z3.BoolRef'>\npassenger-y(curly) passenger-y(curly) <class 'z3.z3.ArithRef'>\npassenger-x(curly) passenger-x(curly) <class 'z3.z3.ArithRef'>\ntaxi-x(t0) taxi-x(t0) <class 'z3.z3.ArithRef'>\ntaxi-y(t0) taxi-y(t0) <class 'z3.z3.ArithRef'>\n"
    }
   ],
   "source": [
    "for k, v in str2var.items():\n",
    "    print(k,v, type(v))"
   ]
  },
  {
   "cell_type": "code",
   "execution_count": 13,
   "metadata": {},
   "outputs": [],
   "source": [
    "# Will use this in AST type parser for complex preconditions. Not yet in use. Maybe useful to look at how we traversed the ast in the RDDL parser\n",
    "str2operator = {\n",
    "    \"<\": lambda a, b: a < b,\n",
    "    \"<=\": lambda a, b: a <= b,\n",
    "    \">\": lambda a, b: a > b,\n",
    "    \">=\": lambda a, b: a >= b,\n",
    "    \"=\": lambda a, b: a == b,\n",
    "    \"*\": lambda a, b: a * b,\n",
    "    \"+\": lambda a, b: a + b,\n",
    "    \"/\": lambda a, b: a / b,\n",
    "    \"-\": lambda a, b: a - b,\n",
    "    \"increase\": lambda a, b: a + b,\n",
    "    \"decrease\": lambda a, b: a - b,\n",
    "    \"assign\": lambda a, b: b\n",
    "}"
   ]
  },
  {
   "cell_type": "code",
   "execution_count": 14,
   "metadata": {
    "tags": []
   },
   "outputs": [
    {
     "output_type": "stream",
     "name": "stdout",
     "text": "['forall', ['?pn', '-', 'passenger'], ['not', ['passenger-in-taxi', '?pn', '?t']]]\n"
    }
   ],
   "source": [
    "a = list(parser.actions)[2]\n",
    "for p in a.positive_preconditions: print(p)"
   ]
  },
  {
   "cell_type": "code",
   "execution_count": 15,
   "metadata": {},
   "outputs": [],
   "source": [
    "def list2var_str(x):\n",
    "    return x[0] + \"(\" + \", \".join(x[1:]) + \")\""
   ]
  },
  {
   "cell_type": "markdown",
   "metadata": {},
   "source": [
    "# Recursive condition compiler\n",
    "\n",
    "The compiler can be passed:\n",
    "1. A flat list of strings to convert into a z3 var\n",
    "2. A nested list, where each sublist must be converted into a z3 expression before being combined via the operator, which is the first element\n"
   ]
  },
  {
   "cell_type": "markdown",
   "metadata": {},
   "source": [
    "TODO give compile_condition and compile_precondition more intuitive names"
   ]
  },
  {
   "cell_type": "code",
   "execution_count": 16,
   "metadata": {},
   "outputs": [],
   "source": [
    "def compile_expression(expr):\n",
    "    if isinstance(expr, int):\n",
    "        return expr\n",
    "    if isinstance(expr, str):\n",
    "        try:\n",
    "            expr = int(expr)\n",
    "            return expr\n",
    "        # TODO deal with other cases? What do pvars with no args look like?\n",
    "        except ValueError as e:\n",
    "            raise e\n",
    "    if isinstance(expr, list):\n",
    "        if list_is_flat(expr):\n",
    "            return str2var[list2var_str(expr)]\n",
    "        else:\n",
    "            assert len(expr) == 3, f\"Don't understand how to compile: {expr}\"\n",
    "            if operator == \"forall\":\n",
    "                pass\n",
    "            else:\n",
    "                operator = str2operator[expr[0]]\n",
    "            operator_args = [compile_expression(x) for x in expr[1:]]\n",
    "            return operator(*operator_args)\n",
    "    else:\n",
    "        raise NotImplementedError(f\"Don't understand how to compile non lists: {expr}; {type(expr)}\")\n",
    "            "
   ]
  },
  {
   "cell_type": "code",
   "execution_count": 17,
   "metadata": {
    "tags": []
   },
   "outputs": [
    {
     "output_type": "stream",
     "name": "stdout",
     "text": "action: move-north\n  parameters: [['?t', 'taxi']]\n  positive_preconditions: [['forall', ['?pn', '-', 'passenger'], ['not', ['passenger-in-taxi', '?pn', '?t']]]]\n  negative_preconditions: []\n  add_effects: [['increase', ['taxi-y', '?t'], '1']]\n  del_effects: []\n\n"
    }
   ],
   "source": [
    "print(a)"
   ]
  },
  {
   "cell_type": "code",
   "execution_count": 18,
   "metadata": {
    "collapsed": true,
    "jupyter": {
     "outputs_hidden": true
    },
    "tags": []
   },
   "outputs": [
    {
     "output_type": "stream",
     "name": "stdout",
     "text": "action: pickup\n  parameters: [['curly', 'passenger'], ['t0', 'taxi']]\n  positive_preconditions: [['=', ['passenger-x', 'curly'], ['taxi-x', 't0']], ['=', ['passenger-y', 'curly'], ['taxi-y', 't0']], ['forall', ['?pn', '-', 'passenger'], ['not', ['passenger-in-taxi', '?pn', 't0']]]]\n  negative_preconditions: []\n  add_effects: [['passenger-in-taxi', 'curly', 't0']]\n  del_effects: []\n\n"
    }
   ],
   "source": [
    "str_grounded_actions = [parser.get_action_groundings(a) for a in parser.actions]\n",
    "print(\"\\n\".join([str(x) for x in str_grounded_actions[0]]))"
   ]
  },
  {
   "cell_type": "code",
   "execution_count": 21,
   "metadata": {},
   "outputs": [],
   "source": [
    "def action2precondition(a: Action) -> z3.BoolRef:\n",
    "    clauses = [compile_expression(p) for p in a.positive_preconditions] + [z3.Not(compile_expression(p)) for p in a.negative_preconditions]\n",
    "    return z3.And(*clauses)"
   ]
  },
  {
   "cell_type": "code",
   "execution_count": 22,
   "metadata": {},
   "outputs": [],
   "source": [
    "def z3_identical(a, b):\n",
    "    return a.sort() == b.sort() and str(a) == str(b)"
   ]
  },
  {
   "cell_type": "code",
   "execution_count": 24,
   "metadata": {
    "tags": []
   },
   "outputs": [
    {
     "output_type": "stream",
     "name": "stdout",
     "text": "a + b < c\n"
    },
    {
     "output_type": "execute_result",
     "data": {
      "text/plain": "[b, c]"
     },
     "metadata": {},
     "execution_count": 24
    }
   ],
   "source": [
    "a, b, c = z3.Ints(\"a b c\")\n",
    "dum = a + b < c\n",
    "print(dum)\n",
    "[x for x in get_atoms(dum) if not z3_identical(x,a)]"
   ]
  },
  {
   "cell_type": "code",
   "execution_count": 31,
   "metadata": {},
   "outputs": [],
   "source": [
    "def action2effect_types(a: Action) -> List[EffectTypePDDL]:\n",
    "    effect_types = []\n",
    "\n",
    "    for eff in a.add_effects:\n",
    "        # Check for complex effects like 'increase'\n",
    "        if eff[0] in [\"increase\", 'decrease']:\n",
    "            effected_var = str2var[list2var_str(eff[1])]\n",
    "            effect_details = compile_expression(eff)\n",
    "            params = tuple([x for x in get_atoms(effect_details) if not z3_identical(x, effected_var)])\n",
    "            effect_type = EffectTypePDDL(effected_var, effect_details, params=params)\n",
    "            effect_types.append(effect_type)\n",
    "        else:\n",
    "            effected_var = compile_expression(eff)\n",
    "            # This may accidentally cause different EfectTypes to be identified bc True == 1.\n",
    "            effect_details = True\n",
    "            effect_type = EffectTypePDDL(effected_var, effect_details)\n",
    "            effect_types.append(effect_type)\n",
    "    # Assume for now that del_effects only sets bools to false\n",
    "    for eff in a.del_effects:\n",
    "        effected_var = compile_expression(eff)\n",
    "        # This may accidentally cause different EfectTypes to be identified bc True == 1.\n",
    "        \n",
    "        effect_details = False\n",
    "        effect_type = EffectTypePDDL(effected_var, effect_details)\n",
    "        effect_types.append(effect_type)\n",
    "    return tuple(effect_types)  \n"
   ]
  },
  {
   "cell_type": "code",
   "execution_count": 32,
   "metadata": {},
   "outputs": [
    {
     "output_type": "stream",
     "text": "\u001b[0;31mInit signature:\u001b[0m\n\u001b[0mSkillPDDL\u001b[0m\u001b[0;34m(\u001b[0m\u001b[0;34m\u001b[0m\n\u001b[0;34m\u001b[0m    \u001b[0mprecondition\u001b[0m\u001b[0;34m:\u001b[0m\u001b[0mz3\u001b[0m\u001b[0;34m.\u001b[0m\u001b[0mz3\u001b[0m\u001b[0;34m.\u001b[0m\u001b[0mExprRef\u001b[0m\u001b[0;34m,\u001b[0m\u001b[0;34m\u001b[0m\n\u001b[0;34m\u001b[0m    \u001b[0maction\u001b[0m\u001b[0;34m:\u001b[0m\u001b[0mUnion\u001b[0m\u001b[0;34m[\u001b[0m\u001b[0mstr\u001b[0m\u001b[0;34m,\u001b[0m \u001b[0mList\u001b[0m\u001b[0;34m[\u001b[0m\u001b[0mstr\u001b[0m\u001b[0;34m]\u001b[0m\u001b[0;34m,\u001b[0m \u001b[0mTuple\u001b[0m\u001b[0;34m[\u001b[0m\u001b[0mstr\u001b[0m\u001b[0;34m]\u001b[0m\u001b[0;34m]\u001b[0m\u001b[0;34m,\u001b[0m\u001b[0;34m\u001b[0m\n\u001b[0;34m\u001b[0m    \u001b[0meffects\u001b[0m\u001b[0;34m:\u001b[0m\u001b[0mUnion\u001b[0m\u001b[0;34m[\u001b[0m\u001b[0mIterable\u001b[0m\u001b[0;34m[\u001b[0m\u001b[0mskill_classes\u001b[0m\u001b[0;34m.\u001b[0m\u001b[0mEffectTypePDDL\u001b[0m\u001b[0;34m]\u001b[0m\u001b[0;34m,\u001b[0m \u001b[0mskill_classes\u001b[0m\u001b[0;34m.\u001b[0m\u001b[0mEffectTypePDDL\u001b[0m\u001b[0;34m]\u001b[0m\u001b[0;34m,\u001b[0m\u001b[0;34m\u001b[0m\n\u001b[0;34m\u001b[0m    \u001b[0mside_effects\u001b[0m\u001b[0;34m:\u001b[0m\u001b[0mUnion\u001b[0m\u001b[0;34m[\u001b[0m\u001b[0mIterable\u001b[0m\u001b[0;34m[\u001b[0m\u001b[0mskill_classes\u001b[0m\u001b[0;34m.\u001b[0m\u001b[0mEffectTypePDDL\u001b[0m\u001b[0;34m]\u001b[0m\u001b[0;34m,\u001b[0m \u001b[0mskill_classes\u001b[0m\u001b[0;34m.\u001b[0m\u001b[0mEffectTypePDDL\u001b[0m\u001b[0;34m]\u001b[0m\u001b[0;34m=\u001b[0m\u001b[0;32mNone\u001b[0m\u001b[0;34m,\u001b[0m\u001b[0;34m\u001b[0m\n\u001b[0;34m\u001b[0m\u001b[0;34m)\u001b[0m\u001b[0;34m\u001b[0m\u001b[0;34m\u001b[0m\u001b[0m\n\u001b[0;31mDocstring:\u001b[0m      <no docstring>\n\u001b[0;31mFile:\u001b[0m           ~/Documents/planutils_stuff/OO-Scoping-IPC/skill_classes.py\n\u001b[0;31mType:\u001b[0m           type\n\u001b[0;31mSubclasses:\u001b[0m     \n"
    }
   ],
   "source": [
    "?SkillPDDL"
   ]
  },
  {
   "cell_type": "code",
   "execution_count": 33,
   "metadata": {},
   "outputs": [],
   "source": [
    "def action2skill(a):\n",
    "    precondition = action2precondition(a)\n",
    "    effects = action2effect_types(a)\n",
    "    skill = SkillPDDL(precondition, a.name, effects)\n",
    "    return skill"
   ]
  },
  {
   "cell_type": "code",
   "execution_count": 34,
   "metadata": {
    "tags": []
   },
   "outputs": [
    {
     "output_type": "stream",
     "name": "stdout",
     "text": "action: board\n  parameters: [['person1', 'person'], ['plane1', 'aircraft'], ['city0', 'city']]\n  positive_preconditions: [['located', 'person1', 'city0'], ['located', 'plane1', 'city0']]\n  negative_preconditions: []\n  add_effects: [['in', 'person1', 'plane1'], ['increase', ['onboard', 'plane1'], '1']]\n  del_effects: [['located', 'person1', 'city0']]\n\naction: debark\n  parameters: [['person1', 'person'], ['plane1', 'aircraft'], ['city0', 'city']]\n  positive_preconditions: [['in', 'person1', 'plane1'], ['located', 'plane1', 'city0']]\n  negative_preconditions: []\n  add_effects: [['located', 'person1', 'city0'], ['decrease', ['onboard', 'plane1'], '1']]\n  del_effects: [['in', 'person1', 'plane1']]\n\naction: fly-slow\n  parameters: [['plane1', 'aircraft'], ['city0', 'city'], ['city0', 'city']]\n  positive_preconditions: [['located', 'plane1', 'city0'], ['>=', ['fuel', 'plane1'], ['*', ['distance', 'city0', 'city0'], ['slow-burn', 'plane1']]]]\n  negative_preconditions: []\n  add_effects: [['located', 'plane1', 'city0'], ['increase', ['total-fuel-used'], ['*', ['distance', 'city0', 'city0'], ['slow-burn', 'plane1']]], ['decrease', ['fuel', 'plane1'], ['*', ['distance', 'city0', 'city0'], ['slow-burn', 'plane1']]]]\n  del_effects: [['located', 'plane1', 'city0']]\n\naction: fly-fast\n  parameters: [['plane1', 'aircraft'], ['city0', 'city'], ['city0', 'city']]\n  positive_preconditions: [['located', 'plane1', 'city0'], ['>=', ['fuel', 'plane1'], ['*', ['distance', 'city0', 'city0'], ['fast-burn', 'plane1']]], ['<=', ['onboard', 'plane1'], ['zoom-limit', 'plane1']]]\n  negative_preconditions: []\n  add_effects: [['located', 'plane1', 'city0'], ['increase', ['total-fuel-used'], ['*', ['distance', 'city0', 'city0'], ['fast-burn', 'plane1']]], ['decrease', ['fuel', 'plane1'], ['*', ['distance', 'city0', 'city0'], ['fast-burn', 'plane1']]]]\n  del_effects: [['located', 'plane1', 'city0']]\n\naction: refuel\n  parameters: [['plane1', 'aircraft']]\n  positive_preconditions: [['>', ['capacity', 'plane1'], ['fuel', 'plane1']]]\n  negative_preconditions: []\n  add_effects: [['assign', ['fuel', 'plane1'], ['capacity', 'plane1']]]\n  del_effects: []\n\n"
    }
   ],
   "source": [
    "for a_id in range(len(str_grounded_actions)):\n",
    "    a = str_grounded_actions[a_id][0]\n",
    "    print(a)\n",
    "    print(action2skill(a))"
   ]
  },
  {
   "cell_type": "code",
   "execution_count": 35,
   "metadata": {},
   "outputs": [],
   "source": [
    "a = str_grounded_actions[a_id][0]"
   ]
  },
  {
   "cell_type": "code",
   "execution_count": 36,
   "metadata": {},
   "outputs": [
    {
     "output_type": "execute_result",
     "data": {
      "text/plain": "(ET(capacity(plane1),True,()),)"
     },
     "metadata": {},
     "execution_count": 36
    }
   ],
   "source": [
    "action2effect_types(a)"
   ]
  },
  {
   "cell_type": "code",
   "execution_count": 21,
   "metadata": {
    "collapsed": true,
    "jupyter": {
     "outputs_hidden": true
    },
    "tags": []
   },
   "outputs": [
    {
     "name": "stdout",
     "output_type": "stream",
     "text": [
      "action: board\n",
      "  parameters: [['person1', 'person'], ['plane1', 'aircraft'], ['city0', 'city']]\n",
      "  positive_preconditions: [['located', 'person1', 'city0'], ['located', 'plane1', 'city0']]\n",
      "  negative_preconditions: []\n",
      "  add_effects: [['in', 'person1', 'plane1'], ['increase', ['onboard', 'plane1'], '1']]\n",
      "  del_effects: [['located', 'person1', 'city0']]\n",
      "\n",
      "['located', 'person1', 'city0']\n",
      "located(person1, city0)\n",
      "\n",
      "\n",
      "['located', 'plane1', 'city0']\n",
      "located(plane1, city0)\n",
      "\n",
      "\n",
      "action: debark\n",
      "  parameters: [['person1', 'person'], ['plane1', 'aircraft'], ['city0', 'city']]\n",
      "  positive_preconditions: [['in', 'person1', 'plane1'], ['located', 'plane1', 'city0']]\n",
      "  negative_preconditions: []\n",
      "  add_effects: [['located', 'person1', 'city0'], ['decrease', ['onboard', 'plane1'], '1']]\n",
      "  del_effects: [['in', 'person1', 'plane1']]\n",
      "\n",
      "['in', 'person1', 'plane1']\n",
      "in(person1, plane1)\n",
      "\n",
      "\n",
      "['located', 'plane1', 'city0']\n",
      "located(plane1, city0)\n",
      "\n",
      "\n",
      "action: fly-slow\n",
      "  parameters: [['plane1', 'aircraft'], ['city0', 'city'], ['city0', 'city']]\n",
      "  positive_preconditions: [['located', 'plane1', 'city0'], ['>=', ['fuel', 'plane1'], ['*', ['distance', 'city0', 'city0'], ['slow-burn', 'plane1']]]]\n",
      "  negative_preconditions: []\n",
      "  add_effects: [['located', 'plane1', 'city0'], ['increase', ['total-fuel-used'], ['*', ['distance', 'city0', 'city0'], ['slow-burn', 'plane1']]], ['decrease', ['fuel', 'plane1'], ['*', ['distance', 'city0', 'city0'], ['slow-burn', 'plane1']]]]\n",
      "  del_effects: [['located', 'plane1', 'city0']]\n",
      "\n",
      "['located', 'plane1', 'city0']\n",
      "located(plane1, city0)\n",
      "\n",
      "\n",
      "['>=', ['fuel', 'plane1'], ['*', ['distance', 'city0', 'city0'], ['slow-burn', 'plane1']]]\n",
      "fuel(plane1) >= distance(city0, city0)*slow-burn(plane1)\n",
      "\n",
      "\n",
      "action: fly-fast\n",
      "  parameters: [['plane1', 'aircraft'], ['city0', 'city'], ['city0', 'city']]\n",
      "  positive_preconditions: [['located', 'plane1', 'city0'], ['>=', ['fuel', 'plane1'], ['*', ['distance', 'city0', 'city0'], ['fast-burn', 'plane1']]], ['<=', ['onboard', 'plane1'], ['zoom-limit', 'plane1']]]\n",
      "  negative_preconditions: []\n",
      "  add_effects: [['located', 'plane1', 'city0'], ['increase', ['total-fuel-used'], ['*', ['distance', 'city0', 'city0'], ['fast-burn', 'plane1']]], ['decrease', ['fuel', 'plane1'], ['*', ['distance', 'city0', 'city0'], ['fast-burn', 'plane1']]]]\n",
      "  del_effects: [['located', 'plane1', 'city0']]\n",
      "\n",
      "['located', 'plane1', 'city0']\n",
      "located(plane1, city0)\n",
      "\n",
      "\n",
      "['>=', ['fuel', 'plane1'], ['*', ['distance', 'city0', 'city0'], ['fast-burn', 'plane1']]]\n",
      "fuel(plane1) >= distance(city0, city0)*fast-burn(plane1)\n",
      "\n",
      "\n",
      "['<=', ['onboard', 'plane1'], ['zoom-limit', 'plane1']]\n",
      "onboard(plane1) <= zoom-limit(plane1)\n",
      "\n",
      "\n",
      "action: refuel\n",
      "  parameters: [['plane1', 'aircraft']]\n",
      "  positive_preconditions: [['>', ['capacity', 'plane1'], ['fuel', 'plane1']]]\n",
      "  negative_preconditions: []\n",
      "  add_effects: [['assign', ['fuel', 'plane1'], ['capacity', 'plane1']]]\n",
      "  del_effects: []\n",
      "\n",
      "['>', ['capacity', 'plane1'], ['fuel', 'plane1']]\n",
      "capacity(plane1) > fuel(plane1)\n",
      "\n",
      "\n"
     ]
    }
   ],
   "source": [
    "for a_id in range(len(str_grounded_actions)):\n",
    "    a = str_grounded_actions[a_id][0]\n",
    "    print(a)\n",
    "    for p in a.positive_preconditions:\n",
    "        print(p)\n",
    "        print(compile_expression(p))\n",
    "        print(\"\\n\")"
   ]
  },
  {
   "cell_type": "code",
   "execution_count": 22,
   "metadata": {
    "collapsed": true,
    "jupyter": {
     "outputs_hidden": true
    },
    "tags": []
   },
   "outputs": [
    {
     "name": "stdout",
     "output_type": "stream",
     "text": [
      "action: board\n",
      "  parameters: [['person1', 'person'], ['plane1', 'aircraft'], ['city0', 'city']]\n",
      "  positive_preconditions: [['located', 'person1', 'city0'], ['located', 'plane1', 'city0']]\n",
      "  negative_preconditions: []\n",
      "  add_effects: [['in', 'person1', 'plane1'], ['increase', ['onboard', 'plane1'], '1']]\n",
      "  del_effects: [['located', 'person1', 'city0']]\n",
      "\n",
      "And(located(person1, city0), located(plane1, city0))\n",
      "\n",
      "\n",
      "action: debark\n",
      "  parameters: [['person1', 'person'], ['plane1', 'aircraft'], ['city0', 'city']]\n",
      "  positive_preconditions: [['in', 'person1', 'plane1'], ['located', 'plane1', 'city0']]\n",
      "  negative_preconditions: []\n",
      "  add_effects: [['located', 'person1', 'city0'], ['decrease', ['onboard', 'plane1'], '1']]\n",
      "  del_effects: [['in', 'person1', 'plane1']]\n",
      "\n",
      "And(in(person1, plane1), located(plane1, city0))\n",
      "\n",
      "\n",
      "action: fly-slow\n",
      "  parameters: [['plane1', 'aircraft'], ['city0', 'city'], ['city0', 'city']]\n",
      "  positive_preconditions: [['located', 'plane1', 'city0'], ['>=', ['fuel', 'plane1'], ['*', ['distance', 'city0', 'city0'], ['slow-burn', 'plane1']]]]\n",
      "  negative_preconditions: []\n",
      "  add_effects: [['located', 'plane1', 'city0'], ['increase', ['total-fuel-used'], ['*', ['distance', 'city0', 'city0'], ['slow-burn', 'plane1']]], ['decrease', ['fuel', 'plane1'], ['*', ['distance', 'city0', 'city0'], ['slow-burn', 'plane1']]]]\n",
      "  del_effects: [['located', 'plane1', 'city0']]\n",
      "\n",
      "And(located(plane1, city0),\n",
      "    fuel(plane1) >= distance(city0, city0)*slow-burn(plane1))\n",
      "\n",
      "\n",
      "action: fly-fast\n",
      "  parameters: [['plane1', 'aircraft'], ['city0', 'city'], ['city0', 'city']]\n",
      "  positive_preconditions: [['located', 'plane1', 'city0'], ['>=', ['fuel', 'plane1'], ['*', ['distance', 'city0', 'city0'], ['fast-burn', 'plane1']]], ['<=', ['onboard', 'plane1'], ['zoom-limit', 'plane1']]]\n",
      "  negative_preconditions: []\n",
      "  add_effects: [['located', 'plane1', 'city0'], ['increase', ['total-fuel-used'], ['*', ['distance', 'city0', 'city0'], ['fast-burn', 'plane1']]], ['decrease', ['fuel', 'plane1'], ['*', ['distance', 'city0', 'city0'], ['fast-burn', 'plane1']]]]\n",
      "  del_effects: [['located', 'plane1', 'city0']]\n",
      "\n",
      "And(located(plane1, city0),\n",
      "    fuel(plane1) >= distance(city0, city0)*fast-burn(plane1),\n",
      "    onboard(plane1) <= zoom-limit(plane1))\n",
      "\n",
      "\n",
      "action: refuel\n",
      "  parameters: [['plane1', 'aircraft']]\n",
      "  positive_preconditions: [['>', ['capacity', 'plane1'], ['fuel', 'plane1']]]\n",
      "  negative_preconditions: []\n",
      "  add_effects: [['assign', ['fuel', 'plane1'], ['capacity', 'plane1']]]\n",
      "  del_effects: []\n",
      "\n",
      "And(capacity(plane1) > fuel(plane1))\n",
      "\n",
      "\n"
     ]
    }
   ],
   "source": [
    "for a_id in range(len(str_grounded_actions)):\n",
    "    a = str_grounded_actions[a_id][0]\n",
    "    print(a)\n",
    "    print(action2precondition(a))\n",
    "    print(\"\\n\")"
   ]
  },
  {
   "cell_type": "code",
   "execution_count": 23,
   "metadata": {},
   "outputs": [],
   "source": [
    "# type(z3.BoolRef(True)) # This breaks the kernel :/"
   ]
  },
  {
   "cell_type": "code",
   "execution_count": null,
   "metadata": {},
   "outputs": [],
   "source": []
  }
 ],
 "metadata": {
  "kernelspec": {
   "display_name": "Python 3",
   "language": "python",
   "name": "python3"
  },
  "language_info": {
   "codemirror_mode": {
    "name": "ipython",
    "version": 3
   },
   "file_extension": ".py",
   "mimetype": "text/x-python",
   "name": "python",
   "nbconvert_exporter": "python",
   "pygments_lexer": "ipython3",
   "version": "3.6.10-final"
  }
 },
 "nbformat": 4,
 "nbformat_minor": 4
}