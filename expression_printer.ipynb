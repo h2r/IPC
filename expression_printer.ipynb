{
 "metadata": {
  "language_info": {
   "codemirror_mode": {
    "name": "ipython",
    "version": 3
   },
   "file_extension": ".py",
   "mimetype": "text/x-python",
   "name": "python",
   "nbconvert_exporter": "python",
   "pygments_lexer": "ipython3",
   "version": "3.7.7-final"
  },
  "orig_nbformat": 2,
  "kernelspec": {
   "name": "python_defaultSpec_1598203133127",
   "display_name": "Python 3.7.7 64-bit ('scoping': conda)"
  }
 },
 "nbformat": 4,
 "nbformat_minor": 2,
 "cells": [
  {
   "cell_type": "code",
   "execution_count": 1,
   "metadata": {},
   "outputs": [],
   "source": [
    "%load_ext autoreload\n",
    "%autoreload 2"
   ]
  },
  {
   "cell_type": "code",
   "execution_count": 2,
   "metadata": {},
   "outputs": [],
   "source": [
    "import re\n",
    "from itertools import chain"
   ]
  },
  {
   "cell_type": "code",
   "execution_count": 3,
   "metadata": {},
   "outputs": [],
   "source": [
    "import z3"
   ]
  },
  {
   "cell_type": "code",
   "execution_count": null,
   "metadata": {
    "tags": []
   },
   "outputs": [],
   "source": [
    "x = z3.And(z3.Bool(\"a\"),z3.Bool(\"b\")); print(x)"
   ]
  },
  {
   "cell_type": "code",
   "execution_count": null,
   "metadata": {
    "tags": []
   },
   "outputs": [],
   "source": [
    "?z3.z3printer.Formatter"
   ]
  },
  {
   "cell_type": "code",
   "execution_count": null,
   "metadata": {},
   "outputs": [],
   "source": [
    "formatter = z3.z3printer.Formatter()"
   ]
  },
  {
   "cell_type": "code",
   "execution_count": null,
   "metadata": {},
   "outputs": [],
   "source": [
    "formatter.pp_bv(x)"
   ]
  },
  {
   "cell_type": "code",
   "execution_count": 4,
   "metadata": {},
   "outputs": [],
   "source": [
    "def collapse_whitespace(s):\n",
    "    rex = re.compile(r'\\s+')\n",
    "    return rex.sub(' ', s)"
   ]
  },
  {
   "cell_type": "code",
   "execution_count": 5,
   "metadata": {},
   "outputs": [],
   "source": [
    "s = \"\"\"And(And(Not(passenger-in-taxi(curly, t0)),\n",
    "        Not(passenger-in-taxi(smoov, t0)),\n",
    "        Not(passenger-in-taxi(littman, t0)),\n",
    "        Not(passenger-in-taxi(isbell, t0))))\"\"\"\n",
    "s = collapse_whitespace(s)"
   ]
  },
  {
   "cell_type": "code",
   "execution_count": 6,
   "metadata": {},
   "outputs": [],
   "source": [
    "def get_matching_parens(s):\n",
    "    paren_pairs = []\n",
    "    left_parens_stack = []\n",
    "    for i, c in enumerate(s):\n",
    "        if c == \"(\":\n",
    "            left_parens_stack.append(i)\n",
    "        if c == \")\":\n",
    "            if len(left_parens_stack) == 0:\n",
    "                raise ValueError(f\"Unbalanced Parens: {i}\")\n",
    "            paren_pairs.append((left_parens_stack.pop(), i))\n",
    "    if len(left_parens_stack) > 0:\n",
    "        raise ValueError(f\"Extra left parens: {left_parens_stack}\")\n",
    "    return sorted(paren_pairs, key=lambda x: x[0])"
   ]
  },
  {
   "cell_type": "code",
   "execution_count": 8,
   "metadata": {},
   "outputs": [],
   "source": [
    "def overlapping(a,b):\n",
    "    # Make sure a comes first\n",
    "    if a[0] > b[0]:\n",
    "        a_ = a\n",
    "        a = b\n",
    "        b = a_\n",
    "        del a_\n",
    "    if a[1] >= b[0]:\n",
    "        return True\n",
    "    else:\n",
    "        return False"
   ]
  },
  {
   "cell_type": "code",
   "execution_count": 9,
   "metadata": {},
   "outputs": [],
   "source": [
    "def range_contain(a,b):\n",
    "    return a[0] <= b[0] and a[1] >= b[1]"
   ]
  },
  {
   "cell_type": "code",
   "execution_count": 10,
   "metadata": {},
   "outputs": [],
   "source": [
    "def get_maximal_ranges(ranges):\n",
    "    ranges = sorted(ranges, key=lambda x: x[0])\n",
    "    maximals = []\n",
    "    for r in ranges:\n",
    "        add_r = True\n",
    "        for m in maximals:\n",
    "            if range_contain(m,r):\n",
    "                add_r = False\n",
    "                continue\n",
    "            elif range_contain(r,m):\n",
    "                maximals.pop(m)\n",
    "        if add_r:\n",
    "            maximals.append(r)\n",
    "    return maximals"
   ]
  },
  {
   "cell_type": "code",
   "execution_count": 12,
   "metadata": {},
   "outputs": [
    {
     "output_type": "execute_result",
     "data": {
      "text/plain": "[(3, 150),\n (7, 149),\n (11, 40),\n (29, 39),\n (46, 75),\n (64, 74),\n (81, 112),\n (99, 111),\n (118, 148),\n (136, 147)]"
     },
     "metadata": {},
     "execution_count": 12
    }
   ],
   "source": [
    "paren_pairs = get_matching_parens(s); paren_pairs"
   ]
  },
  {
   "cell_type": "code",
   "execution_count": 13,
   "metadata": {},
   "outputs": [
    {
     "output_type": "execute_result",
     "data": {
      "text/plain": "[(3, 150)]"
     },
     "metadata": {},
     "execution_count": 13
    }
   ],
   "source": [
    "maximal_paren_pairs = get_maximal_ranges(paren_pairs); maximal_paren_pairs"
   ]
  },
  {
   "cell_type": "code",
   "execution_count": 15,
   "metadata": {},
   "outputs": [],
   "source": [
    "def index_complement(s, subtracted_ranges):\n",
    "    # Assumes that subtracted_ranges are non overlapping\n",
    "    subtracted_ranges = sorted(subtracted_ranges, key=lambda x: x[0])\n",
    "    new_ranges = []\n",
    "    start = 0\n",
    "    for r in subtracted_ranges:\n",
    "        if r[0] > start:\n",
    "            new_ranges.append((start, r[0]))\n",
    "        start = r[1] + 1\n",
    "    if start < len(s):\n",
    "        new_ranges.append((subtracted_ranges[-1][1], len(s)))\n",
    "    return new_ranges"
   ]
  },
  {
   "cell_type": "code",
   "execution_count": 16,
   "metadata": {},
   "outputs": [
    {
     "output_type": "execute_result",
     "data": {
      "text/plain": "[(0, 3)]"
     },
     "metadata": {},
     "execution_count": 16
    }
   ],
   "source": [
    "index_complement(s, maximal_paren_pairs)"
   ]
  },
  {
   "cell_type": "code",
   "execution_count": 19,
   "metadata": {},
   "outputs": [
    {
     "output_type": "execute_result",
     "data": {
      "text/plain": "(3, 150)"
     },
     "metadata": {},
     "execution_count": 19
    }
   ],
   "source": [
    "maximal_paren_pairs[0]"
   ]
  },
  {
   "cell_type": "code",
   "execution_count": 23,
   "metadata": {},
   "outputs": [
    {
     "output_type": "execute_result",
     "data": {
      "text/plain": "'And(Not(passenger-in-taxi(curly, t0)), Not(passenger-in-taxi(smoov, t0)), Not(passenger-in-taxi(littman, t0)), Not(passenger-in-taxi(isbell, t0)))'"
     },
     "metadata": {},
     "execution_count": 23
    }
   ],
   "source": [
    "s[maximal_paren_pairs[0][0] + 1:maximal_paren_pairs[0][1]]"
   ]
  },
  {
   "cell_type": "code",
   "execution_count": 27,
   "metadata": {},
   "outputs": [],
   "source": [
    "def parse_operators(s):\n",
    "    maximal_paren_pairs = get_maximal_ranges(get_matching_parens(s))\n",
    "    str_ranges = index_complement(s, maximal_paren_pairs)\n",
    "    assert len(maximal_paren_pairs) == len(str_ranges)\n",
    "    ret = []\n",
    "    for i in range(len(maximal_paren_pairs)):\n",
    "        op_range = str_ranges[i]\n",
    "        op = s[op_range[0]:op_range[1]]\n",
    "        arg_range = maximal_paren_pairs[i]\n",
    "        arg_s = s[arg_range[0] + 1:arg_range[1]]\n",
    "        arg = parse_operators(arg_s)\n",
    "        ret.append((op, arg))\n",
    "    return ret"
   ]
  },
  {
   "cell_type": "code",
   "execution_count": 28,
   "metadata": {},
   "outputs": [
    {
     "output_type": "error",
     "ename": "IndexError",
     "evalue": "list index out of range",
     "traceback": [
      "\u001b[0;31m---------------------------------------------------------------------------\u001b[0m",
      "\u001b[0;31mIndexError\u001b[0m                                Traceback (most recent call last)",
      "\u001b[0;32m<ipython-input-28-b9f4ea1a5739>\u001b[0m in \u001b[0;36m<module>\u001b[0;34m\u001b[0m\n\u001b[0;32m----> 1\u001b[0;31m \u001b[0mparse_operators\u001b[0m\u001b[0;34m(\u001b[0m\u001b[0ms\u001b[0m\u001b[0;34m)\u001b[0m\u001b[0;34m\u001b[0m\u001b[0;34m\u001b[0m\u001b[0m\n\u001b[0m",
      "\u001b[0;32m<ipython-input-27-00e328646d03>\u001b[0m in \u001b[0;36mparse_operators\u001b[0;34m(s)\u001b[0m\n\u001b[1;32m      9\u001b[0m         \u001b[0marg_range\u001b[0m \u001b[0;34m=\u001b[0m \u001b[0mmaximal_paren_pairs\u001b[0m\u001b[0;34m[\u001b[0m\u001b[0mi\u001b[0m\u001b[0;34m]\u001b[0m\u001b[0;34m\u001b[0m\u001b[0;34m\u001b[0m\u001b[0m\n\u001b[1;32m     10\u001b[0m         \u001b[0marg_s\u001b[0m \u001b[0;34m=\u001b[0m \u001b[0ms\u001b[0m\u001b[0;34m[\u001b[0m\u001b[0marg_range\u001b[0m\u001b[0;34m[\u001b[0m\u001b[0;36m0\u001b[0m\u001b[0;34m]\u001b[0m \u001b[0;34m+\u001b[0m \u001b[0;36m1\u001b[0m\u001b[0;34m:\u001b[0m\u001b[0marg_range\u001b[0m\u001b[0;34m[\u001b[0m\u001b[0;36m1\u001b[0m\u001b[0;34m]\u001b[0m\u001b[0;34m]\u001b[0m\u001b[0;34m\u001b[0m\u001b[0;34m\u001b[0m\u001b[0m\n\u001b[0;32m---> 11\u001b[0;31m         \u001b[0marg\u001b[0m \u001b[0;34m=\u001b[0m \u001b[0mparse_operators\u001b[0m\u001b[0;34m(\u001b[0m\u001b[0marg_s\u001b[0m\u001b[0;34m)\u001b[0m\u001b[0;34m\u001b[0m\u001b[0;34m\u001b[0m\u001b[0m\n\u001b[0m\u001b[1;32m     12\u001b[0m         \u001b[0mret\u001b[0m\u001b[0;34m.\u001b[0m\u001b[0mappend\u001b[0m\u001b[0;34m(\u001b[0m\u001b[0;34m(\u001b[0m\u001b[0mop\u001b[0m\u001b[0;34m,\u001b[0m \u001b[0marg\u001b[0m\u001b[0;34m)\u001b[0m\u001b[0;34m)\u001b[0m\u001b[0;34m\u001b[0m\u001b[0;34m\u001b[0m\u001b[0m\n\u001b[1;32m     13\u001b[0m     \u001b[0;32mreturn\u001b[0m \u001b[0mret\u001b[0m\u001b[0;34m\u001b[0m\u001b[0;34m\u001b[0m\u001b[0m\n",
      "\u001b[0;32m<ipython-input-27-00e328646d03>\u001b[0m in \u001b[0;36mparse_operators\u001b[0;34m(s)\u001b[0m\n\u001b[1;32m      9\u001b[0m         \u001b[0marg_range\u001b[0m \u001b[0;34m=\u001b[0m \u001b[0mmaximal_paren_pairs\u001b[0m\u001b[0;34m[\u001b[0m\u001b[0mi\u001b[0m\u001b[0;34m]\u001b[0m\u001b[0;34m\u001b[0m\u001b[0;34m\u001b[0m\u001b[0m\n\u001b[1;32m     10\u001b[0m         \u001b[0marg_s\u001b[0m \u001b[0;34m=\u001b[0m \u001b[0ms\u001b[0m\u001b[0;34m[\u001b[0m\u001b[0marg_range\u001b[0m\u001b[0;34m[\u001b[0m\u001b[0;36m0\u001b[0m\u001b[0;34m]\u001b[0m \u001b[0;34m+\u001b[0m \u001b[0;36m1\u001b[0m\u001b[0;34m:\u001b[0m\u001b[0marg_range\u001b[0m\u001b[0;34m[\u001b[0m\u001b[0;36m1\u001b[0m\u001b[0;34m]\u001b[0m\u001b[0;34m]\u001b[0m\u001b[0;34m\u001b[0m\u001b[0;34m\u001b[0m\u001b[0m\n\u001b[0;32m---> 11\u001b[0;31m         \u001b[0marg\u001b[0m \u001b[0;34m=\u001b[0m \u001b[0mparse_operators\u001b[0m\u001b[0;34m(\u001b[0m\u001b[0marg_s\u001b[0m\u001b[0;34m)\u001b[0m\u001b[0;34m\u001b[0m\u001b[0;34m\u001b[0m\u001b[0m\n\u001b[0m\u001b[1;32m     12\u001b[0m         \u001b[0mret\u001b[0m\u001b[0;34m.\u001b[0m\u001b[0mappend\u001b[0m\u001b[0;34m(\u001b[0m\u001b[0;34m(\u001b[0m\u001b[0mop\u001b[0m\u001b[0;34m,\u001b[0m \u001b[0marg\u001b[0m\u001b[0;34m)\u001b[0m\u001b[0;34m)\u001b[0m\u001b[0;34m\u001b[0m\u001b[0;34m\u001b[0m\u001b[0m\n\u001b[1;32m     13\u001b[0m     \u001b[0;32mreturn\u001b[0m \u001b[0mret\u001b[0m\u001b[0;34m\u001b[0m\u001b[0;34m\u001b[0m\u001b[0m\n",
      "\u001b[0;32m<ipython-input-27-00e328646d03>\u001b[0m in \u001b[0;36mparse_operators\u001b[0;34m(s)\u001b[0m\n\u001b[1;32m      9\u001b[0m         \u001b[0marg_range\u001b[0m \u001b[0;34m=\u001b[0m \u001b[0mmaximal_paren_pairs\u001b[0m\u001b[0;34m[\u001b[0m\u001b[0mi\u001b[0m\u001b[0;34m]\u001b[0m\u001b[0;34m\u001b[0m\u001b[0;34m\u001b[0m\u001b[0m\n\u001b[1;32m     10\u001b[0m         \u001b[0marg_s\u001b[0m \u001b[0;34m=\u001b[0m \u001b[0ms\u001b[0m\u001b[0;34m[\u001b[0m\u001b[0marg_range\u001b[0m\u001b[0;34m[\u001b[0m\u001b[0;36m0\u001b[0m\u001b[0;34m]\u001b[0m \u001b[0;34m+\u001b[0m \u001b[0;36m1\u001b[0m\u001b[0;34m:\u001b[0m\u001b[0marg_range\u001b[0m\u001b[0;34m[\u001b[0m\u001b[0;36m1\u001b[0m\u001b[0;34m]\u001b[0m\u001b[0;34m]\u001b[0m\u001b[0;34m\u001b[0m\u001b[0;34m\u001b[0m\u001b[0m\n\u001b[0;32m---> 11\u001b[0;31m         \u001b[0marg\u001b[0m \u001b[0;34m=\u001b[0m \u001b[0mparse_operators\u001b[0m\u001b[0;34m(\u001b[0m\u001b[0marg_s\u001b[0m\u001b[0;34m)\u001b[0m\u001b[0;34m\u001b[0m\u001b[0;34m\u001b[0m\u001b[0m\n\u001b[0m\u001b[1;32m     12\u001b[0m         \u001b[0mret\u001b[0m\u001b[0;34m.\u001b[0m\u001b[0mappend\u001b[0m\u001b[0;34m(\u001b[0m\u001b[0;34m(\u001b[0m\u001b[0mop\u001b[0m\u001b[0;34m,\u001b[0m \u001b[0marg\u001b[0m\u001b[0;34m)\u001b[0m\u001b[0;34m)\u001b[0m\u001b[0;34m\u001b[0m\u001b[0;34m\u001b[0m\u001b[0m\n\u001b[1;32m     13\u001b[0m     \u001b[0;32mreturn\u001b[0m \u001b[0mret\u001b[0m\u001b[0;34m\u001b[0m\u001b[0;34m\u001b[0m\u001b[0m\n",
      "\u001b[0;32m<ipython-input-27-00e328646d03>\u001b[0m in \u001b[0;36mparse_operators\u001b[0;34m(s)\u001b[0m\n\u001b[1;32m      9\u001b[0m         \u001b[0marg_range\u001b[0m \u001b[0;34m=\u001b[0m \u001b[0mmaximal_paren_pairs\u001b[0m\u001b[0;34m[\u001b[0m\u001b[0mi\u001b[0m\u001b[0;34m]\u001b[0m\u001b[0;34m\u001b[0m\u001b[0;34m\u001b[0m\u001b[0m\n\u001b[1;32m     10\u001b[0m         \u001b[0marg_s\u001b[0m \u001b[0;34m=\u001b[0m \u001b[0ms\u001b[0m\u001b[0;34m[\u001b[0m\u001b[0marg_range\u001b[0m\u001b[0;34m[\u001b[0m\u001b[0;36m0\u001b[0m\u001b[0;34m]\u001b[0m \u001b[0;34m+\u001b[0m \u001b[0;36m1\u001b[0m\u001b[0;34m:\u001b[0m\u001b[0marg_range\u001b[0m\u001b[0;34m[\u001b[0m\u001b[0;36m1\u001b[0m\u001b[0;34m]\u001b[0m\u001b[0;34m]\u001b[0m\u001b[0;34m\u001b[0m\u001b[0;34m\u001b[0m\u001b[0m\n\u001b[0;32m---> 11\u001b[0;31m         \u001b[0marg\u001b[0m \u001b[0;34m=\u001b[0m \u001b[0mparse_operators\u001b[0m\u001b[0;34m(\u001b[0m\u001b[0marg_s\u001b[0m\u001b[0;34m)\u001b[0m\u001b[0;34m\u001b[0m\u001b[0;34m\u001b[0m\u001b[0m\n\u001b[0m\u001b[1;32m     12\u001b[0m         \u001b[0mret\u001b[0m\u001b[0;34m.\u001b[0m\u001b[0mappend\u001b[0m\u001b[0;34m(\u001b[0m\u001b[0;34m(\u001b[0m\u001b[0mop\u001b[0m\u001b[0;34m,\u001b[0m \u001b[0marg\u001b[0m\u001b[0;34m)\u001b[0m\u001b[0;34m)\u001b[0m\u001b[0;34m\u001b[0m\u001b[0;34m\u001b[0m\u001b[0m\n\u001b[1;32m     13\u001b[0m     \u001b[0;32mreturn\u001b[0m \u001b[0mret\u001b[0m\u001b[0;34m\u001b[0m\u001b[0;34m\u001b[0m\u001b[0m\n",
      "\u001b[0;32m<ipython-input-27-00e328646d03>\u001b[0m in \u001b[0;36mparse_operators\u001b[0;34m(s)\u001b[0m\n\u001b[1;32m      1\u001b[0m \u001b[0;32mdef\u001b[0m \u001b[0mparse_operators\u001b[0m\u001b[0;34m(\u001b[0m\u001b[0ms\u001b[0m\u001b[0;34m)\u001b[0m\u001b[0;34m:\u001b[0m\u001b[0;34m\u001b[0m\u001b[0;34m\u001b[0m\u001b[0m\n\u001b[1;32m      2\u001b[0m     \u001b[0mmaximal_paren_pairs\u001b[0m \u001b[0;34m=\u001b[0m \u001b[0mget_maximal_ranges\u001b[0m\u001b[0;34m(\u001b[0m\u001b[0mget_matching_parens\u001b[0m\u001b[0;34m(\u001b[0m\u001b[0ms\u001b[0m\u001b[0;34m)\u001b[0m\u001b[0;34m)\u001b[0m\u001b[0;34m\u001b[0m\u001b[0;34m\u001b[0m\u001b[0m\n\u001b[0;32m----> 3\u001b[0;31m     \u001b[0mstr_ranges\u001b[0m \u001b[0;34m=\u001b[0m \u001b[0mindex_complement\u001b[0m\u001b[0;34m(\u001b[0m\u001b[0ms\u001b[0m\u001b[0;34m,\u001b[0m \u001b[0mmaximal_paren_pairs\u001b[0m\u001b[0;34m)\u001b[0m\u001b[0;34m\u001b[0m\u001b[0;34m\u001b[0m\u001b[0m\n\u001b[0m\u001b[1;32m      4\u001b[0m     \u001b[0;32massert\u001b[0m \u001b[0mlen\u001b[0m\u001b[0;34m(\u001b[0m\u001b[0mmaximal_paren_pairs\u001b[0m\u001b[0;34m)\u001b[0m \u001b[0;34m==\u001b[0m \u001b[0mlen\u001b[0m\u001b[0;34m(\u001b[0m\u001b[0mstr_ranges\u001b[0m\u001b[0;34m)\u001b[0m\u001b[0;34m\u001b[0m\u001b[0;34m\u001b[0m\u001b[0m\n\u001b[1;32m      5\u001b[0m     \u001b[0mret\u001b[0m \u001b[0;34m=\u001b[0m \u001b[0;34m[\u001b[0m\u001b[0;34m]\u001b[0m\u001b[0;34m\u001b[0m\u001b[0;34m\u001b[0m\u001b[0m\n",
      "\u001b[0;32m<ipython-input-15-5fd36c3904da>\u001b[0m in \u001b[0;36mindex_complement\u001b[0;34m(s, subtracted_ranges)\u001b[0m\n\u001b[1;32m      9\u001b[0m         \u001b[0mstart\u001b[0m \u001b[0;34m=\u001b[0m \u001b[0mr\u001b[0m\u001b[0;34m[\u001b[0m\u001b[0;36m1\u001b[0m\u001b[0;34m]\u001b[0m \u001b[0;34m+\u001b[0m \u001b[0;36m1\u001b[0m\u001b[0;34m\u001b[0m\u001b[0;34m\u001b[0m\u001b[0m\n\u001b[1;32m     10\u001b[0m     \u001b[0;32mif\u001b[0m \u001b[0mstart\u001b[0m \u001b[0;34m<\u001b[0m \u001b[0mlen\u001b[0m\u001b[0;34m(\u001b[0m\u001b[0ms\u001b[0m\u001b[0;34m)\u001b[0m\u001b[0;34m:\u001b[0m\u001b[0;34m\u001b[0m\u001b[0;34m\u001b[0m\u001b[0m\n\u001b[0;32m---> 11\u001b[0;31m         \u001b[0mnew_ranges\u001b[0m\u001b[0;34m.\u001b[0m\u001b[0mappend\u001b[0m\u001b[0;34m(\u001b[0m\u001b[0;34m(\u001b[0m\u001b[0msubtracted_ranges\u001b[0m\u001b[0;34m[\u001b[0m\u001b[0;34m-\u001b[0m\u001b[0;36m1\u001b[0m\u001b[0;34m]\u001b[0m\u001b[0;34m[\u001b[0m\u001b[0;36m1\u001b[0m\u001b[0;34m]\u001b[0m\u001b[0;34m,\u001b[0m \u001b[0mlen\u001b[0m\u001b[0;34m(\u001b[0m\u001b[0ms\u001b[0m\u001b[0;34m)\u001b[0m\u001b[0;34m)\u001b[0m\u001b[0;34m)\u001b[0m\u001b[0;34m\u001b[0m\u001b[0;34m\u001b[0m\u001b[0m\n\u001b[0m\u001b[1;32m     12\u001b[0m     \u001b[0;32mreturn\u001b[0m \u001b[0mnew_ranges\u001b[0m\u001b[0;34m\u001b[0m\u001b[0;34m\u001b[0m\u001b[0m\n",
      "\u001b[0;31mIndexError\u001b[0m: list index out of range"
     ]
    }
   ],
   "source": [
    "parse_operators(s)"
   ]
  },
  {
   "cell_type": "code",
   "execution_count": null,
   "metadata": {},
   "outputs": [],
   "source": [
    "# stack = []\n",
    "# # l = []\n",
    "# s_ = \"\"\n",
    "# for c in s:\n",
    "#     # Go in one level\n",
    "#     if c == \"(\":\n",
    "#         stack.append(l)\n",
    "#         l = []\n",
    "#     # Go up a level\n",
    "#     elif c == \")\":\n",
    "#         pass\n",
    "#     else:\n",
    "#         s_ += c"
   ]
  },
  {
   "cell_type": "code",
   "execution_count": null,
   "metadata": {
    "tags": []
   },
   "outputs": [],
   "source": [
    "left_parens = [x.start() for x in re.finditer(\"\\(\",s)]\n",
    "right_parens = [x.start() for x in re.finditer(\"\\)\",s)]"
   ]
  },
  {
   "cell_type": "code",
   "execution_count": null,
   "metadata": {},
   "outputs": [],
   "source": [
    "assert len(left_parens) == len(right_parens)\n"
   ]
  },
  {
   "cell_type": "code",
   "execution_count": null,
   "metadata": {
    "tags": []
   },
   "outputs": [],
   "source": [
    "print([s[i] for i in left_parens])"
   ]
  },
  {
   "cell_type": "code",
   "execution_count": null,
   "metadata": {
    "tags": []
   },
   "outputs": [],
   "source": [
    "dum = [1,2,3]\n",
    "dum.pop()\n",
    "print(dum)"
   ]
  },
  {
   "cell_type": "code",
   "execution_count": null,
   "metadata": {},
   "outputs": [],
   "source": []
  },
  {
   "cell_type": "code",
   "execution_count": null,
   "metadata": {},
   "outputs": [],
   "source": [
    "?sorted"
   ]
  },
  {
   "cell_type": "code",
   "execution_count": null,
   "metadata": {
    "tags": []
   },
   "outputs": [],
   "source": [
    "s = collapse_whitespace(s); print(s)"
   ]
  },
  {
   "cell_type": "code",
   "execution_count": null,
   "metadata": {
    "tags": []
   },
   "outputs": [],
   "source": [
    "paren_pairs = get_matching_parens(s)"
   ]
  },
  {
   "cell_type": "code",
   "execution_count": null,
   "metadata": {},
   "outputs": [],
   "source": [
    "split_idx = sorted(list(chain(*paren_pairs)))\n",
    "if 0 not in split_idx:\n",
    "    split_idx = [-1] + split_idx"
   ]
  },
  {
   "cell_type": "code",
   "execution_count": null,
   "metadata": {},
   "outputs": [],
   "source": [
    "s_pieces = []\n",
    "for i in range(len(split_idx) - 1):\n",
    "    s_pieces.append(s[split_idx[i] + 1:split_idx[i+1]])"
   ]
  },
  {
   "cell_type": "code",
   "execution_count": null,
   "metadata": {},
   "outputs": [],
   "source": [
    "s_pieces\n"
   ]
  },
  {
   "cell_type": "code",
   "execution_count": null,
   "metadata": {},
   "outputs": [],
   "source": [
    "s"
   ]
  },
  {
   "cell_type": "code",
   "execution_count": null,
   "metadata": {},
   "outputs": [],
   "source": [
    "def parse2(my_str):\n",
    "    stack = []\n",
    "    l = []\n",
    "    for t in re.findall(r'[()]|[^\\s()]+', my_str):\n",
    "        print(t)\n",
    "        if t == '(':\n",
    "            stack.append(l)\n",
    "            l = []\n",
    "        elif t == ')':\n",
    "            if stack:\n",
    "                l2 = l\n",
    "                l = stack.pop()\n",
    "                l.append(l2)\n",
    "            else:\n",
    "                raise Exception('Missing open parentheses')\n",
    "        else:\n",
    "            l.append(t)\n",
    "    if stack:\n",
    "        raise Exception('Missing close parentheses')\n",
    "    # print(l)\n",
    "    # if len(l) != 1:\n",
    "        # raise Exception('Malformed expression')\n",
    "    # return l[0]\n",
    "    return l"
   ]
  },
  {
   "cell_type": "code",
   "execution_count": null,
   "metadata": {
    "tags": []
   },
   "outputs": [],
   "source": [
    "l = parse2(s); l"
   ]
  },
  {
   "cell_type": "code",
   "execution_count": null,
   "metadata": {},
   "outputs": [],
   "source": [
    "nested_list2str(l)"
   ]
  },
  {
   "cell_type": "code",
   "execution_count": null,
   "metadata": {},
   "outputs": [],
   "source": [
    "s"
   ]
  },
  {
   "cell_type": "code",
   "execution_count": null,
   "metadata": {},
   "outputs": [],
   "source": [
    "def listify(s, paren_pairs):\n",
    "    "
   ]
  },
  {
   "cell_type": "code",
   "execution_count": null,
   "metadata": {},
   "outputs": [],
   "source": [
    "# https://stackoverflow.com/a/23185606\n",
    "def parse_nested(text, left=r'[(]', right=r'[)]', sep=r','):\n",
    "    \"\"\" Based on https://stackoverflow.com/a/17141899/190597 (falsetru) \"\"\"\n",
    "    pat = r'({}|{}|{})'.format(left, right, sep)\n",
    "    tokens = re.split(pat, text)    \n",
    "    stack = [[]]\n",
    "    for x in tokens:\n",
    "        if not x or re.match(sep, x): continue\n",
    "        if re.match(left, x):\n",
    "            stack[-1].append([])\n",
    "            stack.append(stack[-1][-1])\n",
    "        elif re.match(right, x):\n",
    "            stack.pop()\n",
    "            if not stack:\n",
    "                raise ValueError('error: opening bracket is missing')\n",
    "        else:\n",
    "            stack[-1].append(x)\n",
    "    if len(stack) > 1:\n",
    "        print(stack)\n",
    "        raise ValueError('error: closing bracket is missing')\n",
    "    return stack.pop()"
   ]
  },
  {
   "cell_type": "code",
   "execution_count": null,
   "metadata": {
    "tags": []
   },
   "outputs": [],
   "source": [
    "l = parse_nested(s); l"
   ]
  },
  {
   "cell_type": "code",
   "execution_count": null,
   "metadata": {},
   "outputs": [],
   "source": [
    "len(l)"
   ]
  },
  {
   "cell_type": "code",
   "execution_count": null,
   "metadata": {
    "tags": []
   },
   "outputs": [],
   "source": [
    "print(\"~\")"
   ]
  },
  {
   "cell_type": "code",
   "execution_count": null,
   "metadata": {},
   "outputs": [],
   "source": [
    "operator_symbols = {\n",
    "    \"And\": \"&\",\n",
    "    \"Or\": \"|\",\n",
    "}\n",
    "def nested_list2str(l):\n",
    "    if isinstance(l, str):\n",
    "        return l\n",
    "    # elif list_is_flat(l):\n",
    "    #     return \",\".join(l)\n",
    "    else:\n",
    "        assert len(l) == 2, f\"{len(l)}; {l}\"\n",
    "        operator, args = l\n",
    "        args = [nested_list2str(x) for x in args]\n",
    "        if operator == \"Not\":\n",
    "            assert len(args) == 1, l\n",
    "            return f\"~{args[0]}\"\n",
    "        else:\n",
    "            operator_symbol = operator_symbols[operator]\n",
    "            return \"(\" + operator_symbol.join(args)\n",
    "\n",
    "\n",
    "\n",
    "        "
   ]
  },
  {
   "cell_type": "code",
   "execution_count": null,
   "metadata": {},
   "outputs": [],
   "source": [
    "nested_list2str(l)"
   ]
  },
  {
   "cell_type": "code",
   "execution_count": null,
   "metadata": {},
   "outputs": [],
   "source": [
    "l[0]"
   ]
  },
  {
   "cell_type": "code",
   "execution_count": null,
   "metadata": {},
   "outputs": [],
   "source": [
    "l[1]"
   ]
  },
  {
   "cell_type": "code",
   "execution_count": null,
   "metadata": {},
   "outputs": [],
   "source": [
    "l"
   ]
  },
  {
   "cell_type": "code",
   "execution_count": null,
   "metadata": {},
   "outputs": [],
   "source": [
    "len(l)"
   ]
  },
  {
   "cell_type": "code",
   "execution_count": null,
   "metadata": {},
   "outputs": [],
   "source": [
    "len(l[1][0])"
   ]
  },
  {
   "cell_type": "code",
   "execution_count": null,
   "metadata": {},
   "outputs": [],
   "source": []
  }
 ]
}