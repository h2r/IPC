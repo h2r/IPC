{
 "metadata": {
  "language_info": {
   "codemirror_mode": {
    "name": "ipython",
    "version": 3
   },
   "file_extension": ".py",
   "mimetype": "text/x-python",
   "name": "python",
   "nbconvert_exporter": "python",
   "pygments_lexer": "ipython3",
   "version": "3.7.7-final"
  },
  "orig_nbformat": 2,
  "kernelspec": {
   "name": "python_defaultSpec_1598185831690",
   "display_name": "Python 3.7.7 64-bit ('scoping': conda)"
  }
 },
 "nbformat": 4,
 "nbformat_minor": 2,
 "cells": [
  {
   "cell_type": "code",
   "execution_count": 1,
   "metadata": {},
   "outputs": [],
   "source": [
    "%load_ext autoreload\n",
    "%autoreload 2"
   ]
  },
  {
   "cell_type": "code",
   "execution_count": 2,
   "metadata": {},
   "outputs": [],
   "source": [
    "import re"
   ]
  },
  {
   "cell_type": "code",
   "execution_count": null,
   "metadata": {},
   "outputs": [],
   "source": [
    "def parse_operators(s):\n",
    "    \"\"\"\n",
    "    Converts a string of the form \"foo(bar(1), bar(2)) into a nested list [foo,[[bar,1],[bar,2]]]\n",
    "    Used for converting z3 expression string into infix format\n",
    "    \"\"\"\n",
    "    s = collapse_whitespace(s)\n",
    "    "
   ]
  },
  {
   "cell_type": "code",
   "execution_count": 6,
   "metadata": {},
   "outputs": [],
   "source": [
    "s = \"\"\"And(And(Not(passenger-in-taxi(curly, t0)),\n",
    "        Not(passenger-in-taxi(smoov, t0)),\n",
    "        Not(passenger-in-taxi(littman, t0)),\n",
    "        Not(passenger-in-taxi(isbell, t0))))\"\"\""
   ]
  },
  {
   "cell_type": "code",
   "execution_count": 9,
   "metadata": {},
   "outputs": [],
   "source": [
    "def collapse_whitespace(s):\n",
    "    rex = re.compile(r'\\s+')\n",
    "    return rex.sub(' ', s)"
   ]
  },
  {
   "cell_type": "code",
   "execution_count": 10,
   "metadata": {},
   "outputs": [
    {
     "output_type": "execute_result",
     "data": {
      "text/plain": "'And(And(Not(passenger-in-taxi(curly, t0)), Not(passenger-in-taxi(smoov, t0)), Not(passenger-in-taxi(littman, t0)), Not(passenger-in-taxi(isbell, t0))))'"
     },
     "metadata": {},
     "execution_count": 10
    }
   ],
   "source": [
    "collapse_whitespace(s)"
   ]
  },
  {
   "cell_type": "code",
   "execution_count": 17,
   "metadata": {
    "tags": []
   },
   "outputs": [
    {
     "output_type": "stream",
     "name": "stdout",
     "text": "[3, 7, 11, 29, 54, 72, 97, 115, 142, 160]\n"
    }
   ],
   "source": [
    "left_parens = [x.start() for x in re.finditer(\"\\(\",s)]\n",
    "right_parens = [x.start() for x in re.finditer(\"\\)\",s)]"
   ]
  },
  {
   "cell_type": "code",
   "execution_count": null,
   "metadata": {},
   "outputs": [],
   "source": [
    "assert len(left_parens) == len(right_parens)\n"
   ]
  },
  {
   "cell_type": "code",
   "execution_count": 19,
   "metadata": {
    "tags": []
   },
   "outputs": [
    {
     "output_type": "stream",
     "name": "stdout",
     "text": "['(', '(', '(', '(', '(', '(', '(', '(', '(', '(']\n"
    }
   ],
   "source": [
    "print([s[i] for i in left_parens])"
   ]
  },
  {
   "cell_type": "code",
   "execution_count": 21,
   "metadata": {
    "tags": []
   },
   "outputs": [
    {
     "output_type": "stream",
     "name": "stdout",
     "text": "[1, 2]\n"
    }
   ],
   "source": [
    "dum = [1,2,3]\n",
    "dum.pop()\n",
    "print(dum)"
   ]
  },
  {
   "cell_type": "code",
   "execution_count": null,
   "metadata": {},
   "outputs": [],
   "source": []
  },
  {
   "cell_type": "code",
   "execution_count": 24,
   "metadata": {},
   "outputs": [],
   "source": [
    "def get_matching_parens(s):\n",
    "    paren_pairs = []\n",
    "    left_parens_stack = []\n",
    "    for i, c in enumerate(s):\n",
    "        if c == \"(\":\n",
    "            left_parens_stack.append(i)\n",
    "        if c == \")\":\n",
    "            if len(left_parens_stack) == 0:\n",
    "                raise ValueError(f\"Unbalanced Parens: {i}\")\n",
    "            paren_pairs.append((left_parens_stack.pop(), i))\n",
    "    if len(left_parens_stack) > 0:\n",
    "        raise ValueError(f\"Extra left parens: {left_parens_stack}\")\n",
    "    return paren_pairs"
   ]
  },
  {
   "cell_type": "code",
   "execution_count": null,
   "metadata": {},
   "outputs": [],
   "source": [
    "def slice_parens(s, paren_pairs)"
   ]
  },
  {
   "cell_type": "code",
   "execution_count": 25,
   "metadata": {},
   "outputs": [
    {
     "output_type": "execute_result",
     "data": {
      "text/plain": "[(29, 39),\n (11, 40),\n (72, 82),\n (54, 83),\n (115, 127),\n (97, 128),\n (160, 171),\n (142, 172),\n (7, 173),\n (3, 174)]"
     },
     "metadata": {},
     "execution_count": 25
    }
   ],
   "source": [
    "get_matching_parens(s)"
   ]
  },
  {
   "cell_type": "code",
   "execution_count": null,
   "metadata": {},
   "outputs": [],
   "source": []
  }
 ]
}