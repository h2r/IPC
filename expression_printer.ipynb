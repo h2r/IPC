{
 "metadata": {
  "language_info": {
   "codemirror_mode": {
    "name": "ipython",
    "version": 3
   },
   "file_extension": ".py",
   "mimetype": "text/x-python",
   "name": "python",
   "nbconvert_exporter": "python",
   "pygments_lexer": "ipython3",
   "version": "3.7.7-final"
  },
  "orig_nbformat": 2,
  "kernelspec": {
   "name": "python_defaultSpec_1598185831690",
   "display_name": "Python 3.7.7 64-bit ('scoping': conda)"
  }
 },
 "nbformat": 4,
 "nbformat_minor": 2,
 "cells": [
  {
   "cell_type": "code",
   "execution_count": 1,
   "metadata": {},
   "outputs": [],
   "source": [
    "%load_ext autoreload\n",
    "%autoreload 2"
   ]
  },
  {
   "cell_type": "code",
   "execution_count": 32,
   "metadata": {},
   "outputs": [],
   "source": [
    "import re\n",
    "from itertools import chain"
   ]
  },
  {
   "cell_type": "code",
   "execution_count": null,
   "metadata": {},
   "outputs": [],
   "source": [
    "def parse_operators(s):\n",
    "    \"\"\"\n",
    "    Converts a string of the form \"foo(bar(1), bar(2)) into a nested list [foo,[[bar,1],[bar,2]]]\n",
    "    Used for converting z3 expression string into infix format\n",
    "    \"\"\"\n",
    "    s = collapse_whitespace(s)\n",
    "    "
   ]
  },
  {
   "cell_type": "code",
   "execution_count": 6,
   "metadata": {},
   "outputs": [],
   "source": [
    "s = \"\"\"And(And(Not(passenger-in-taxi(curly, t0)),\n",
    "        Not(passenger-in-taxi(smoov, t0)),\n",
    "        Not(passenger-in-taxi(littman, t0)),\n",
    "        Not(passenger-in-taxi(isbell, t0))))\"\"\""
   ]
  },
  {
   "cell_type": "code",
   "execution_count": 9,
   "metadata": {},
   "outputs": [],
   "source": [
    "def collapse_whitespace(s):\n",
    "    rex = re.compile(r'\\s+')\n",
    "    return rex.sub(' ', s)"
   ]
  },
  {
   "cell_type": "code",
   "execution_count": 10,
   "metadata": {},
   "outputs": [
    {
     "output_type": "execute_result",
     "data": {
      "text/plain": "'And(And(Not(passenger-in-taxi(curly, t0)), Not(passenger-in-taxi(smoov, t0)), Not(passenger-in-taxi(littman, t0)), Not(passenger-in-taxi(isbell, t0))))'"
     },
     "metadata": {},
     "execution_count": 10
    }
   ],
   "source": [
    "collapse_whitespace(s)"
   ]
  },
  {
   "cell_type": "code",
   "execution_count": 17,
   "metadata": {
    "tags": []
   },
   "outputs": [
    {
     "output_type": "stream",
     "name": "stdout",
     "text": "[3, 7, 11, 29, 54, 72, 97, 115, 142, 160]\n"
    }
   ],
   "source": [
    "left_parens = [x.start() for x in re.finditer(\"\\(\",s)]\n",
    "right_parens = [x.start() for x in re.finditer(\"\\)\",s)]"
   ]
  },
  {
   "cell_type": "code",
   "execution_count": null,
   "metadata": {},
   "outputs": [],
   "source": [
    "assert len(left_parens) == len(right_parens)\n"
   ]
  },
  {
   "cell_type": "code",
   "execution_count": 19,
   "metadata": {
    "tags": []
   },
   "outputs": [
    {
     "output_type": "stream",
     "name": "stdout",
     "text": "['(', '(', '(', '(', '(', '(', '(', '(', '(', '(']\n"
    }
   ],
   "source": [
    "print([s[i] for i in left_parens])"
   ]
  },
  {
   "cell_type": "code",
   "execution_count": 21,
   "metadata": {
    "tags": []
   },
   "outputs": [
    {
     "output_type": "stream",
     "name": "stdout",
     "text": "[1, 2]\n"
    }
   ],
   "source": [
    "dum = [1,2,3]\n",
    "dum.pop()\n",
    "print(dum)"
   ]
  },
  {
   "cell_type": "code",
   "execution_count": null,
   "metadata": {},
   "outputs": [],
   "source": []
  },
  {
   "cell_type": "code",
   "execution_count": 28,
   "metadata": {},
   "outputs": [],
   "source": [
    "def get_matching_parens(s):\n",
    "    paren_pairs = []\n",
    "    left_parens_stack = []\n",
    "    for i, c in enumerate(s):\n",
    "        if c == \"(\":\n",
    "            left_parens_stack.append(i)\n",
    "        if c == \")\":\n",
    "            if len(left_parens_stack) == 0:\n",
    "                raise ValueError(f\"Unbalanced Parens: {i}\")\n",
    "            paren_pairs.append((left_parens_stack.pop(), i))\n",
    "    if len(left_parens_stack) > 0:\n",
    "        raise ValueError(f\"Extra left parens: {left_parens_stack}\")\n",
    "    return sorted(paren_pairs, key=lambda x: x[0])"
   ]
  },
  {
   "cell_type": "code",
   "execution_count": null,
   "metadata": {},
   "outputs": [],
   "source": []
  },
  {
   "cell_type": "code",
   "execution_count": null,
   "metadata": {},
   "outputs": [],
   "source": [
    "def slice_parens(s, paren_pairs)"
   ]
  },
  {
   "cell_type": "code",
   "execution_count": 26,
   "metadata": {},
   "outputs": [
    {
     "output_type": "stream",
     "text": "\u001b[0;31mSignature:\u001b[0m \u001b[0msorted\u001b[0m\u001b[0;34m(\u001b[0m\u001b[0miterable\u001b[0m\u001b[0;34m,\u001b[0m \u001b[0;34m/\u001b[0m\u001b[0;34m,\u001b[0m \u001b[0;34m*\u001b[0m\u001b[0;34m,\u001b[0m \u001b[0mkey\u001b[0m\u001b[0;34m=\u001b[0m\u001b[0;32mNone\u001b[0m\u001b[0;34m,\u001b[0m \u001b[0mreverse\u001b[0m\u001b[0;34m=\u001b[0m\u001b[0;32mFalse\u001b[0m\u001b[0;34m)\u001b[0m\u001b[0;34m\u001b[0m\u001b[0;34m\u001b[0m\u001b[0m\n\u001b[0;31mDocstring:\u001b[0m\nReturn a new list containing all items from the iterable in ascending order.\n\nA custom key function can be supplied to customize the sort order, and the\nreverse flag can be set to request the result in descending order.\n\u001b[0;31mType:\u001b[0m      builtin_function_or_method\n"
    }
   ],
   "source": [
    "?sorted"
   ]
  },
  {
   "cell_type": "code",
   "execution_count": 43,
   "metadata": {
    "tags": []
   },
   "outputs": [
    {
     "output_type": "stream",
     "name": "stdout",
     "text": "And(And(Not(passenger-in-taxi(curly, t0)), Not(passenger-in-taxi(smoov, t0)), Not(passenger-in-taxi(littman, t0)), Not(passenger-in-taxi(isbell, t0))))\n"
    }
   ],
   "source": [
    "s = collapse_whitespace(s); print(s)"
   ]
  },
  {
   "cell_type": "code",
   "execution_count": 44,
   "metadata": {
    "tags": []
   },
   "outputs": [],
   "source": [
    "paren_pairs = get_matching_parens(s)"
   ]
  },
  {
   "cell_type": "code",
   "execution_count": 51,
   "metadata": {},
   "outputs": [],
   "source": [
    "split_idx = sorted(list(chain(*paren_pairs)))\n",
    "if 0 not in split_idx:\n",
    "    split_idx = [-1] + split_idx"
   ]
  },
  {
   "cell_type": "code",
   "execution_count": 52,
   "metadata": {},
   "outputs": [],
   "source": [
    "s_pieces = []\n",
    "for i in range(len(split_idx) - 1):\n",
    "    s_pieces.append(s[split_idx[i] + 1:split_idx[i+1]])"
   ]
  },
  {
   "cell_type": "code",
   "execution_count": 53,
   "metadata": {},
   "outputs": [
    {
     "output_type": "execute_result",
     "data": {
      "text/plain": "['And',\n 'And',\n 'Not',\n 'passenger-in-taxi',\n 'curly, t0',\n '',\n ', Not',\n 'passenger-in-taxi',\n 'smoov, t0',\n '',\n ', Not',\n 'passenger-in-taxi',\n 'littman, t0',\n '',\n ', Not',\n 'passenger-in-taxi',\n 'isbell, t0',\n '',\n '',\n '']"
     },
     "metadata": {},
     "execution_count": 53
    }
   ],
   "source": [
    "s_pieces"
   ]
  },
  {
   "cell_type": "code",
   "execution_count": null,
   "metadata": {},
   "outputs": [],
   "source": [
    "def listify(s, paren_pairs):\n",
    "    "
   ]
  },
  {
   "cell_type": "code",
   "execution_count": 54,
   "metadata": {},
   "outputs": [],
   "source": [
    "# https://stackoverflow.com/a/23185606\n",
    "def parse_nested(text, left=r'[(]', right=r'[)]', sep=r','):\n",
    "    \"\"\" Based on https://stackoverflow.com/a/17141899/190597 (falsetru) \"\"\"\n",
    "    pat = r'({}|{}|{})'.format(left, right, sep)\n",
    "    tokens = re.split(pat, text)    \n",
    "    stack = [[]]\n",
    "    for x in tokens:\n",
    "        if not x or re.match(sep, x): continue\n",
    "        if re.match(left, x):\n",
    "            stack[-1].append([])\n",
    "            stack.append(stack[-1][-1])\n",
    "        elif re.match(right, x):\n",
    "            stack.pop()\n",
    "            if not stack:\n",
    "                raise ValueError('error: opening bracket is missing')\n",
    "        else:\n",
    "            stack[-1].append(x)\n",
    "    if len(stack) > 1:\n",
    "        print(stack)\n",
    "        raise ValueError('error: closing bracket is missing')\n",
    "    return stack.pop()"
   ]
  },
  {
   "cell_type": "code",
   "execution_count": 57,
   "metadata": {
    "tags": []
   },
   "outputs": [
    {
     "output_type": "execute_result",
     "data": {
      "text/plain": "['And',\n ['And',\n  ['Not',\n   ['passenger-in-taxi', ['curly', ' t0']],\n   ' Not',\n   ['passenger-in-taxi', ['smoov', ' t0']],\n   ' Not',\n   ['passenger-in-taxi', ['littman', ' t0']],\n   ' Not',\n   ['passenger-in-taxi', ['isbell', ' t0']]]]]"
     },
     "metadata": {},
     "execution_count": 57
    }
   ],
   "source": [
    "l = parse_nested(s); l"
   ]
  },
  {
   "cell_type": "code",
   "execution_count": 63,
   "metadata": {},
   "outputs": [
    {
     "output_type": "execute_result",
     "data": {
      "text/plain": "2"
     },
     "metadata": {},
     "execution_count": 63
    }
   ],
   "source": [
    "len(l)"
   ]
  },
  {
   "cell_type": "code",
   "execution_count": 58,
   "metadata": {
    "tags": []
   },
   "outputs": [
    {
     "output_type": "stream",
     "name": "stdout",
     "text": "~\n"
    }
   ],
   "source": [
    "print(\"~\")"
   ]
  },
  {
   "cell_type": "code",
   "execution_count": 69,
   "metadata": {},
   "outputs": [],
   "source": [
    "operator_symbols = {\n",
    "    \"And\": \"&\",\n",
    "    \"Or\": \"|\",\n",
    "}\n",
    "def nested_list2str(l):\n",
    "    if isinstance(l, str):\n",
    "        return l\n",
    "    # elif list_is_flat(l):\n",
    "    #     return \",\".join(l)\n",
    "    else:\n",
    "        assert len(l) == 2, f\"{len(l)}; {l}\"\n",
    "        operator, args = l\n",
    "        args = [nested_list2str(x) for x in args]\n",
    "        if operator == \"Not\":\n",
    "            assert len(args) == 1, l\n",
    "            return f\"~{args[0]}\"\n",
    "        else:\n",
    "            operator_symbol = operator_symbols[operator]\n",
    "            return \"(\" + operator_symbol.join(args)\n",
    "\n",
    "\n",
    "\n",
    "        "
   ]
  },
  {
   "cell_type": "code",
   "execution_count": 70,
   "metadata": {},
   "outputs": [
    {
     "output_type": "error",
     "ename": "AssertionError",
     "evalue": "8; ['Not', ['passenger-in-taxi', ['curly', ' t0']], ' Not', ['passenger-in-taxi', ['smoov', ' t0']], ' Not', ['passenger-in-taxi', ['littman', ' t0']], ' Not', ['passenger-in-taxi', ['isbell', ' t0']]]",
     "traceback": [
      "\u001b[0;31m---------------------------------------------------------------------------\u001b[0m",
      "\u001b[0;31mAssertionError\u001b[0m                            Traceback (most recent call last)",
      "\u001b[0;32m<ipython-input-70-95e8a33c5920>\u001b[0m in \u001b[0;36m<module>\u001b[0;34m\u001b[0m\n\u001b[0;32m----> 1\u001b[0;31m \u001b[0mnested_list2str\u001b[0m\u001b[0;34m(\u001b[0m\u001b[0ml\u001b[0m\u001b[0;34m)\u001b[0m\u001b[0;34m\u001b[0m\u001b[0;34m\u001b[0m\u001b[0m\n\u001b[0m",
      "\u001b[0;32m<ipython-input-69-cdb12ca1ec07>\u001b[0m in \u001b[0;36mnested_list2str\u001b[0;34m(l)\u001b[0m\n\u001b[1;32m     11\u001b[0m         \u001b[0;32massert\u001b[0m \u001b[0mlen\u001b[0m\u001b[0;34m(\u001b[0m\u001b[0ml\u001b[0m\u001b[0;34m)\u001b[0m \u001b[0;34m==\u001b[0m \u001b[0;36m2\u001b[0m\u001b[0;34m,\u001b[0m \u001b[0;34mf\"{len(l)}; {l}\"\u001b[0m\u001b[0;34m\u001b[0m\u001b[0;34m\u001b[0m\u001b[0m\n\u001b[1;32m     12\u001b[0m         \u001b[0moperator\u001b[0m\u001b[0;34m,\u001b[0m \u001b[0margs\u001b[0m \u001b[0;34m=\u001b[0m \u001b[0ml\u001b[0m\u001b[0;34m\u001b[0m\u001b[0;34m\u001b[0m\u001b[0m\n\u001b[0;32m---> 13\u001b[0;31m         \u001b[0margs\u001b[0m \u001b[0;34m=\u001b[0m \u001b[0;34m[\u001b[0m\u001b[0mnested_list2str\u001b[0m\u001b[0;34m(\u001b[0m\u001b[0mx\u001b[0m\u001b[0;34m)\u001b[0m \u001b[0;32mfor\u001b[0m \u001b[0mx\u001b[0m \u001b[0;32min\u001b[0m \u001b[0margs\u001b[0m\u001b[0;34m]\u001b[0m\u001b[0;34m\u001b[0m\u001b[0;34m\u001b[0m\u001b[0m\n\u001b[0m\u001b[1;32m     14\u001b[0m         \u001b[0;32mif\u001b[0m \u001b[0moperator\u001b[0m \u001b[0;34m==\u001b[0m \u001b[0;34m\"Not\"\u001b[0m\u001b[0;34m:\u001b[0m\u001b[0;34m\u001b[0m\u001b[0;34m\u001b[0m\u001b[0m\n\u001b[1;32m     15\u001b[0m             \u001b[0;32massert\u001b[0m \u001b[0mlen\u001b[0m\u001b[0;34m(\u001b[0m\u001b[0margs\u001b[0m\u001b[0;34m)\u001b[0m \u001b[0;34m==\u001b[0m \u001b[0;36m1\u001b[0m\u001b[0;34m,\u001b[0m \u001b[0ml\u001b[0m\u001b[0;34m\u001b[0m\u001b[0;34m\u001b[0m\u001b[0m\n",
      "\u001b[0;32m<ipython-input-69-cdb12ca1ec07>\u001b[0m in \u001b[0;36m<listcomp>\u001b[0;34m(.0)\u001b[0m\n\u001b[1;32m     11\u001b[0m         \u001b[0;32massert\u001b[0m \u001b[0mlen\u001b[0m\u001b[0;34m(\u001b[0m\u001b[0ml\u001b[0m\u001b[0;34m)\u001b[0m \u001b[0;34m==\u001b[0m \u001b[0;36m2\u001b[0m\u001b[0;34m,\u001b[0m \u001b[0;34mf\"{len(l)}; {l}\"\u001b[0m\u001b[0;34m\u001b[0m\u001b[0;34m\u001b[0m\u001b[0m\n\u001b[1;32m     12\u001b[0m         \u001b[0moperator\u001b[0m\u001b[0;34m,\u001b[0m \u001b[0margs\u001b[0m \u001b[0;34m=\u001b[0m \u001b[0ml\u001b[0m\u001b[0;34m\u001b[0m\u001b[0;34m\u001b[0m\u001b[0m\n\u001b[0;32m---> 13\u001b[0;31m         \u001b[0margs\u001b[0m \u001b[0;34m=\u001b[0m \u001b[0;34m[\u001b[0m\u001b[0mnested_list2str\u001b[0m\u001b[0;34m(\u001b[0m\u001b[0mx\u001b[0m\u001b[0;34m)\u001b[0m \u001b[0;32mfor\u001b[0m \u001b[0mx\u001b[0m \u001b[0;32min\u001b[0m \u001b[0margs\u001b[0m\u001b[0;34m]\u001b[0m\u001b[0;34m\u001b[0m\u001b[0;34m\u001b[0m\u001b[0m\n\u001b[0m\u001b[1;32m     14\u001b[0m         \u001b[0;32mif\u001b[0m \u001b[0moperator\u001b[0m \u001b[0;34m==\u001b[0m \u001b[0;34m\"Not\"\u001b[0m\u001b[0;34m:\u001b[0m\u001b[0;34m\u001b[0m\u001b[0;34m\u001b[0m\u001b[0m\n\u001b[1;32m     15\u001b[0m             \u001b[0;32massert\u001b[0m \u001b[0mlen\u001b[0m\u001b[0;34m(\u001b[0m\u001b[0margs\u001b[0m\u001b[0;34m)\u001b[0m \u001b[0;34m==\u001b[0m \u001b[0;36m1\u001b[0m\u001b[0;34m,\u001b[0m \u001b[0ml\u001b[0m\u001b[0;34m\u001b[0m\u001b[0;34m\u001b[0m\u001b[0m\n",
      "\u001b[0;32m<ipython-input-69-cdb12ca1ec07>\u001b[0m in \u001b[0;36mnested_list2str\u001b[0;34m(l)\u001b[0m\n\u001b[1;32m      9\u001b[0m     \u001b[0;31m#     return \",\".join(l)\u001b[0m\u001b[0;34m\u001b[0m\u001b[0;34m\u001b[0m\u001b[0;34m\u001b[0m\u001b[0m\n\u001b[1;32m     10\u001b[0m     \u001b[0;32melse\u001b[0m\u001b[0;34m:\u001b[0m\u001b[0;34m\u001b[0m\u001b[0;34m\u001b[0m\u001b[0m\n\u001b[0;32m---> 11\u001b[0;31m         \u001b[0;32massert\u001b[0m \u001b[0mlen\u001b[0m\u001b[0;34m(\u001b[0m\u001b[0ml\u001b[0m\u001b[0;34m)\u001b[0m \u001b[0;34m==\u001b[0m \u001b[0;36m2\u001b[0m\u001b[0;34m,\u001b[0m \u001b[0;34mf\"{len(l)}; {l}\"\u001b[0m\u001b[0;34m\u001b[0m\u001b[0;34m\u001b[0m\u001b[0m\n\u001b[0m\u001b[1;32m     12\u001b[0m         \u001b[0moperator\u001b[0m\u001b[0;34m,\u001b[0m \u001b[0margs\u001b[0m \u001b[0;34m=\u001b[0m \u001b[0ml\u001b[0m\u001b[0;34m\u001b[0m\u001b[0;34m\u001b[0m\u001b[0m\n\u001b[1;32m     13\u001b[0m         \u001b[0margs\u001b[0m \u001b[0;34m=\u001b[0m \u001b[0;34m[\u001b[0m\u001b[0mnested_list2str\u001b[0m\u001b[0;34m(\u001b[0m\u001b[0mx\u001b[0m\u001b[0;34m)\u001b[0m \u001b[0;32mfor\u001b[0m \u001b[0mx\u001b[0m \u001b[0;32min\u001b[0m \u001b[0margs\u001b[0m\u001b[0;34m]\u001b[0m\u001b[0;34m\u001b[0m\u001b[0;34m\u001b[0m\u001b[0m\n",
      "\u001b[0;31mAssertionError\u001b[0m: 8; ['Not', ['passenger-in-taxi', ['curly', ' t0']], ' Not', ['passenger-in-taxi', ['smoov', ' t0']], ' Not', ['passenger-in-taxi', ['littman', ' t0']], ' Not', ['passenger-in-taxi', ['isbell', ' t0']]]"
     ]
    }
   ],
   "source": [
    "nested_list2str(l)"
   ]
  },
  {
   "cell_type": "code",
   "execution_count": 64,
   "metadata": {},
   "outputs": [
    {
     "output_type": "execute_result",
     "data": {
      "text/plain": "'And'"
     },
     "metadata": {},
     "execution_count": 64
    }
   ],
   "source": [
    "l[0]"
   ]
  },
  {
   "cell_type": "code",
   "execution_count": 65,
   "metadata": {},
   "outputs": [
    {
     "output_type": "execute_result",
     "data": {
      "text/plain": "['And',\n ['Not',\n  ['passenger-in-taxi', ['curly', ' t0']],\n  ' Not',\n  ['passenger-in-taxi', ['smoov', ' t0']],\n  ' Not',\n  ['passenger-in-taxi', ['littman', ' t0']],\n  ' Not',\n  ['passenger-in-taxi', ['isbell', ' t0']]]]"
     },
     "metadata": {},
     "execution_count": 65
    }
   ],
   "source": [
    "l[1]"
   ]
  },
  {
   "cell_type": "code",
   "execution_count": 74,
   "metadata": {},
   "outputs": [
    {
     "output_type": "execute_result",
     "data": {
      "text/plain": "['And',\n ['And',\n  ['Not',\n   ['passenger-in-taxi', ['curly', ' t0']],\n   ' Not',\n   ['passenger-in-taxi', ['smoov', ' t0']],\n   ' Not',\n   ['passenger-in-taxi', ['littman', ' t0']],\n   ' Not',\n   ['passenger-in-taxi', ['isbell', ' t0']]]]]"
     },
     "metadata": {},
     "execution_count": 74
    }
   ],
   "source": [
    "l"
   ]
  },
  {
   "cell_type": "code",
   "execution_count": 71,
   "metadata": {},
   "outputs": [
    {
     "output_type": "execute_result",
     "data": {
      "text/plain": "2"
     },
     "metadata": {},
     "execution_count": 71
    }
   ],
   "source": [
    "len(l)"
   ]
  },
  {
   "cell_type": "code",
   "execution_count": 73,
   "metadata": {},
   "outputs": [
    {
     "output_type": "execute_result",
     "data": {
      "text/plain": "3"
     },
     "metadata": {},
     "execution_count": 73
    }
   ],
   "source": [
    "len(l[1][0])"
   ]
  },
  {
   "cell_type": "code",
   "execution_count": null,
   "metadata": {},
   "outputs": [],
   "source": []
  }
 ]
}