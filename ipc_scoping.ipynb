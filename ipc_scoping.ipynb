{
 "metadata": {
  "orig_nbformat": 2,
  "kernelspec": {
   "name": "python3",
   "display_name": "Python 3"
  }
 },
 "nbformat": 4,
 "nbformat_minor": 2,
 "cells": [
  {
   "cell_type": "code",
   "execution_count": 3,
   "metadata": {
    "tags": []
   },
   "outputs": [],
   "source": [
    "%load_ext autoreload\n",
    "%autoreload 2"
   ]
  },
  {
   "cell_type": "code",
   "execution_count": 4,
   "metadata": {},
   "outputs": [],
   "source": [
    "from action import Action\n",
    "# from PDDL import PDDL_Parser\n",
    "from PDDLz3 import PDDL_Parser_z3\n",
    "import sys, pprint\n",
    "from collections import OrderedDict\n",
    "from typing import List, Tuple, Dict, Iterable\n",
    "import re, copy, json\n",
    "import itertools\n",
    "import z3\n",
    "from skill_classes import EffectTypePDDL, SkillPDDL\n",
    "from utils import product_dict, nested_list_replace, get_atoms, get_all_objects, condition_str2objects\n",
    "from scoping import scope\n",
    "import time"
   ]
  },
  {
   "cell_type": "code",
   "execution_count": 9,
   "metadata": {},
   "outputs": [],
   "source": [
    "def pvars2objects(pvars):\n",
    "    objs = condition_str2objects(map(str,pvars))\n",
    "    objs = [s.strip() for s in objs]\n",
    "    objs = sorted(list(set(objs)))\n",
    "    return objs"
   ]
  },
  {
   "cell_type": "code",
   "execution_count": 26,
   "metadata": {},
   "outputs": [],
   "source": [
    "def scope_file(domain, problem):\n",
    "    parser = PDDL_Parser_z3()\n",
    "    parser.parse_domain(domain)\n",
    "    print(\"Parsed domain\")\n",
    "    parser.parse_problem(problem)\n",
    "    print(\"Parsed problem\")\n",
    "    with open(problem, \"r\") as f:\n",
    "        if \":metric\" in f.read():\n",
    "            raise ValueError(\":metric makes the parser or scoper freeze\")\n",
    "    skill_list = parser.get_skills()\n",
    "    print(\"Got skills\")\n",
    "    # This below block converts all the domain's goals to z3\n",
    "    goal_cond = parser.get_goal_cond()\n",
    "    print(\"Got goal\")\n",
    "    # This below block converts all the domain's initial conditions to z3\n",
    "    init_cond_list = parser.get_init_cond_list()\n",
    "    print(\"Got initial state\")\n",
    "    # Run the scoper on the constructed goal, skills and initial condition\n",
    "    rel_pvars, rel_skills = scope(goals=goal_cond, skills=skill_list, start_condition=init_cond_list,verbose=0)\n",
    "\n",
    "    all_pvars = []\n",
    "    for s in skill_list:\n",
    "        all_pvars.extend(get_atoms(s.precondition))\n",
    "        all_pvars.extend(s.params)\n",
    "    all_objects = pvars2objects(all_pvars)\n",
    "    # print(all_objects)\n",
    "    rel_objects = pvars2objects(rel_pvars)\n",
    "    # print(rel_objects)\n",
    "    irrel_objects = [x for x in all_objects if x not in rel_objects]\n",
    "    irrel_pvars = [str(x) for x in all_pvars if str(x) not in map(str, rel_pvars)]\n",
    "    print(irrel_objects)\n",
    "\n",
    "    # return rel_objects, irrel_objects\n",
    "    return rel_pvars, irrel_pvars\n"
   ]
  },
  {
   "cell_type": "code",
   "execution_count": 27,
   "metadata": {},
   "outputs": [],
   "source": [
    "results = OrderedDict()"
   ]
  },
  {
   "cell_type": "code",
   "execution_count": 30,
   "metadata": {
    "tags": []
   },
   "outputs": [
    {
     "output_type": "stream",
     "name": "stdout",
     "text": "(examples/IPC_Domains/Rovers/NumRover.pddl, examples/IPC_Domains/Rovers/prob-01.pddl)\nParsed domain\nParsed problem\nGot skills\nGot goal\nGot initial state\n[]\n(109.94428610801697, ['can_traverse(rover0, waypoint0, waypoint3)', 'can_traverse(rover0, waypoint1, waypoint2)', 'can_traverse(rover0, waypoint1, waypoint3)', 'can_traverse(rover0, waypoint2, waypoint1)', 'can_traverse(rover0, waypoint3, waypoint0)', 'can_traverse(rover0, waypoint3, waypoint1)', 'equipped_for_soil_analysis(rover0)', 'store_of(rover0store, rover0)', 'equipped_for_soil_analysis(rover0)', 'store_of(rover0store, rover0)', 'equipped_for_soil_analysis(rover0)', 'store_of(rover0store, rover0)', 'equipped_for_soil_analysis(rover0)', 'store_of(rover0store, rover0)', 'equipped_for_rock_analysis(rover0)', 'store_of(rover0store, rover0)', 'equipped_for_rock_analysis(rover0)', 'store_of(rover0store, rover0)', 'equipped_for_rock_analysis(rover0)', 'store_of(rover0store, rover0)', 'equipped_for_rock_analysis(rover0)', 'store_of(rover0store, rover0)', 'store_of(rover0store, rover0)'])\n"
    }
   ],
   "source": [
    "domprobs = [\n",
    "    # (\"examples/IPC_Domains/depot/DepotsNum.pddl\", \"examples/IPC_Domains/depot/prob-01.pddl\"),\n",
    "    # (\"examples/IPC_Domains/zeno/zeno.pddl\", \"examples/IPC_Domains/zeno/pb1-bloated.pddl\"),\n",
    "            # (\"examples/IPC_Domains/driverlog/driverlogNumeric.pddl\", \"examples/IPC_Domains/driverlog/pfile0\"),\n",
    "            # (\"examples/IPC_Domains/freecell/free.pddl\", \"examples/IPC_Domains/freecell/pfile0\"),\n",
    "            (\"examples/IPC_Domains/Rovers/NumRover.pddl\", \"examples/IPC_Domains/Rovers/prob-01.pddl\"),\n",
    "            # (\"examples/IPC_Domains/Satellite/metricSat.pddl\", \"examples/IPC_Domains/Satellite/pfile0\"),\n",
    "            ]\n",
    "\n",
    "for dom, prob in domprobs:\n",
    "    print(f\"({dom}, {prob})\")\n",
    "    start_time = time.time()\n",
    "    try:\n",
    "        rel, irrel = scope_file(dom, prob)\n",
    "        # print(rel)\n",
    "        r = irrel\n",
    "    except Exception as e:\n",
    "        r = e\n",
    "    duration = time.time() - start_time\n",
    "    r = (duration, r)\n",
    "    print(r)\n",
    "    results[(dom, prob)] = r\n",
    "    "
   ]
  },
  {
   "cell_type": "code",
   "execution_count": 6,
   "metadata": {},
   "outputs": [
    {
     "output_type": "error",
     "ename": "FileNotFoundError",
     "evalue": "[Errno 2] No such file or directory: './scope_results.json'",
     "traceback": [
      "\u001b[0;31m---------------------------------------------------------------------------\u001b[0m",
      "\u001b[0;31mFileNotFoundError\u001b[0m                         Traceback (most recent call last)",
      "\u001b[0;32m<ipython-input-6-f846eed24921>\u001b[0m in \u001b[0;36m<module>\u001b[0;34m\u001b[0m\n\u001b[0;32m----> 1\u001b[0;31m \u001b[0;32mwith\u001b[0m \u001b[0mopen\u001b[0m\u001b[0;34m(\u001b[0m\u001b[0;34m\"./scope_results.json\"\u001b[0m\u001b[0;34m,\u001b[0m \u001b[0;34m\"r\"\u001b[0m\u001b[0;34m)\u001b[0m \u001b[0;32mas\u001b[0m \u001b[0mf\u001b[0m\u001b[0;34m:\u001b[0m\u001b[0;34m\u001b[0m\u001b[0;34m\u001b[0m\u001b[0m\n\u001b[0m\u001b[1;32m      2\u001b[0m     \u001b[0mjson\u001b[0m\u001b[0;34m.\u001b[0m\u001b[0mdump\u001b[0m\u001b[0;34m(\u001b[0m\u001b[0mresults\u001b[0m\u001b[0;34m,\u001b[0m \u001b[0mf\u001b[0m\u001b[0;34m,\u001b[0m \u001b[0mindent\u001b[0m\u001b[0;34m=\u001b[0m\u001b[0;36m4\u001b[0m\u001b[0;34m)\u001b[0m\u001b[0;34m\u001b[0m\u001b[0;34m\u001b[0m\u001b[0m\n",
      "\u001b[0;31mFileNotFoundError\u001b[0m: [Errno 2] No such file or directory: './scope_results.json'"
     ]
    }
   ],
   "source": [
    "with open(\"./scope_results.json\", \"r\") as f:\n",
    "    json.dump(results, f, indent=4)"
   ]
  },
  {
   "cell_type": "code",
   "execution_count": 21,
   "metadata": {
    "tags": []
   },
   "outputs": [
    {
     "output_type": "stream",
     "name": "stdout",
     "text": "(examples/Rovers/Strips/StripsRover.pddl, examples/Rovers/Strips/pfile1)\nParsed domain\nParsed problem\nGot skills\nGot goal\nGot initial state\nSplitting goals\nSplit goals\nException ignored in: <function AstRef.__del__ at 0x7fbd7ac710e0>\nTraceback (most recent call last):\n  File \"/opt/anaconda3/envs/scoping/lib/python3.7/site-packages/z3/z3.py\", line 313, in __del__\n    if self.ctx.ref() is not None and self.ast is not None:\nAttributeError: 'BoolSortRef' object has no attribute 'ctx'\n(53.07485222816467, ArgumentError(\"argument 1: <class 'KeyboardInterrupt'>: \"))\n"
    }
   ],
   "source": [
    "for dom, prob in [(\"examples/Rovers/Strips/StripsRover.pddl\", \"examples/Rovers/Strips/pfile1\")]:\n",
    "    print(f\"({dom}, {prob})\")\n",
    "    start_time = time.time()\n",
    "    try:\n",
    "        rel, irrel = scope_file(dom, prob)\n",
    "        r = irrel\n",
    "    except Exception as e:\n",
    "        r = e\n",
    "    duration = time.time() - start_time\n",
    "    r = (duration, r)\n",
    "    print(r)\n"
   ]
  },
  {
   "cell_type": "code",
   "execution_count": null,
   "metadata": {},
   "outputs": [],
   "source": []
  }
 ]
}