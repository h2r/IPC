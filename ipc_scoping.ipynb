{
 "metadata": {
  "language_info": {
   "codemirror_mode": {
    "name": "ipython",
    "version": 3
   },
   "file_extension": ".py",
   "mimetype": "text/x-python",
   "name": "python",
   "nbconvert_exporter": "python",
   "pygments_lexer": "ipython3",
   "version": "3.7.7-final"
  },
  "orig_nbformat": 2,
  "kernelspec": {
   "name": "python_defaultSpec_1598568740599",
   "display_name": "Python 3.7.7 64-bit"
  }
 },
 "nbformat": 4,
 "nbformat_minor": 2,
 "cells": [
  {
   "cell_type": "code",
   "execution_count": 1,
   "metadata": {},
   "outputs": [],
   "source": [
    "%load_ext autoreload\n",
    "%autoreload 2"
   ]
  },
  {
   "cell_type": "code",
   "execution_count": 2,
   "metadata": {},
   "outputs": [],
   "source": [
    "from action import Action\n",
    "# from PDDL import PDDL_Parser\n",
    "from PDDLz3 import PDDL_Parser_z3\n",
    "import sys, pprint\n",
    "from collections import OrderedDict\n",
    "from typing import List, Tuple, Dict, Iterable\n",
    "import re, copy, json\n",
    "import itertools\n",
    "import z3\n",
    "from skill_classes import EffectTypePDDL, SkillPDDL\n",
    "from utils import product_dict, nested_list_replace, get_atoms, get_all_objects, condition_str2objects\n",
    "from scoping import scope\n",
    "import time"
   ]
  },
  {
   "cell_type": "code",
   "execution_count": 3,
   "metadata": {},
   "outputs": [],
   "source": [
    "def pvars2objects(pvars):\n",
    "    objs = condition_str2objects(map(str,pvars))\n",
    "    objs = [s.strip() for s in objs]\n",
    "    objs = sorted(list(set(objs)))\n",
    "    return objs"
   ]
  },
  {
   "cell_type": "code",
   "execution_count": 4,
   "metadata": {},
   "outputs": [],
   "source": [
    "def scope_file(domain, problem):\n",
    "    parser = PDDL_Parser_z3()\n",
    "    parser.parse_domain(domain)\n",
    "    print(\"Parsed domain\")\n",
    "    parser.parse_problem(problem)\n",
    "    print(\"Parsed problem\")\n",
    "    with open(problem, \"r\") as f:\n",
    "        if \":metric\" in f.read():\n",
    "            raise ValueError(\":metric makes the parser or scoper freeze\")\n",
    "    skill_list = parser.get_skills()\n",
    "    print(\"Got skills\")\n",
    "    # This below block converts all the domain's goals to z3\n",
    "    goal_cond = parser.get_goal_cond()\n",
    "    print(\"Got goal\")\n",
    "    # This below block converts all the domain's initial conditions to z3\n",
    "    init_cond_list = parser.get_init_cond_list()\n",
    "    print(\"Got initial state\")\n",
    "    # Run the scoper on the constructed goal, skills and initial condition\n",
    "    rel_pvars, rel_skills = scope(goals=goal_cond, skills=skill_list, start_condition=init_cond_list,verbose=3)\n",
    "\n",
    "    all_pvars = []\n",
    "    for s in skill_list:\n",
    "        all_pvars.extend(get_atoms(s.precondition))\n",
    "        all_pvars.extend(s.params)\n",
    "    all_objects = pvars2objects(all_pvars)\n",
    "    rel_objects = pvars2objects(rel_pvars)\n",
    "    irrel_objects = [x for x in all_objects if x not in rel_objects]\n",
    "    irrel_pvars = [str(x) for x in all_pvars if str(x) not in map(str, all_pvars)]\n",
    "\n",
    "    # return rel_objects, irrel_objects\n",
    "    return rel_pvars, irrel_pvars\n"
   ]
  },
  {
   "cell_type": "code",
   "execution_count": 5,
   "metadata": {},
   "outputs": [],
   "source": [
    "results = OrderedDict()"
   ]
  },
  {
   "cell_type": "code",
   "execution_count": 6,
   "metadata": {
    "tags": []
   },
   "outputs": [
    {
     "output_type": "stream",
     "name": "stdout",
     "text": "(examples/existential-taxi/taxi-domain.pddl, ./examples/existential-taxi/prob-02.pddl)\nParsed domain\nParsed problem\nGot skills\nGot goal\nGot initial state\n~~~~~~~~~~Initial Conditions~~~~~~~~~~\ntaxi-x(t0) == 0\n\ntaxi-y(t0) == 0\n\nNot(in-taxi(curly, t0))\n\nNot(in-taxi(smoov, t0))\n\npass-x(curly) == 3329\n\npass-y(curly) == 3614\n\npass-x(smoov) == 3459\n\npass-y(smoov) == 1462\n\n\n~~~~~~~~~~Goals~~~~~~~~~~\npass-y(curly) == 10000\n\npass-x(curly) == 9000\n\nNot(in-taxi(curly, t0))\n\n\n~~~~~~~~~~State Constraints~~~~~~~~~~\nNone\n0\n~~~~~~~~~~Skills~~~~~~~~~~\nDummyFinalSkill\nPrecondition: And(Not(in-taxi(curly, t0)),\n    pass-y(curly) == 10000,\n    pass-x(curly) == 9000)\nEffects: (dummy_goal <- 0,)\nSide Effects: ()\n\n\n~~~~~~~~~~Pvars Rel~~~~~~~~~~\ndummy_goal\n1\n~~~~~~~~~~Skills~~~~~~~~~~\nDummyFinalSkill\nPrecondition: And(Not(in-taxi(curly, t0)),\n    pass-y(curly) == 10000,\n    pass-x(curly) == 9000)\nEffects: (dummy_goal <- 0,)\nSide Effects: ()\n\nmove-east-pass\nPrecondition: And(in-taxi(curly, t0), Not(in-taxi(smoov, t0)))\nEffects: (pass-x(curly) <- pass-x(curly) + 1,)\nSide Effects: (taxi-x(t0) <- taxi-x(t0) + 1,)\n\nmove-north-pass\nPrecondition: And(in-taxi(curly, t0), Not(in-taxi(smoov, t0)))\nEffects: (pass-y(curly) <- pass-y(curly) + 1,)\nSide Effects: (taxi-y(t0) <- taxi-y(t0) + 1,)\n\nmove-south-pass\nPrecondition: And(in-taxi(curly, t0), Not(in-taxi(smoov, t0)))\nEffects: (pass-y(curly) <- pass-y(curly) - 1,)\nSide Effects: (taxi-y(t0) <- taxi-y(t0) - 1,)\n\nmove-west-pass\nPrecondition: And(in-taxi(curly, t0), Not(in-taxi(smoov, t0)))\nEffects: (pass-x(curly) <- pass-x(curly) - 1,)\nSide Effects: (taxi-x(t0) <- taxi-x(t0) - 1,)\n\n\n~~~~~~~~~~Pvars Rel~~~~~~~~~~\ndummy_goal\n\npass-x(curly)\n\npass-y(curly)\n2\n~~~~~~~~~~Skills~~~~~~~~~~\nDummyFinalSkill\nPrecondition: And(Not(in-taxi(curly, t0)),\n    pass-y(curly) == 10000,\n    pass-x(curly) == 9000)\nEffects: (dummy_goal <- 0,)\nSide Effects: ()\n\ndropoff\nPrecondition: in-taxi(curly, t0)\nEffects: (in-taxi(curly, t0) <- False,)\nSide Effects: ()\n\nmove-east-pass\nPrecondition: And(in-taxi(curly, t0), Not(in-taxi(smoov, t0)))\nEffects: (pass-x(curly) <- pass-x(curly) + 1,)\nSide Effects: (taxi-x(t0) <- taxi-x(t0) + 1,)\n\nmove-north-pass\nPrecondition: And(in-taxi(curly, t0), Not(in-taxi(smoov, t0)))\nEffects: (pass-y(curly) <- pass-y(curly) + 1,)\nSide Effects: (taxi-y(t0) <- taxi-y(t0) + 1,)\n\nmove-south-pass\nPrecondition: And(in-taxi(curly, t0), Not(in-taxi(smoov, t0)))\nEffects: (pass-y(curly) <- pass-y(curly) - 1,)\nSide Effects: (taxi-y(t0) <- taxi-y(t0) - 1,)\n\nmove-west-pass\nPrecondition: And(in-taxi(curly, t0), Not(in-taxi(smoov, t0)))\nEffects: (pass-x(curly) <- pass-x(curly) - 1,)\nSide Effects: (taxi-x(t0) <- taxi-x(t0) - 1,)\n\npickup\nPrecondition: And(Not(in-taxi(curly, t0)),\n    Not(in-taxi(smoov, t0)),\n    pass-x(curly) == taxi-x(t0),\n    pass-y(curly) == taxi-y(t0))\nEffects: (in-taxi(curly, t0) <- True,)\nSide Effects: ()\n\n\n~~~~~~~~~~Pvars Rel~~~~~~~~~~\ndummy_goal\n\nin-taxi(curly, t0)\n\npass-x(curly)\n\npass-y(curly)\ntaxi time\n3\n~~~~~~~~~~Skills~~~~~~~~~~\nDummyFinalSkill\nPrecondition: And(Not(in-taxi(curly, t0)),\n    pass-y(curly) == 10000,\n    pass-x(curly) == 9000)\nEffects: (dummy_goal <- 0,)\nSide Effects: ()\n\n['move-east', 'move-east-pass']\nPrecondition: Not(in-taxi(curly, t0))\nEffects: (taxi-x(t0) <- taxi-x(t0) + 1,)\nSide Effects: (pass-x(smoov) <- pass-x(smoov) + 1,)\n\n['move-north', 'move-north-pass']\nPrecondition: Not(in-taxi(curly, t0))\nEffects: (taxi-y(t0) <- taxi-y(t0) + 1,)\nSide Effects: (pass-y(smoov) <- pass-y(smoov) + 1,)\n\n['move-south', 'move-south-pass']\nPrecondition: Not(in-taxi(curly, t0))\nEffects: (taxi-y(t0) <- taxi-y(t0) - 1,)\nSide Effects: (pass-y(smoov) <- pass-y(smoov) - 1,)\n\n['move-west', 'move-west-pass']\nPrecondition: Not(in-taxi(curly, t0))\nEffects: (taxi-x(t0) <- taxi-x(t0) - 1,)\nSide Effects: (pass-x(smoov) <- pass-x(smoov) - 1,)\n\ndropoff\nPrecondition: in-taxi(curly, t0)\nEffects: (in-taxi(curly, t0) <- False,)\nSide Effects: ()\n\nmove-east-pass\nPrecondition: And(in-taxi(curly, t0), Not(in-taxi(smoov, t0)))\nEffects: (pass-x(curly) <- pass-x(curly) + 1, taxi-x(t0) <- taxi-x(t0) + 1)\nSide Effects: ()\n\nmove-north-pass\nPrecondition: And(in-taxi(curly, t0), Not(in-taxi(smoov, t0)))\nEffects: (pass-y(curly) <- pass-y(curly) + 1, taxi-y(t0) <- taxi-y(t0) + 1)\nSide Effects: ()\n\nmove-south-pass\nPrecondition: And(in-taxi(curly, t0), Not(in-taxi(smoov, t0)))\nEffects: (pass-y(curly) <- pass-y(curly) - 1, taxi-y(t0) <- taxi-y(t0) - 1)\nSide Effects: ()\n\nmove-west-pass\nPrecondition: And(in-taxi(curly, t0), Not(in-taxi(smoov, t0)))\nEffects: (pass-x(curly) <- pass-x(curly) - 1, taxi-x(t0) <- taxi-x(t0) - 1)\nSide Effects: ()\n\npickup\nPrecondition: And(Not(in-taxi(curly, t0)),\n    Not(in-taxi(smoov, t0)),\n    pass-x(curly) == taxi-x(t0),\n    pass-y(curly) == taxi-y(t0))\nEffects: (in-taxi(curly, t0) <- True,)\nSide Effects: ()\n\n\n~~~~~~~~~~Pvars Rel~~~~~~~~~~\ndummy_goal\n\nin-taxi(curly, t0)\n\npass-x(curly)\n\npass-y(curly)\n\ntaxi-x(t0)\n\ntaxi-y(t0)\n(1.015868902206421, [])\n(examples/settlers/Settlers.pddl, examples/settlers/pfile1)\n(0.008314847946166992, Exception('Requirement :conditional-effects not supported'))\n(examples/settlers/Settlers.pddl, examples/settlers/pfile16)\n(0.0015506744384765625, Exception('Requirement :conditional-effects not supported'))\n(examples/Satellite/Numeric/adlmetricSat.pddl, examples/Satellite/Numeric/pfile9)\n(0.0012080669403076172, Exception('Requirement :conditional-effects not supported'))\n(examples/Satellite/Numeric/metricSat.pddl, examples/Satellite/Numeric/pfile9)\nParsed domain\n:metric is not recognized in problem\nParsed problem\n(0.0050830841064453125, ValueError(':metric makes the parser or scoper freeze'))\n(examples/Satellite/Strips/adlSat.pddl, examples/Satellite/Strips/pfile11)\n(0.0009579658508300781, Exception('Requirement :conditional-effects not supported'))\n(examples/Rovers/Numeric/NumRover.pddl, examples/Rovers/Numeric/pfile13)\nParsed domain\n:metric is not recognized in problem\nParsed problem\n(0.005449056625366211, ValueError(':metric makes the parser or scoper freeze'))\n(examples/freecell/free.pddl, examples/freecell/pfile13)\nParsed domain\nParsed problem\n"
    }
   ],
   "source": [
    "domprobs = [\n",
    "    (\"examples/existential-taxi/taxi-domain.pddl\", \"./examples/existential-taxi/prob-02.pddl\"),\n",
    "    (\"examples/settlers/Settlers.pddl\", \"examples/settlers/pfile1\"),\n",
    "    (\"examples/settlers/Settlers.pddl\",\"examples/settlers/pfile16\"),\n",
    "    (\"examples/Satellite/Numeric/adlmetricSat.pddl\",\"examples/Satellite/Numeric/pfile9\"),\n",
    "    (\"examples/Satellite/Numeric/metricSat.pddl\",\"examples/Satellite/Numeric/pfile9\"), #Bad freeze\n",
    "    (\"examples/Satellite/Strips/adlSat.pddl\", \"examples/Satellite/Strips/pfile11\"),\n",
    "    (\"examples/Rovers/Numeric/NumRover.pddl\", \"examples/Rovers/Numeric/pfile13\"),\n",
    "    (\"examples/freecell/free.pddl\", \"examples/freecell/pfile13\"),\n",
    "    (\"examples/dinner/dinner.pddl\", \"examples/dinner/pb1.pddl\"),\n",
    "    (\"examples/dwr/dwr.pddl\", \"examples/dwr/pb2.pddl\"),\n",
    "    (\"examples/blocksworld/blocksworld.pddl\", \"examples/blocksworld/pb4.pddl\")\n",
    "]\n",
    "for dom, prob in domprobs:\n",
    "    print(f\"({dom}, {prob})\")\n",
    "    start_time = time.time()\n",
    "    try:\n",
    "        rel, irrel = scope_file(dom, prob)\n",
    "        r = irrel\n",
    "    except Exception as e:\n",
    "        r = e\n",
    "    duration = time.time() - start_time\n",
    "    r = (duration, r)\n",
    "    print(r)\n",
    "    results[(dom, prob)] = r\n",
    "    "
   ]
  },
  {
   "cell_type": "code",
   "execution_count": 6,
   "metadata": {},
   "outputs": [
    {
     "output_type": "error",
     "ename": "FileNotFoundError",
     "evalue": "[Errno 2] No such file or directory: './scope_results.json'",
     "traceback": [
      "\u001b[0;31m---------------------------------------------------------------------------\u001b[0m",
      "\u001b[0;31mFileNotFoundError\u001b[0m                         Traceback (most recent call last)",
      "\u001b[0;32m<ipython-input-6-f846eed24921>\u001b[0m in \u001b[0;36m<module>\u001b[0;34m\u001b[0m\n\u001b[0;32m----> 1\u001b[0;31m \u001b[0;32mwith\u001b[0m \u001b[0mopen\u001b[0m\u001b[0;34m(\u001b[0m\u001b[0;34m\"./scope_results.json\"\u001b[0m\u001b[0;34m,\u001b[0m \u001b[0;34m\"r\"\u001b[0m\u001b[0;34m)\u001b[0m \u001b[0;32mas\u001b[0m \u001b[0mf\u001b[0m\u001b[0;34m:\u001b[0m\u001b[0;34m\u001b[0m\u001b[0;34m\u001b[0m\u001b[0m\n\u001b[0m\u001b[1;32m      2\u001b[0m     \u001b[0mjson\u001b[0m\u001b[0;34m.\u001b[0m\u001b[0mdump\u001b[0m\u001b[0;34m(\u001b[0m\u001b[0mresults\u001b[0m\u001b[0;34m,\u001b[0m \u001b[0mf\u001b[0m\u001b[0;34m,\u001b[0m \u001b[0mindent\u001b[0m\u001b[0;34m=\u001b[0m\u001b[0;36m4\u001b[0m\u001b[0;34m)\u001b[0m\u001b[0;34m\u001b[0m\u001b[0;34m\u001b[0m\u001b[0m\n",
      "\u001b[0;31mFileNotFoundError\u001b[0m: [Errno 2] No such file or directory: './scope_results.json'"
     ]
    }
   ],
   "source": [
    "with open(\"./scope_results.json\", \"r\") as f:\n",
    "    json.dump(results, f, indent=4)"
   ]
  }
 ]
}