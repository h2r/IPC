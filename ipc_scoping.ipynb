{
 "metadata": {
  "language_info": {
   "codemirror_mode": {
    "name": "ipython",
    "version": 3
   },
   "file_extension": ".py",
   "mimetype": "text/x-python",
   "name": "python",
   "nbconvert_exporter": "python",
   "pygments_lexer": "ipython3",
   "version": "3.7.7-final"
  },
  "orig_nbformat": 2,
  "kernelspec": {
   "name": "python_defaultSpec_1598568740599",
   "display_name": "Python 3.7.7 64-bit"
  }
 },
 "nbformat": 4,
 "nbformat_minor": 2,
 "cells": [
  {
   "cell_type": "code",
   "execution_count": 1,
   "metadata": {},
   "outputs": [],
   "source": [
    "%load_ext autoreload\n",
    "%autoreload 2"
   ]
  },
  {
   "cell_type": "code",
   "execution_count": 2,
   "metadata": {},
   "outputs": [],
   "source": [
    "from action import Action\n",
    "# from PDDL import PDDL_Parser\n",
    "from PDDLz3 import PDDL_Parser_z3\n",
    "import sys, pprint\n",
    "from collections import OrderedDict\n",
    "from typing import List, Tuple, Dict, Iterable\n",
    "import re, copy, json\n",
    "import itertools\n",
    "import z3\n",
    "from skill_classes import EffectTypePDDL, SkillPDDL\n",
    "from utils import product_dict, nested_list_replace, get_atoms, get_all_objects, condition_str2objects\n",
    "from scoping import scope\n",
    "import time"
   ]
  },
  {
   "cell_type": "code",
   "execution_count": 3,
   "metadata": {},
   "outputs": [],
   "source": [
    "def pvars2objects(pvars):\n",
    "    objs = condition_str2objects(map(str,pvars))\n",
    "    objs = [s.strip() for s in objs]\n",
    "    objs = sorted(list(set(objs)))\n",
    "    return objs"
   ]
  },
  {
   "cell_type": "code",
   "execution_count": 4,
   "metadata": {},
   "outputs": [],
   "source": [
    "def scope_file(domain, problem):\n",
    "    parser = PDDL_Parser_z3()\n",
    "    parser.parse_domain(domain)\n",
    "    parser.parse_problem(problem)\n",
    "    with open(problem, \"r\") as f:\n",
    "        if \":metric\" in f.read():\n",
    "            raise ValueError(\":metric makes the parser or scoper freeze\")\n",
    "\n",
    "    skill_list = parser.get_skills()\n",
    "\n",
    "    # This below block converts all the domain's goals to z3\n",
    "    goal_cond = parser.get_goal_cond()\n",
    "\n",
    "    # This below block converts all the domain's initial conditions to z3\n",
    "    init_cond_list = parser.get_init_cond_list()\n",
    "\n",
    "    # Run the scoper on the constructed goal, skills and initial condition\n",
    "    rel_pvars, rel_skills = scope(goals=goal_cond, skills=skill_list, start_condition=init_cond_list)\n",
    "\n",
    "    all_pvars = []\n",
    "    for s in skill_list:\n",
    "        all_pvars.extend(get_atoms(s.precondition))\n",
    "        all_pvars.extend(s.params)\n",
    "    all_objects = pvars2objects(all_pvars)\n",
    "    rel_objects = pvars2objects(rel_pvars)\n",
    "    irrel_objects = [x for x in all_objects if x not in rel_objects]\n",
    "    irrel_pvars = [str(x) for x in all_pvars if str(x) not in map(str, all_pvars)]\n",
    "\n",
    "    # return rel_objects, irrel_objects\n",
    "    return rel_pvars, irrel_pvars\n"
   ]
  },
  {
   "cell_type": "code",
   "execution_count": 5,
   "metadata": {},
   "outputs": [],
   "source": [
    "results = OrderedDict()"
   ]
  },
  {
   "cell_type": "code",
   "execution_count": 5,
   "metadata": {
    "tags": []
   },
   "outputs": [
    {
     "output_type": "stream",
     "name": "stdout",
     "text": "(examples/existential-taxi/taxi-domain.pddl, ./examples/existential-taxi/prob-02.pddl)\ntaxi time\n(1.0511178970336914, [])\n"
    },
    {
     "output_type": "error",
     "ename": "NameError",
     "evalue": "name 'results' is not defined",
     "traceback": [
      "\u001b[0;31m---------------------------------------------------------------------------\u001b[0m",
      "\u001b[0;31mNameError\u001b[0m                                 Traceback (most recent call last)",
      "\u001b[0;32m<ipython-input-5-785a34963fd5>\u001b[0m in \u001b[0;36m<module>\u001b[0;34m\u001b[0m\n\u001b[1;32m     23\u001b[0m     \u001b[0mr\u001b[0m \u001b[0;34m=\u001b[0m \u001b[0;34m(\u001b[0m\u001b[0mduration\u001b[0m\u001b[0;34m,\u001b[0m \u001b[0mr\u001b[0m\u001b[0;34m)\u001b[0m\u001b[0;34m\u001b[0m\u001b[0;34m\u001b[0m\u001b[0m\n\u001b[1;32m     24\u001b[0m     \u001b[0mprint\u001b[0m\u001b[0;34m(\u001b[0m\u001b[0mr\u001b[0m\u001b[0;34m)\u001b[0m\u001b[0;34m\u001b[0m\u001b[0;34m\u001b[0m\u001b[0m\n\u001b[0;32m---> 25\u001b[0;31m     \u001b[0mresults\u001b[0m\u001b[0;34m[\u001b[0m\u001b[0;34m(\u001b[0m\u001b[0mdom\u001b[0m\u001b[0;34m,\u001b[0m \u001b[0mprob\u001b[0m\u001b[0;34m)\u001b[0m\u001b[0;34m]\u001b[0m \u001b[0;34m=\u001b[0m \u001b[0mr\u001b[0m\u001b[0;34m\u001b[0m\u001b[0;34m\u001b[0m\u001b[0m\n\u001b[0m\u001b[1;32m     26\u001b[0m \u001b[0;34m\u001b[0m\u001b[0m\n",
      "\u001b[0;31mNameError\u001b[0m: name 'results' is not defined"
     ]
    }
   ],
   "source": [
    "domprobs = [\n",
    "    (\"examples/existential-taxi/taxi-domain.pddl\", \"./examples/existential-taxi/prob-02.pddl\"),\n",
    "    (\"examples/settlers/Settlers.pddl\", \"examples/settlers/pfile1\"),\n",
    "    (\"examples/settlers/Settlers.pddl\",\"examples/settlers/pfile16\"),\n",
    "    (\"examples/Satellite/Numeric/adlmetricSat.pddl\",\"examples/Satellite/Numeric/pfile9\"),\n",
    "    (\"examples/Satellite/Numeric/metricSat.pddl\",\"examples/Satellite/Numeric/pfile9\"), #Bad freeze\n",
    "    (\"examples/Satellite/Strips/adlSat.pddl\", \"examples/Satellite/Strips/pfile11\"),\n",
    "    (\"examples/Rovers/Numeric/NumRover.pddl\", \"examples/Rovers/Numeric/pfile13\"),\n",
    "    (\"examples/freecell/free.pddl\", \"examples/freecell/pfile13\"),\n",
    "    (\"examples/dinner/dinner.pddl\", \"examples/dinner/pb1.pddl\"),\n",
    "    (\"examples/dwr/dwr.pddl\", \"examples/dwr/pb2.pddl\"),\n",
    "    (\"examples/blocksworld/blocksworld.pddl\", \"examples/blocksworld/pb4.pddl\")\n",
    "]\n",
    "for dom, prob in domprobs:\n",
    "    print(f\"({dom}, {prob})\")\n",
    "    start_time = time.time()\n",
    "    try:\n",
    "        rel, irrel = scope_file(dom, prob)\n",
    "        r = irrel\n",
    "    except Exception as e:\n",
    "        r = e\n",
    "    duration = time.time() - start_time\n",
    "    r = (duration, r)\n",
    "    print(r)\n",
    "    results[(dom, prob)] = r\n",
    "    "
   ]
  },
  {
   "cell_type": "code",
   "execution_count": 6,
   "metadata": {},
   "outputs": [
    {
     "output_type": "error",
     "ename": "FileNotFoundError",
     "evalue": "[Errno 2] No such file or directory: './scope_results.json'",
     "traceback": [
      "\u001b[0;31m---------------------------------------------------------------------------\u001b[0m",
      "\u001b[0;31mFileNotFoundError\u001b[0m                         Traceback (most recent call last)",
      "\u001b[0;32m<ipython-input-6-f846eed24921>\u001b[0m in \u001b[0;36m<module>\u001b[0;34m\u001b[0m\n\u001b[0;32m----> 1\u001b[0;31m \u001b[0;32mwith\u001b[0m \u001b[0mopen\u001b[0m\u001b[0;34m(\u001b[0m\u001b[0;34m\"./scope_results.json\"\u001b[0m\u001b[0;34m,\u001b[0m \u001b[0;34m\"r\"\u001b[0m\u001b[0;34m)\u001b[0m \u001b[0;32mas\u001b[0m \u001b[0mf\u001b[0m\u001b[0;34m:\u001b[0m\u001b[0;34m\u001b[0m\u001b[0;34m\u001b[0m\u001b[0m\n\u001b[0m\u001b[1;32m      2\u001b[0m     \u001b[0mjson\u001b[0m\u001b[0;34m.\u001b[0m\u001b[0mdump\u001b[0m\u001b[0;34m(\u001b[0m\u001b[0mresults\u001b[0m\u001b[0;34m,\u001b[0m \u001b[0mf\u001b[0m\u001b[0;34m,\u001b[0m \u001b[0mindent\u001b[0m\u001b[0;34m=\u001b[0m\u001b[0;36m4\u001b[0m\u001b[0;34m)\u001b[0m\u001b[0;34m\u001b[0m\u001b[0;34m\u001b[0m\u001b[0m\n",
      "\u001b[0;31mFileNotFoundError\u001b[0m: [Errno 2] No such file or directory: './scope_results.json'"
     ]
    }
   ],
   "source": [
    "with open(\"./scope_results.json\", \"r\") as f:\n",
    "    json.dump(results, f, indent=4)"
   ]
  },
  {
   "cell_type": "code",
   "execution_count": 7,
   "metadata": {},
   "outputs": [
    {
     "output_type": "execute_result",
     "data": {
      "text/plain": "5"
     },
     "metadata": {},
     "execution_count": 7
    }
   ],
   "source": [
    "5"
   ]
  },
  {
   "cell_type": "code",
   "execution_count": null,
   "metadata": {},
   "outputs": [],
   "source": []
  }
 ]
}