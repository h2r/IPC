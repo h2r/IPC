{
 "metadata": {
  "language_info": {
   "codemirror_mode": {
    "name": "ipython",
    "version": 3
   },
   "file_extension": ".py",
   "mimetype": "text/x-python",
   "name": "python",
   "nbconvert_exporter": "python",
   "pygments_lexer": "ipython3",
   "version": "3.7.7-final"
  },
  "orig_nbformat": 2,
  "kernelspec": {
   "name": "python_defaultSpec_1597613949357",
   "display_name": "Python 3.7.7 64-bit ('scoping': conda)"
  }
 },
 "nbformat": 4,
 "nbformat_minor": 2,
 "cells": [
  {
   "cell_type": "code",
   "execution_count": 1,
   "metadata": {},
   "outputs": [],
   "source": [
    "%load_ext autoreload\n",
    "%autoreload 2"
   ]
  },
  {
   "cell_type": "code",
   "execution_count": 2,
   "metadata": {},
   "outputs": [],
   "source": [
    "from PDDL import PDDL_Parser"
   ]
  },
  {
   "cell_type": "code",
   "execution_count": 3,
   "metadata": {},
   "outputs": [],
   "source": [
    "zeno_dom = \"examples/zeno/zeno.pddl\"\n",
    "zeno_prob = \"examples/zeno/pb1.pddl\""
   ]
  },
  {
   "cell_type": "code",
   "execution_count": 4,
   "metadata": {},
   "outputs": [],
   "source": [
    "def remove_objects(input_path, output_path, objects):\n",
    "    with open(input_path, \"r\") as f:\n",
    "        instance_lines = f.read().splitlines()\n",
    "    scoped_lines = []\n",
    "    for l in instance_lines:\n",
    "        if not any(o in l for o in objects):\n",
    "            scoped_lines.append(l)\n",
    "    with open(output_path, \"w\")  as f:\n",
    "        f.write(\"\\n\".join(scoped_lines))\n"
   ]
  },
  {
   "cell_type": "code",
   "execution_count": 5,
   "metadata": {},
   "outputs": [],
   "source": [
    "remove_objects(zeno_prob, \"examples/zeno/pb1_sans_p2_p3_c1.pddl\", [\"person2\", \"city1\", \"person3\"])"
   ]
  },
  {
   "cell_type": "code",
   "execution_count": null,
   "metadata": {},
   "outputs": [],
   "source": []
  }
 ]
}