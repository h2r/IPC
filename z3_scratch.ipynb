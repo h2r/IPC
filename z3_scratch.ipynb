{
 "metadata": {
  "language_info": {
   "codemirror_mode": {
    "name": "ipython",
    "version": 3
   },
   "file_extension": ".py",
   "mimetype": "text/x-python",
   "name": "python",
   "nbconvert_exporter": "python",
   "pygments_lexer": "ipython3",
   "version": "3.7.7-final"
  },
  "orig_nbformat": 2,
  "kernelspec": {
   "name": "python_defaultSpec_1598722692597",
   "display_name": "Python 3.7.7 64-bit ('scoping': conda)"
  }
 },
 "nbformat": 4,
 "nbformat_minor": 2,
 "cells": [
  {
   "cell_type": "code",
   "execution_count": 1,
   "metadata": {},
   "outputs": [],
   "source": [
    "%load_ext autoreload\n",
    "%autoreload 2"
   ]
  },
  {
   "cell_type": "code",
   "execution_count": 4,
   "metadata": {},
   "outputs": [],
   "source": [
    "import re, copy, itertools, z3, time, sys, pprint\n",
    "from action import Action\n",
    "from PDDLz3 import PDDL_Parser_z3, compile_expression, str2expression, extract_typed_objects\n",
    "from collections import OrderedDict\n",
    "from typing import List, Tuple, Dict, Iterable\n",
    "from skill_classes import EffectTypePDDL, SkillPDDL\n",
    "from utils import product_dict, nested_list_replace, get_atoms, get_all_objects, condition_str2objects\n",
    "from scoping import scope"
   ]
  },
  {
   "cell_type": "code",
   "execution_count": null,
   "metadata": {},
   "outputs": [],
   "source": [
    "[\"aig\", \"simplify\", \"sat\"]"
   ]
  }
 ]
}