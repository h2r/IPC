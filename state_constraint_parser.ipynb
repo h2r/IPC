{
 "metadata": {
  "language_info": {
   "codemirror_mode": {
    "name": "ipython",
    "version": 3
   },
   "file_extension": ".py",
   "mimetype": "text/x-python",
   "name": "python",
   "nbconvert_exporter": "python",
   "pygments_lexer": "ipython3",
   "version": "3.7.7-final"
  },
  "orig_nbformat": 2,
  "kernelspec": {
   "name": "python_defaultSpec_1598717318111",
   "display_name": "Python 3.7.7 64-bit ('scoping': conda)"
  }
 },
 "nbformat": 4,
 "nbformat_minor": 2,
 "cells": [
  {
   "cell_type": "code",
   "execution_count": 1,
   "metadata": {
    "tags": []
   },
   "outputs": [],
   "source": [
    "%load_ext autoreload\n",
    "%autoreload 2"
   ]
  },
  {
   "cell_type": "code",
   "execution_count": 2,
   "metadata": {},
   "outputs": [],
   "source": [
    "import re, copy, itertools, z3, time, sys, pprint"
   ]
  },
  {
   "cell_type": "code",
   "execution_count": 19,
   "metadata": {},
   "outputs": [],
   "source": [
    "from action import Action\n",
    "from PDDLz3 import PDDL_Parser_z3, compile_expression, condition2expression, extract_typed_objects\n",
    "from collections import OrderedDict\n",
    "from typing import List, Tuple, Dict, Iterable\n",
    "from skill_classes import EffectTypePDDL, SkillPDDL\n",
    "from utils import product_dict, nested_list_replace, get_atoms, get_all_objects, condition_str2objects\n",
    "from scoping import scope"
   ]
  },
  {
   "cell_type": "code",
   "execution_count": 4,
   "metadata": {},
   "outputs": [],
   "source": [
    "pp = pprint.PrettyPrinter(indent=4)"
   ]
  },
  {
   "cell_type": "code",
   "execution_count": 5,
   "metadata": {},
   "outputs": [],
   "source": [
    "pp = pprint.PrettyPrinter(indent=4)"
   ]
  },
  {
   "cell_type": "code",
   "execution_count": 6,
   "metadata": {},
   "outputs": [
    {
     "output_type": "execute_result",
     "data": {
      "text/plain": "33"
     },
     "metadata": {},
     "execution_count": 6
    }
   ],
   "source": [
    "33"
   ]
  },
  {
   "cell_type": "code",
   "execution_count": 7,
   "metadata": {},
   "outputs": [],
   "source": [
    "constraint_s = \"\"\"(\n",
    "\tforall (?t - taxi ?p0, ?p1 - passenger) \n",
    "\t(not\n",
    "\t\t(and\n",
    "\t\t\t(\n",
    "    \t\t\t(in-taxi ?p0) (in-taxi ?p1) (not (?p0 = ?p1))\n",
    "    \t\t)\n",
    "    \t)\n",
    "    )\n",
    ")\"\"\""
   ]
  },
  {
   "cell_type": "code",
   "execution_count": 10,
   "metadata": {},
   "outputs": [],
   "source": [
    "def parse_tokens2(my_str):\n",
    "    stack = []\n",
    "    l2 = []\n",
    "    for t in re.findall(r'[()]|[^\\s()]+', my_str):\n",
    "        if t == '(':\n",
    "            stack.append(l2)\n",
    "            l2 = []\n",
    "        elif t == ')':\n",
    "            if stack:\n",
    "                l = l2\n",
    "                l2 = stack.pop()\n",
    "                l2.append(l)\n",
    "            else:\n",
    "                raise Exception('Missing open parentheses')\n",
    "        else:\n",
    "            l2.append(t)\n",
    "    if stack:\n",
    "        raise Exception('Missing close parentheses')\n",
    "    if len(l2) != 1:\n",
    "        raise Exception('Malformed expression')\n",
    "    return l2[0]\n",
    "def split_predicates2(group):\n",
    "    pos = []\n",
    "    neg = []\n",
    "    if not type(group) is list:\n",
    "        raise Exception('Error with ')\n",
    "    if group == []:\n",
    "        # pass\n",
    "        return\n",
    "        # from IPython import embed; embed()\n",
    "    if group[0] == 'and':\n",
    "        group.pop(0)\n",
    "    else:\n",
    "        group = [group]\n",
    "    for predicate in group:\n",
    "        if predicate[0] == 'not':\n",
    "            if len(predicate) != 2:\n",
    "                raise Exception('Unexpected not in ')\n",
    "            neg.append(predicate[-1])\n",
    "        else:\n",
    "            pos.append(predicate)\n",
    "    return pos, neg"
   ]
  },
  {
   "cell_type": "code",
   "execution_count": 14,
   "metadata": {
    "tags": []
   },
   "outputs": [
    {
     "output_type": "stream",
     "name": "stdout",
     "text": "[   'forall',\n    ['?t', '-', 'taxi', '?p0,', '?p1', '-', 'passenger'],\n    [   'not',\n        [   'and',\n            [   ['in-taxi', '?p0'],\n                ['in-taxi', '?p1'],\n                ['not', ['?p0', '=', '?p1']]]]]]\n[   [   'forall',\n        ['?t', '-', 'taxi', '?p0,', '?p1', '-', 'passenger'],\n        [   'not',\n            [   'and',\n                [   ['in-taxi', '?p0'],\n                    ['in-taxi', '?p1'],\n                    ['not', ['?p0', '=', '?p1']]]]]]]\n"
    }
   ],
   "source": [
    "tokens = parse_tokens2(constraint_s)\n",
    "pp.pprint(tokens)\n",
    "pos, neg = split_predicates2(tokens)\n",
    "pp.pprint(pos)"
   ]
  },
  {
   "cell_type": "code",
   "execution_count": 15,
   "metadata": {},
   "outputs": [],
   "source": [
    "domain, problem = \"examples/taxi-state-constraint/taxi-domain.pddl\", \"examples/taxi-state-constraint/prob-02.pddl\"\n",
    "\n",
    "parser = PDDL_Parser_z3()\n",
    "parser.parse_domain(domain)\n",
    "parser.parse_problem(problem)"
   ]
  },
  {
   "cell_type": "code",
   "execution_count": 32,
   "metadata": {},
   "outputs": [
    {
     "output_type": "error",
     "ename": "ValueError",
     "evalue": "Don't understand how to compile: ['and', [['in-taxi', '?p0'], ['in-taxi', 'curly'], ['not', ['?p0', '=', 'curly']]]]",
     "traceback": [
      "\u001b[0;31m---------------------------------------------------------------------------\u001b[0m",
      "\u001b[0;31mValueError\u001b[0m                                Traceback (most recent call last)",
      "\u001b[0;32m<ipython-input-32-13f5585f3860>\u001b[0m in \u001b[0;36m<module>\u001b[0;34m\u001b[0m\n\u001b[0;32m----> 1\u001b[0;31m \u001b[0mcompile_expression\u001b[0m\u001b[0;34m(\u001b[0m\u001b[0mpos\u001b[0m\u001b[0;34m[\u001b[0m\u001b[0;36m0\u001b[0m\u001b[0;34m]\u001b[0m\u001b[0;34m,\u001b[0m \u001b[0mparser\u001b[0m\u001b[0;34m.\u001b[0m\u001b[0mmake_str2var_dict\u001b[0m\u001b[0;34m(\u001b[0m\u001b[0;34m)\u001b[0m\u001b[0;34m,\u001b[0m \u001b[0mparser\u001b[0m\u001b[0;34m)\u001b[0m\u001b[0;34m\u001b[0m\u001b[0;34m\u001b[0m\u001b[0m\n\u001b[0m",
      "\u001b[0;32m~/repos/scoping/OO-Scoping-IPC/PDDLz3.py\u001b[0m in \u001b[0;36mcompile_expression\u001b[0;34m(expr, str_var_dict, parser)\u001b[0m\n\u001b[1;32m    189\u001b[0m \u001b[0;34m\u001b[0m\u001b[0m\n\u001b[1;32m    190\u001b[0m                 \u001b[0;31m# Compile the grounded subexpressions\u001b[0m\u001b[0;34m\u001b[0m\u001b[0;34m\u001b[0m\u001b[0;34m\u001b[0m\u001b[0m\n\u001b[0;32m--> 191\u001b[0;31m                 \u001b[0mcompiled_subexpressions\u001b[0m \u001b[0;34m=\u001b[0m \u001b[0;34m[\u001b[0m\u001b[0mcompile_expression\u001b[0m\u001b[0;34m(\u001b[0m\u001b[0mx\u001b[0m\u001b[0;34m,\u001b[0m \u001b[0mstr_var_dict\u001b[0m\u001b[0;34m,\u001b[0m \u001b[0mparser\u001b[0m\u001b[0;34m)\u001b[0m \u001b[0;32mfor\u001b[0m \u001b[0mx\u001b[0m \u001b[0;32min\u001b[0m \u001b[0msubexpr_groundings\u001b[0m\u001b[0;34m]\u001b[0m\u001b[0;34m\u001b[0m\u001b[0;34m\u001b[0m\u001b[0m\n\u001b[0m\u001b[1;32m    192\u001b[0m                 \u001b[0;31m# Combine the compiled subexpressions\u001b[0m\u001b[0;34m\u001b[0m\u001b[0;34m\u001b[0m\u001b[0;34m\u001b[0m\u001b[0m\n\u001b[1;32m    193\u001b[0m                 \u001b[0mcombinator\u001b[0m \u001b[0;34m=\u001b[0m \u001b[0;34m{\u001b[0m\u001b[0;34m\"forall\"\u001b[0m\u001b[0;34m:\u001b[0m\u001b[0mz3\u001b[0m\u001b[0;34m.\u001b[0m\u001b[0mAnd\u001b[0m\u001b[0;34m,\u001b[0m \u001b[0;34m\"exists\"\u001b[0m\u001b[0;34m:\u001b[0m\u001b[0mz3\u001b[0m\u001b[0;34m.\u001b[0m\u001b[0mOr\u001b[0m\u001b[0;34m}\u001b[0m\u001b[0;34m[\u001b[0m\u001b[0mquantifier\u001b[0m\u001b[0;34m]\u001b[0m\u001b[0;34m\u001b[0m\u001b[0;34m\u001b[0m\u001b[0m\n",
      "\u001b[0;32m~/repos/scoping/OO-Scoping-IPC/PDDLz3.py\u001b[0m in \u001b[0;36m<listcomp>\u001b[0;34m(.0)\u001b[0m\n\u001b[1;32m    189\u001b[0m \u001b[0;34m\u001b[0m\u001b[0m\n\u001b[1;32m    190\u001b[0m                 \u001b[0;31m# Compile the grounded subexpressions\u001b[0m\u001b[0;34m\u001b[0m\u001b[0;34m\u001b[0m\u001b[0;34m\u001b[0m\u001b[0m\n\u001b[0;32m--> 191\u001b[0;31m                 \u001b[0mcompiled_subexpressions\u001b[0m \u001b[0;34m=\u001b[0m \u001b[0;34m[\u001b[0m\u001b[0mcompile_expression\u001b[0m\u001b[0;34m(\u001b[0m\u001b[0mx\u001b[0m\u001b[0;34m,\u001b[0m \u001b[0mstr_var_dict\u001b[0m\u001b[0;34m,\u001b[0m \u001b[0mparser\u001b[0m\u001b[0;34m)\u001b[0m \u001b[0;32mfor\u001b[0m \u001b[0mx\u001b[0m \u001b[0;32min\u001b[0m \u001b[0msubexpr_groundings\u001b[0m\u001b[0;34m]\u001b[0m\u001b[0;34m\u001b[0m\u001b[0;34m\u001b[0m\u001b[0m\n\u001b[0m\u001b[1;32m    192\u001b[0m                 \u001b[0;31m# Combine the compiled subexpressions\u001b[0m\u001b[0;34m\u001b[0m\u001b[0;34m\u001b[0m\u001b[0;34m\u001b[0m\u001b[0m\n\u001b[1;32m    193\u001b[0m                 \u001b[0mcombinator\u001b[0m \u001b[0;34m=\u001b[0m \u001b[0;34m{\u001b[0m\u001b[0;34m\"forall\"\u001b[0m\u001b[0;34m:\u001b[0m\u001b[0mz3\u001b[0m\u001b[0;34m.\u001b[0m\u001b[0mAnd\u001b[0m\u001b[0;34m,\u001b[0m \u001b[0;34m\"exists\"\u001b[0m\u001b[0;34m:\u001b[0m\u001b[0mz3\u001b[0m\u001b[0;34m.\u001b[0m\u001b[0mOr\u001b[0m\u001b[0;34m}\u001b[0m\u001b[0;34m[\u001b[0m\u001b[0mquantifier\u001b[0m\u001b[0;34m]\u001b[0m\u001b[0;34m\u001b[0m\u001b[0;34m\u001b[0m\u001b[0m\n",
      "\u001b[0;32m~/repos/scoping/OO-Scoping-IPC/PDDLz3.py\u001b[0m in \u001b[0;36mcompile_expression\u001b[0;34m(expr, str_var_dict, parser)\u001b[0m\n\u001b[1;32m    166\u001b[0m             \u001b[0;31m# The only length 2 expression we can compile is ['not', [subexpression]]\u001b[0m\u001b[0;34m\u001b[0m\u001b[0;34m\u001b[0m\u001b[0;34m\u001b[0m\u001b[0m\n\u001b[1;32m    167\u001b[0m             \u001b[0;32mif\u001b[0m \u001b[0mexpr\u001b[0m\u001b[0;34m[\u001b[0m\u001b[0;36m0\u001b[0m\u001b[0;34m]\u001b[0m \u001b[0;34m==\u001b[0m \u001b[0;34m\"not\"\u001b[0m\u001b[0;34m:\u001b[0m\u001b[0;34m\u001b[0m\u001b[0;34m\u001b[0m\u001b[0m\n\u001b[0;32m--> 168\u001b[0;31m                 \u001b[0;32mreturn\u001b[0m \u001b[0mz3\u001b[0m\u001b[0;34m.\u001b[0m\u001b[0mNot\u001b[0m\u001b[0;34m(\u001b[0m\u001b[0mcompile_expression\u001b[0m\u001b[0;34m(\u001b[0m\u001b[0mexpr\u001b[0m\u001b[0;34m[\u001b[0m\u001b[0;36m1\u001b[0m\u001b[0;34m]\u001b[0m\u001b[0;34m,\u001b[0m \u001b[0mstr_var_dict\u001b[0m\u001b[0;34m,\u001b[0m \u001b[0mparser\u001b[0m\u001b[0;34m)\u001b[0m\u001b[0;34m)\u001b[0m\u001b[0;34m\u001b[0m\u001b[0;34m\u001b[0m\u001b[0m\n\u001b[0m\u001b[1;32m    169\u001b[0m             \u001b[0;32melse\u001b[0m\u001b[0;34m:\u001b[0m\u001b[0;34m\u001b[0m\u001b[0;34m\u001b[0m\u001b[0m\n\u001b[1;32m    170\u001b[0m                 \u001b[0;32mraise\u001b[0m \u001b[0mValueError\u001b[0m\u001b[0;34m(\u001b[0m\u001b[0;34mf\"Don't understand how to compile: {expr}\"\u001b[0m\u001b[0;34m)\u001b[0m\u001b[0;34m\u001b[0m\u001b[0;34m\u001b[0m\u001b[0m\n",
      "\u001b[0;32m~/repos/scoping/OO-Scoping-IPC/PDDLz3.py\u001b[0m in \u001b[0;36mcompile_expression\u001b[0;34m(expr, str_var_dict, parser)\u001b[0m\n\u001b[1;32m    168\u001b[0m                 \u001b[0;32mreturn\u001b[0m \u001b[0mz3\u001b[0m\u001b[0;34m.\u001b[0m\u001b[0mNot\u001b[0m\u001b[0;34m(\u001b[0m\u001b[0mcompile_expression\u001b[0m\u001b[0;34m(\u001b[0m\u001b[0mexpr\u001b[0m\u001b[0;34m[\u001b[0m\u001b[0;36m1\u001b[0m\u001b[0;34m]\u001b[0m\u001b[0;34m,\u001b[0m \u001b[0mstr_var_dict\u001b[0m\u001b[0;34m,\u001b[0m \u001b[0mparser\u001b[0m\u001b[0;34m)\u001b[0m\u001b[0;34m)\u001b[0m\u001b[0;34m\u001b[0m\u001b[0;34m\u001b[0m\u001b[0m\n\u001b[1;32m    169\u001b[0m             \u001b[0;32melse\u001b[0m\u001b[0;34m:\u001b[0m\u001b[0;34m\u001b[0m\u001b[0;34m\u001b[0m\u001b[0m\n\u001b[0;32m--> 170\u001b[0;31m                 \u001b[0;32mraise\u001b[0m \u001b[0mValueError\u001b[0m\u001b[0;34m(\u001b[0m\u001b[0;34mf\"Don't understand how to compile: {expr}\"\u001b[0m\u001b[0;34m)\u001b[0m\u001b[0;34m\u001b[0m\u001b[0;34m\u001b[0m\u001b[0m\n\u001b[0m\u001b[1;32m    171\u001b[0m         \u001b[0;32melse\u001b[0m\u001b[0;34m:\u001b[0m\u001b[0;34m\u001b[0m\u001b[0;34m\u001b[0m\u001b[0m\n\u001b[1;32m    172\u001b[0m             \u001b[0;31m# assert len(expr) == 3, f\"Don't understand how to compile: {expr}\"\u001b[0m\u001b[0;34m\u001b[0m\u001b[0;34m\u001b[0m\u001b[0;34m\u001b[0m\u001b[0m\n",
      "\u001b[0;31mValueError\u001b[0m: Don't understand how to compile: ['and', [['in-taxi', '?p0'], ['in-taxi', 'curly'], ['not', ['?p0', '=', 'curly']]]]"
     ]
    }
   ],
   "source": [
    "compile_expression(pos[0], parser.make_str2var_dict(), parser)"
   ]
  },
  {
   "cell_type": "code",
   "execution_count": 9,
   "metadata": {},
   "outputs": [
    {
     "output_type": "error",
     "ename": "NameError",
     "evalue": "name 'condition2expression' is not defined",
     "traceback": [
      "\u001b[0;31m---------------------------------------------------------------------------\u001b[0m",
      "\u001b[0;31mNameError\u001b[0m                                 Traceback (most recent call last)",
      "\u001b[0;32m<ipython-input-9-edaa87db55f2>\u001b[0m in \u001b[0;36m<module>\u001b[0;34m\u001b[0m\n\u001b[0;32m----> 1\u001b[0;31m \u001b[0mconstraint_expr\u001b[0m \u001b[0;34m=\u001b[0m \u001b[0mcondition2expression\u001b[0m\u001b[0;34m(\u001b[0m\u001b[0mconstraint_s\u001b[0m\u001b[0;34m,\u001b[0m \u001b[0mparser\u001b[0m\u001b[0;34m)\u001b[0m\u001b[0;34m\u001b[0m\u001b[0;34m\u001b[0m\u001b[0m\n\u001b[0m",
      "\u001b[0;31mNameError\u001b[0m: name 'condition2expression' is not defined"
     ]
    }
   ],
   "source": [
    "constraint_expr = condition2expression(constraint_s, parser)"
   ]
  },
  {
   "cell_type": "code",
   "execution_count": 31,
   "metadata": {
    "tags": []
   },
   "outputs": [
    {
     "output_type": "stream",
     "name": "stdout",
     "text": "['?t', '-', 'taxi', '?p0,', '?p1', '-', 'passenger']\n"
    },
    {
     "output_type": "execute_result",
     "data": {
      "text/plain": "OrderedDict([('?t', 'taxi'), ('?p0,', 'passenger'), ('?p1', 'passenger')])"
     },
     "metadata": {},
     "execution_count": 31
    }
   ],
   "source": [
    "print(pos[0][1])\n",
    "extract_typed_objects(pos[0][1])"
   ]
  },
  {
   "cell_type": "code",
   "execution_count": null,
   "metadata": {},
   "outputs": [],
   "source": []
  }
 ]
}