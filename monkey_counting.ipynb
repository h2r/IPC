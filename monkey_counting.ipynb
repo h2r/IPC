{
 "metadata": {
  "language_info": {
   "codemirror_mode": {
    "name": "ipython",
    "version": 3
   },
   "file_extension": ".py",
   "mimetype": "text/x-python",
   "name": "python",
   "nbconvert_exporter": "python",
   "pygments_lexer": "ipython3",
   "version": "3.6.10-final"
  },
  "orig_nbformat": 2,
  "kernelspec": {
   "name": "python3",
   "display_name": "Python 3"
  }
 },
 "nbformat": 4,
 "nbformat_minor": 2,
 "cells": [
  {
   "cell_type": "code",
   "execution_count": 5,
   "metadata": {
    "tags": []
   },
   "outputs": [
    {
     "output_type": "stream",
     "name": "stdout",
     "text": "The autoreload extension is already loaded. To reload it, use:\n  %reload_ext autoreload\n"
    }
   ],
   "source": [
    "%load_ext autoreload\n",
    "%autoreload 2"
   ]
  },
  {
   "cell_type": "code",
   "execution_count": 6,
   "metadata": {},
   "outputs": [],
   "source": [
    "import math"
   ]
  },
  {
   "cell_type": "code",
   "execution_count": 16,
   "metadata": {},
   "outputs": [],
   "source": [
    "n_buttons = 9 # pairs of buttons\n",
    "n_lightswitches = 9\n",
    "n_monkeys = 1\n",
    "n_eyes = 1\n",
    "n_hands = 1\n",
    "n_markers = 1\n",
    "n_balls = 1\n",
    "n_bells = 1\n",
    "x_min, x_max = 0, 79\n",
    "y_min, y_max = 0, 79\n",
    "n_x = x_max - x_min + 1\n",
    "n_y = y_max - y_min + 1"
   ]
  },
  {
   "cell_type": "code",
   "execution_count": 17,
   "metadata": {
    "tags": []
   },
   "outputs": [
    {
     "output_type": "stream",
     "name": "stdout",
     "text": "3.5184372088832e+21\n"
    }
   ],
   "source": [
    "# There are no state constraints, so the state space is the product of the state space of each variable\n",
    "n_movable = n_eyes + n_hands + n_markers + n_balls #Number of movable objects\n",
    "n_positions = n_x * n_y #Number of ways of placing each movable object\n",
    "n_superpositions = math.pow(n_positions, n_movable) #Number of ways of placing all movable objects\n",
    "n_toggleable = n_lightswitches + n_buttons + n_monkeys #Number of binary variables\n",
    "# n_switch_io = math.pow(n_lightswitches, 2)\n",
    "# n_button_io = math.pow(n_buttons, 2)\n",
    "# n_screaming = math.pow(n_monkeys, 2)\n",
    "n_toggle_bitstrings = math.pow(2, n_toggleable) #Number of ways of setting all binary variables\n",
    "n_states = n_movable * n_superpositions * n_toggle_bitstrings #Total number of states\n",
    "print(n_states)"
   ]
  },
  {
   "cell_type": "code",
   "execution_count": null,
   "metadata": {},
   "outputs": [],
   "source": []
  }
 ]
}