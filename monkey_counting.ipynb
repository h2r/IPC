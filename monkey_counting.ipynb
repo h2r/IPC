{
 "metadata": {
  "orig_nbformat": 2,
  "kernelspec": {
   "name": "python3",
   "display_name": "Python 3"
  }
 },
 "nbformat": 4,
 "nbformat_minor": 2,
 "cells": [
  {
   "cell_type": "code",
   "execution_count": 3,
   "metadata": {
    "tags": []
   },
   "outputs": [],
   "source": [
    "%load_ext autoreload\n",
    "%autoreload 2"
   ]
  },
  {
   "cell_type": "code",
   "execution_count": 4,
   "metadata": {},
   "outputs": [],
   "source": [
    "import math"
   ]
  },
  {
   "cell_type": "code",
   "execution_count": 9,
   "metadata": {},
   "outputs": [],
   "source": [
    "n_buttons = 0 # pairs of buttons\n",
    "n_lightswitches = 0\n",
    "n_monkeys = 1\n",
    "n_eyes = 1\n",
    "n_hands = 1\n",
    "n_markers = 1\n",
    "n_balls = 1\n",
    "n_bells = 1\n",
    "x_min, x_max = 0, 800\n",
    "y_min, y_max = 0, 800\n",
    "n_x = x_max - x_min + 1\n",
    "n_y = y_max - y_min + 1"
   ]
  },
  {
   "cell_type": "code",
   "execution_count": 10,
   "metadata": {
    "tags": []
   },
   "outputs": [
    {
     "output_type": "stream",
     "name": "stdout",
     "text": "1.3556579200862455e+24\n"
    }
   ],
   "source": [
    "# There are no state constraints, so the state space is the product of the state space of each variable\n",
    "n_movable = n_eyes + n_hands + n_markers + n_balls #Number of movable objects\n",
    "n_positions = n_x * n_y #Number of ways of placing each movable object\n",
    "n_superpositions = math.pow(n_positions, n_movable) #Number of ways of placing all movable objects\n",
    "n_toggleable = n_lightswitches + n_buttons + n_monkeys #Number of binary variables\n",
    "# n_switch_io = math.pow(n_lightswitches, 2)\n",
    "# n_button_io = math.pow(n_buttons, 2)\n",
    "# n_screaming = math.pow(n_monkeys, 2)\n",
    "n_toggle_bitstrings = math.pow(2, n_toggleable) #Number of ways of setting all binary variables\n",
    "n_states = n_movable * n_superpositions * n_toggle_bitstrings #Total number of states\n",
    "print(n_states)"
   ]
  },
  {
   "cell_type": "markdown",
   "metadata": {},
   "source": []
  },
  {
   "cell_type": "code",
   "execution_count": null,
   "metadata": {},
   "outputs": [],
   "source": []
  }
 ]
}